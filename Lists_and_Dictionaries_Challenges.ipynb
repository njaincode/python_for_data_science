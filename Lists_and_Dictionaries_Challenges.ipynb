{
  "nbformat": 4,
  "nbformat_minor": 0,
  "metadata": {
    "colab": {
      "name": "Copy of Lists and Dictionaries Challenges.ipynb",
      "provenance": [],
      "collapsed_sections": [],
      "toc_visible": true,
      "include_colab_link": true
    },
    "kernelspec": {
      "name": "python3",
      "display_name": "Python 3"
    },
    "language_info": {
      "name": "python"
    }
  },
  "cells": [
    {
      "cell_type": "markdown",
      "metadata": {
        "id": "view-in-github",
        "colab_type": "text"
      },
      "source": [
        "<a href=\"https://colab.research.google.com/github/njaincode/python_for_data_science/blob/main/Lists_and_Dictionaries_Challenges.ipynb\" target=\"_parent\"><img src=\"https://colab.research.google.com/assets/colab-badge.svg\" alt=\"Open In Colab\"/></a>"
      ]
    },
    {
      "cell_type": "markdown",
      "metadata": {
        "id": "nEJLJX3J9B2k"
      },
      "source": [
        "# Some challenges to help you become more confident with using Lists, Tuples and Dictionaries\n",
        "\n",
        "---\n",
        "\n"
      ]
    },
    {
      "cell_type": "markdown",
      "metadata": {
        "id": "JvV6htgh9Nc1"
      },
      "source": [
        "### Exercise 1 - extending a list\n",
        "\n",
        "There are three ways to extend a list in Python:  \n",
        "*  use `list_name.append(item)`, `list_name.insert(item)`\n",
        "*  concatenate two lists using the + operator (e.g. new_list = list1 + list2)\n",
        "*  use `list1_name.extend(list2_name)`\n",
        "\n",
        "The last method allows us to add all the `list2` items onto `list1` and for the new, extended list to now be `list1`.  `list2` will always be added to the end of `list1`.  \n",
        "\n",
        "If the objective is to add list2 before list1 then use `list2.extend(list1)`\n",
        "\n",
        "Write a function which will:  \n",
        "*  create a list of **years** containing the years 1960, 1970, 1980, 1990, 2000  \n",
        "*  print the list of years  \n",
        "*  calculate how long ago each year was and print the year and how long ago it was (e.g. 1990 was 30 years ago)  *(Hint:  use the datetime library to get the current year)*   \n",
        "*  create a second list, **years2** containing the years 2010 and 2020, extend `years` to include these later years\n",
        "*  create a third list, **years3** containing the years 1930, 1940 and 1950 and extend the list to include all the years between 1930 and 2020\n",
        "*  print the final list\n",
        "\n",
        "Expected output:  \n",
        "[1960, 1970, 1980, 1990]  \n",
        "1960 was 61 years ago  \n",
        "1970 was 51 years ago  \n",
        "1980 was 41 years ago  \n",
        "1990 was 31 years ago  \n",
        "2000 was 21 years ago  \n",
        "[1930, 1940, 1950, 1960, 1970, 1980, 1990, 2000, 2010, 2020] "
      ]
    },
    {
      "cell_type": "code",
      "metadata": {
        "id": "QAyTVqoO8-08",
        "colab": {
          "base_uri": "https://localhost:8080/"
        },
        "outputId": "2085d75d-33ba-4739-f64f-70a1ae968b3b"
      },
      "source": [
        "from datetime import date\n",
        "\n",
        "def extend_list():\n",
        "\n",
        "  years = [1960, 1970, 1980, 1990, 2000]\n",
        "  #print(years)\n",
        "\n",
        "  # how long ago each year was and print the year and how long ago it was (e.g. 1990 was 30 years ago)\n",
        "  today = date.today()\n",
        "  current_year = today.year\n",
        "  #print(current_year)\n",
        "\n",
        "  for i in years:\n",
        "    #print(i)\n",
        "    diff = current_year - i\n",
        "    print(f'{i} was {diff} years ago')\n",
        "\n",
        "  years2 = [2010, 2020]\n",
        "  years.extend(years2)\n",
        "  print(years)\n",
        "\n",
        "  years3 = [1930, 1940, 1950] + years\n",
        "  print(years3)\n",
        "  \n",
        "\n",
        "\n",
        "extend_list()"
      ],
      "execution_count": 3,
      "outputs": [
        {
          "output_type": "stream",
          "text": [
            "1960 was 61 years ago\n",
            "1970 was 51 years ago\n",
            "1980 was 41 years ago\n",
            "1990 was 31 years ago\n",
            "2000 was 21 years ago\n",
            "[1960, 1970, 1980, 1990, 2000, 2010, 2020]\n",
            "[1930, 1940, 1950, 1960, 1970, 1980, 1990, 2000, 2010, 2020]\n"
          ],
          "name": "stdout"
        }
      ]
    },
    {
      "cell_type": "markdown",
      "metadata": {
        "id": "S5iPicFzBzOW"
      },
      "source": [
        "---\n",
        "### Exercise 2 - creating a dictionary from a tuple and three lists\n",
        "\n",
        "Write a function which will create a list of dictionary items using the values in a tuple as the dictionary keys and the values in three corresponding lists as the dictionary values.\n",
        "\n",
        "*  loop through the status items in the tuple called task_status\n",
        "*  for each status, loop through the list with the same name (*Hint:  you can use eval(status) to access the list with the matching name  e.g. for task in eval(status)* )\n",
        "*  each time round this second loop, create a dictionary object with the  key:value pair {status : task}\n",
        "*  add each new dictionary to a list called **project_board** that was created as an empty list before the loops  \n",
        "*  print the project_board list\n",
        "\n",
        "Expected output:  \n",
        "\n",
        "[{'assigned': 'task1'}, {'assigned': 'task2'}, {'assigned': 'task3'}, {'inprogress': 'task4'}, {'inprogress': 'task5'}, {'inprogress': 'task6'}, {'completed': 'task7'}, {'completed': 'task8'}, {'completed': 'task9'}] \n",
        "\n"
      ]
    },
    {
      "cell_type": "code",
      "metadata": {
        "id": "KXYOSHY-C7m4",
        "colab": {
          "base_uri": "https://localhost:8080/"
        },
        "outputId": "34c3c74f-ac43-429d-9a73-330113abe6e1"
      },
      "source": [
        "def create_project_board():\n",
        "  task_status = (\"assigned\", \"inprogress\", \"completed\")\n",
        "  assigned = ['task1','task2','task3']\n",
        "  inprogress = ['task4','task5','task6']\n",
        "  completed = ['task7','task8','task9']\n",
        "  #  add your code below here\n",
        "\n",
        "  proj_dict = []\n",
        "\n",
        "  for stat in task_status:\n",
        "    #print(eval(i))\n",
        "    for task_num in eval(stat):\n",
        "      proj_dict.append({stat:task_num})\n",
        "  \n",
        "  print(proj_dict)\n",
        "\n",
        "#create_project_board()\n",
        "\n",
        "# eval()\n",
        "def create_project_board_eval():\n",
        "  task_status = (\"assigned\", \"inprogress\", \"completed\")\n",
        "  assigned = ['task1','task2','task3']\n",
        "  inprogress = ['task4','task5','task6']\n",
        "  completed = ['task7','task8','task9']\n",
        "  #  add your code below here\n",
        "\n",
        "  proj_dict = []\n",
        "\n",
        "  print(eval('assigned'))\n",
        "\n",
        "  for stat in task_status:\n",
        "    #print(eval(i))\n",
        "    for task_num in eval(stat):\n",
        "      proj_dict.append({stat:task_num})\n",
        "  \n",
        "  #print(proj_dict)\n",
        "\n",
        "create_project_board_eval()\n",
        "\n",
        "\n"
      ],
      "execution_count": 21,
      "outputs": [
        {
          "output_type": "stream",
          "text": [
            "['task1', 'task2', 'task3']\n"
          ],
          "name": "stdout"
        }
      ]
    },
    {
      "cell_type": "markdown",
      "metadata": {
        "id": "M1BuTu9p19Ma"
      },
      "source": [
        "---\n",
        "### Exercise 3 - names and heights\n",
        "\n",
        "Write a function which will allow a user to enter the names and heights of a set of people and add each set of information as a record (dictionary) to a list. The function will stop collecting names and heights when the user enters \"STOP\" as the name.\n",
        "\n",
        "Then, the function will:  \n",
        "\n",
        "*   produce a list of names in order of the shortest person to the tallest\n",
        "*   calculate the name of the tallest person\n",
        "*   calculate the name of the shortest person\n",
        "*   calculate the average height\n",
        "*   calculate the name of the person who is closest to the average height\n",
        "\n",
        "\n",
        "\n",
        "\n"
      ]
    },
    {
      "cell_type": "code",
      "metadata": {
        "id": "reuyww3e18uv",
        "colab": {
          "base_uri": "https://localhost:8080/"
        },
        "outputId": "f5c8c98a-87f2-41b6-935c-2a03f04d5540"
      },
      "source": [
        "import math\n",
        "\n",
        "def record_names_heights():\n",
        "\n",
        "  record_dict = {}\n",
        "  stop = False\n",
        "  #while stop == False:\n",
        "  #  name = input('Please enter the name or STOP to exit')\n",
        "  #  if name != 'STOP':\n",
        "  #    height = int(input('Please enter the height'))\n",
        "  #    record_dict.update({name:height})\n",
        "  #  else:\n",
        "  #   stop = True\n",
        "  record_dict.update({'A':5, 'B':2, 'C':1, 'o':10, 'y':0})\n",
        "\n",
        "  print(record_dict)\n",
        "  ht_list = list(record_dict.values())\n",
        "  ht_list.sort()\n",
        "  print(ht_list)\n",
        "\n",
        "  # calculate the name of the tallest person\n",
        "  # search by value\n",
        "  tall_name = ''\n",
        "  short_name = ''\n",
        "  avg_name = ''\n",
        "\n",
        "  # average height\n",
        "  aht = sum(ht_list)/len(ht_list)\n",
        "  aht = math.ceil(aht)\n",
        "  print(aht)\n",
        "\n",
        "  diff_min = ht_list[-1]\n",
        "  for k, v in record_dict.items():\n",
        "    if v == ht_list[0]:\n",
        "      short_name = k\n",
        "    if v == ht_list[-1]:\n",
        "      tall_name = k\n",
        "    if (v > aht):\n",
        "      diff_aht = v-aht\n",
        "    else:\n",
        "      diff_aht = aht-v\n",
        "    if diff_aht < diff_min:\n",
        "      diff_min = diff_aht\n",
        "      avg_name = k\n",
        "\n",
        "  print(diff_min, avg_name)\n",
        "\n",
        "  print(f'Tallest {tall_name} Shortest {short_name}')\n",
        " \n",
        "  print(f'Average height = {aht}')\n",
        "\n",
        "\n",
        "record_names_heights()\n",
        "\n"
      ],
      "execution_count": 15,
      "outputs": [
        {
          "output_type": "stream",
          "text": [
            "{'A': 5, 'B': 2, 'C': 1, 'o': 10, 'y': 0}\n",
            "[0, 1, 2, 5, 10]\n",
            "4\n",
            "1 A\n",
            "Tallest o Shortest y\n",
            "Average height = 4\n"
          ],
          "name": "stdout"
        }
      ]
    }
  ]
}