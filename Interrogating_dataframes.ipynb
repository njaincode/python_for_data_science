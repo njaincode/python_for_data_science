{
  "nbformat": 4,
  "nbformat_minor": 0,
  "metadata": {
    "colab": {
      "name": "Interrogating_dataframes.ipynb",
      "provenance": [],
      "collapsed_sections": [],
      "toc_visible": true,
      "include_colab_link": true
    },
    "kernelspec": {
      "name": "python3",
      "display_name": "Python 3"
    },
    "language_info": {
      "name": "python"
    }
  },
  "cells": [
    {
      "cell_type": "markdown",
      "metadata": {
        "id": "view-in-github",
        "colab_type": "text"
      },
      "source": [
        "<a href=\"https://colab.research.google.com/github/njaincode/python_for_data_science/blob/main/Interrogating_dataframes.ipynb\" target=\"_parent\"><img src=\"https://colab.research.google.com/assets/colab-badge.svg\" alt=\"Open In Colab\"/></a>"
      ]
    },
    {
      "cell_type": "markdown",
      "metadata": {
        "id": "1Gs0TsVUvHgr"
      },
      "source": [
        "# Interrogating the dataframe\n",
        "---\n",
        "\n",
        "We use pandas to create dataframes from data sets in files or online tables.\n",
        "\n",
        "Once we have the dataframe we might want to:  \n",
        "*   display a subset of rows\n",
        "*   *   we can do this using df.head(), df.tail() or df.iloc[index]\n",
        "*   display a subset of columns\n",
        "*   *   we can do this using the column name as the key, e.g.   \n",
        "`                df['rain (mm)']`  \n",
        "*   *   we can display more than one column, simply by listing the columns in the square brackets, e.g.   \n",
        "`                df[['rain (mm)', 'tmin (degC)', 'sun (hours)']]`  \n",
        "*   *   and can dislay a subset of rows for a subset of columns, e.g.  \n",
        " `               df[['rain (mm)', 'tmax (degC)']].head(10)`\n",
        "\n",
        "\n"
      ]
    },
    {
      "cell_type": "markdown",
      "metadata": {
        "id": "rugxYQSIyHiR"
      },
      "source": [
        "### Exercise 1 - get the data, look at first 10 records\n",
        "---\n",
        "\n",
        "\n",
        "1.  Import the pandas library with the alias pd  \n",
        "2.  Read the sheet with the name \"Industry Migration\" from the Excel file from this link: https://github.com/futureCodersSE/working-with-data/blob/main/Data%20sets/public_use-talent-migration.xlsx?raw=true  (*Hint:  use pd.read_excel(url, sheet_name=\"Industry Migration\") with the above url.*)\n",
        "3.  display the first 10 rows of the data\n",
        "\n"
      ]
    },
    {
      "cell_type": "code",
      "metadata": {
        "id": "WHEnQlll1vyL",
        "colab": {
          "base_uri": "https://localhost:8080/"
        },
        "outputId": "a288e980-48da-4877-b5a7-08ecbd07e859"
      },
      "source": [
        "import pandas as pd\n",
        "\n",
        "def display_10_records():\n",
        "  excel_url = 'https://github.com/futureCodersSE/working-with-data/blob/main/Data%20sets/public_use-talent-migration.xlsx?raw=true'\n",
        "  df = pd.read_excel(excel_url, sheet_name='Industry Migration')\n",
        "  total_rows = len(df.axes[0])\n",
        "  total_col = len(df.axes[1])\n",
        "  print(f'rows={total_rows}, col={total_col}')\n",
        "  pd.options.display.max_columns= total_col\n",
        "  pd.options.display.max_rows= total_rows\n",
        "  print(df.shape)\n",
        "  print(df.info())\n",
        "  # FIXME Nice way to print?\n",
        "  print(df.head(10))\n",
        "\n",
        "display_10_records()"
      ],
      "execution_count": 8,
      "outputs": [
        {
          "output_type": "stream",
          "text": [
            "rows=5295, col=13\n",
            "(5295, 13)\n",
            "<class 'pandas.core.frame.DataFrame'>\n",
            "RangeIndex: 5295 entries, 0 to 5294\n",
            "Data columns (total 13 columns):\n",
            " #   Column              Non-Null Count  Dtype  \n",
            "---  ------              --------------  -----  \n",
            " 0   country_code        5295 non-null   object \n",
            " 1   country_name        5295 non-null   object \n",
            " 2   wb_income           5295 non-null   object \n",
            " 3   wb_region           5295 non-null   object \n",
            " 4   isic_section_index  5295 non-null   object \n",
            " 5   isic_section_name   5295 non-null   object \n",
            " 6   industry_id         5295 non-null   int64  \n",
            " 7   industry_name       5295 non-null   object \n",
            " 8   net_per_10K_2015    5295 non-null   float64\n",
            " 9   net_per_10K_2016    5295 non-null   float64\n",
            " 10  net_per_10K_2017    5295 non-null   float64\n",
            " 11  net_per_10K_2018    5295 non-null   float64\n",
            " 12  net_per_10K_2019    5295 non-null   float64\n",
            "dtypes: float64(5), int64(1), object(7)\n",
            "memory usage: 537.9+ KB\n",
            "None\n",
            "  country_code          country_name    wb_income                   wb_region  \\\n",
            "0           ae  United Arab Emirates  High income  Middle East & North Africa   \n",
            "1           ae  United Arab Emirates  High income  Middle East & North Africa   \n",
            "2           ae  United Arab Emirates  High income  Middle East & North Africa   \n",
            "3           ae  United Arab Emirates  High income  Middle East & North Africa   \n",
            "4           ae  United Arab Emirates  High income  Middle East & North Africa   \n",
            "5           ae  United Arab Emirates  High income  Middle East & North Africa   \n",
            "6           ae  United Arab Emirates  High income  Middle East & North Africa   \n",
            "7           ae  United Arab Emirates  High income  Middle East & North Africa   \n",
            "8           ae  United Arab Emirates  High income  Middle East & North Africa   \n",
            "9           ae  United Arab Emirates  High income  Middle East & North Africa   \n",
            "\n",
            "  isic_section_index                                 isic_section_name  \\\n",
            "0                  C                                     Manufacturing   \n",
            "1                  J                     Information and communication   \n",
            "2                  J                     Information and communication   \n",
            "3                  J                     Information and communication   \n",
            "4                  J                     Information and communication   \n",
            "5                  J                     Information and communication   \n",
            "6                  M  Professional scientific and technical activities   \n",
            "7                  M  Professional scientific and technical activities   \n",
            "8                  M  Professional scientific and technical activities   \n",
            "9                  M  Professional scientific and technical activities   \n",
            "\n",
            "   industry_id          industry_name  net_per_10K_2015  net_per_10K_2016  \\\n",
            "0            1        Defense & Space            378.74            127.94   \n",
            "1            3      Computer Hardware            100.97            358.14   \n",
            "2            4      Computer Software           1079.36            848.15   \n",
            "3            5    Computer Networking            401.46            447.39   \n",
            "4            6               Internet           1840.33           1368.42   \n",
            "5            8     Telecommunications            676.91            676.11   \n",
            "6            9           Law Practice            694.50            529.50   \n",
            "7           10         Legal Services            661.10            665.65   \n",
            "8           11  Management Consulting            982.85            694.25   \n",
            "9           12          Biotechnology           1230.17            846.28   \n",
            "\n",
            "   net_per_10K_2017  net_per_10K_2018  net_per_10K_2019  \n",
            "0              8.20             68.51             49.55  \n",
            "1            112.98            149.57            182.22  \n",
            "2            596.48            409.18            407.41  \n",
            "3            163.99            236.69            188.07  \n",
            "4            877.71            852.39            519.40  \n",
            "5            365.96            283.59            281.91  \n",
            "6            362.83            356.56            147.83  \n",
            "7            462.30            475.62            255.21  \n",
            "8            520.28            574.60            406.03  \n",
            "9            500.77            205.78            513.23  \n"
          ],
          "name": "stdout"
        }
      ]
    },
    {
      "cell_type": "markdown",
      "metadata": {
        "id": "dBsdAsk43aoX"
      },
      "source": [
        "### Exercise 2 - display just two columns\n",
        "\n",
        "Display the first 50 records focusing on the industries where migration is happening in each country (show just country_name and industry_name)."
      ]
    },
    {
      "cell_type": "code",
      "metadata": {
        "id": "rDEzOpDXvGx0"
      },
      "source": [
        "import pandas as pd\n",
        "\n",
        "def display_2col_records():\n",
        "  excel_url = 'https://github.com/futureCodersSE/working-with-data/blob/main/Data%20sets/public_use-talent-migration.xlsx?raw=true'\n",
        "  df = pd.read_excel(excel_url, sheet_name='Industry Migration')\n",
        "  total_rows = len(df.axes[0])\n",
        "  total_col = len(df.axes[1])\n",
        "  print(f'rows={total_rows}, col={total_col}')\n",
        "  pd.options.display.max_columns= total_col\n",
        "  pd.options.display.max_rows= 50\n",
        "  \n",
        "  # For debug\n",
        "  #print(df.info())\n",
        "\n",
        "  print(f'Printing country and industry names\\n')\n",
        "  print(df[['country_name' , 'industry_name']].head(50))\n",
        "  \n",
        "display_2col_records()"
      ],
      "execution_count": null,
      "outputs": []
    },
    {
      "cell_type": "markdown",
      "metadata": {
        "id": "ZIsrvFNjAuWE"
      },
      "source": [
        "### Exercise 3 - yearly migration\n",
        "\n",
        "*   display the middle 20 records, showing the country_name and the migration for each of the years 2015 to 2019.\n",
        "---\n"
      ]
    },
    {
      "cell_type": "code",
      "metadata": {
        "id": "yXpe9SuBBloC",
        "colab": {
          "base_uri": "https://localhost:8080/"
        },
        "outputId": "d1ce2d25-d0cf-4a72-b8f0-13ace7fdab1b"
      },
      "source": [
        "import pandas as pd\n",
        "\n",
        "def display_mid20_records():\n",
        "  excel_url = 'https://github.com/futureCodersSE/working-with-data/blob/main/Data%20sets/public_use-talent-migration.xlsx?raw=true'\n",
        "  df = pd.read_excel(excel_url, sheet_name='Industry Migration')\n",
        "  total_rows = len(df.axes[0])\n",
        "  total_col = len(df.axes[1])\n",
        "  # Calculate ball park mid 20 indexes assuming there are >=20 rows\n",
        "  mid = int(total_rows/2)\n",
        "  idx_low = mid-10\n",
        "  idx_high = mid+9\n",
        "  print(f'rows={total_rows}, col={total_col}, mid_range {idx_low}: {idx_high}')\n",
        "  \n",
        "  # Set some display options when run\n",
        "  pd.options.display.max_columns= total_col\n",
        "  pd.options.display.max_rows= 20\n",
        "  \n",
        "  # For debug\n",
        "  #print(df.info())\n",
        "  #print(df.columns)\n",
        "\n",
        "  # Get column number from column name\n",
        "  # Wanted to use col num to print but don't know how, need to explore more\n",
        "  col_idx_2015 = df.columns.get_loc('net_per_10K_2015')\n",
        "\n",
        "  # FIXME Can specific col name and range be used together in .loc?\n",
        "  # What is the difference b/w .loc and .iloc?\n",
        "  subset = df.loc[idx_low:idx_high, ['country_name', 'net_per_10K_2015', 'net_per_10K_2016','net_per_10K_2017','net_per_10K_2018','net_per_10K_2019']]\n",
        "  print(subset.shape)\n",
        "  print(f'Displaying mid 20 records with country name and migration from years [2015:2019]\\n')\n",
        "  print(subset)\n",
        "  \n",
        "\n",
        "display_mid20_records()"
      ],
      "execution_count": 46,
      "outputs": [
        {
          "output_type": "stream",
          "text": [
            "rows=5295, col=13, mid_range 2637: 2656\n",
            "(20, 6)\n",
            "Displaying mid 20 records with country name and migration from years [2015:2019]\n",
            "\n",
            "     country_name  net_per_10K_2015  net_per_10K_2016  net_per_10K_2017  \\\n",
            "2637        India             -7.57            -15.53            -41.39   \n",
            "2638        India            -46.07            -84.82            -69.27   \n",
            "2639        India            -17.75             -9.88            -13.85   \n",
            "2640        India            -46.50            -53.41            -38.84   \n",
            "2641        India             15.19              5.91            -67.67   \n",
            "2642        India            -36.77            -72.50           -224.30   \n",
            "2643        India            -57.53            -50.04            -58.67   \n",
            "2644        India              4.31            -29.11            -68.60   \n",
            "2645        India            -60.63           -102.39           -130.02   \n",
            "2646        India            -26.63              5.22            -29.57   \n",
            "2647        India            -31.78            -45.04            -86.56   \n",
            "2648        India             24.01             27.84             -9.85   \n",
            "2649        India            -17.74            -27.67            -19.57   \n",
            "2650        India            -26.23            -21.12            -26.23   \n",
            "2651        India            -75.42            -71.15            -57.01   \n",
            "2652        India            -40.41             -2.47            -40.18   \n",
            "2653         Iraq            290.14            396.01            175.95   \n",
            "2654         Iraq             23.68           -148.03           -157.05   \n",
            "2655         Iraq           -138.81           -662.75           -273.35   \n",
            "2656         Iraq           -718.56           -623.25           -446.93   \n",
            "\n",
            "      net_per_10K_2018  net_per_10K_2019  \n",
            "2637            -58.19            -75.65  \n",
            "2638           -112.88           -102.83  \n",
            "2639            -17.02            -36.78  \n",
            "2640            -69.76            -73.81  \n",
            "2641            -42.27            -45.82  \n",
            "2642           -108.44            -57.46  \n",
            "2643            -98.15            -87.12  \n",
            "2644            -60.27            -71.01  \n",
            "2645            -97.02           -151.55  \n",
            "2646            -23.96            -58.40  \n",
            "2647            -66.87            -95.41  \n",
            "2648            -29.43            -63.83  \n",
            "2649            -63.91            -50.87  \n",
            "2650            -40.06            -55.07  \n",
            "2651            -95.02           -106.56  \n",
            "2652            -70.58           -142.21  \n",
            "2653            396.23            318.73  \n",
            "2654            -87.85            -38.84  \n",
            "2655           -109.23              0.00  \n",
            "2656           -456.94             95.72  \n"
          ],
          "name": "stdout"
        }
      ]
    },
    {
      "cell_type": "markdown",
      "metadata": {
        "id": "2wfsDcuvBl7o"
      },
      "source": [
        "### Exercise 4 - migration to and from\n",
        "---\n",
        "\n",
        "The Excel file at this link (which you have already opened above): https://github.com/futureCodersSE/working-with-data/blob/main/Data%20sets/public_use-talent-migration.xlsx?raw=true has three data sheets, \"Country Migration\", \"Industry Migration\" and \"Skills Migration\"\n",
        "\n",
        "Open the data sheet \"Country Migration\" and display the first 10 records showing the country that migration was to, the country it was from and the net migration for each year from 2015 to 2019"
      ]
    },
    {
      "cell_type": "code",
      "metadata": {
        "id": "Q2tyWrG7-UAW",
        "colab": {
          "base_uri": "https://localhost:8080/"
        },
        "outputId": "559a7435-f097-4f6b-bfdf-2cc327d61f14"
      },
      "source": [
        "import pandas as pd\n",
        "\n",
        "def display_record(df, dest, src, net1):\n",
        "  subset = df.loc[0:9, [dest, src, net1]]\n",
        "  print(subset.shape)\n",
        "  print(f'Displaying mid 20 records with country name and migration from years [2015:2019]\\n')\n",
        "  print(subset)\n",
        "\n",
        "def display_country_migration():\n",
        "  excel_url = 'https://github.com/futureCodersSE/working-with-data/blob/main/Data%20sets/public_use-talent-migration.xlsx?raw=true'\n",
        "  df = pd.read_excel(excel_url, sheet_name='Country Migration')\n",
        "  total_rows = len(df.axes[0])\n",
        "  total_col = len(df.axes[1])\n",
        "  \n",
        "  # For debug\n",
        "  #print(f'rows={total_rows}, col={total_col}')\n",
        "  \n",
        "  # Set some display options when run\n",
        "  pd.options.display.max_rows= 10\n",
        "  \n",
        "  # Migrated to, migrated from and net migration for years [2015:2019]\n",
        "  cols = ['target_country_name', 'base_country_name', 'net_per_10K_2015', 'net_per_10K_2016', 'net_per_10K_2017', 'net_per_10K_2018', 'net_per_10K_2019']\n",
        "  df1 = df[cols]\n",
        "  print(df1.head(10))\n",
        "  #display_record(df, 'target_country_name', 'base_country_name', 'net_per_10K_2015')\n",
        "\n",
        "   \n",
        "\n",
        "display_country_migration()"
      ],
      "execution_count": 55,
      "outputs": [
        {
          "output_type": "stream",
          "text": [
            "rows=4148, col=17\n",
            "  target_country_name     base_country_name  net_per_10K_2015  \\\n",
            "0         Afghanistan  United Arab Emirates              0.19   \n",
            "1             Algeria  United Arab Emirates              0.19   \n",
            "2              Angola  United Arab Emirates             -0.01   \n",
            "3           Argentina  United Arab Emirates              0.16   \n",
            "4             Armenia  United Arab Emirates              0.10   \n",
            "5           Australia  United Arab Emirates             -1.06   \n",
            "6             Austria  United Arab Emirates              0.11   \n",
            "7          Azerbaijan  United Arab Emirates              0.24   \n",
            "8             Bahrain  United Arab Emirates              0.90   \n",
            "9          Bangladesh  United Arab Emirates             -0.21   \n",
            "\n",
            "   net_per_10K_2016  net_per_10K_2017  net_per_10K_2018  net_per_10K_2019  \n",
            "0              0.16              0.11             -0.05             -0.02  \n",
            "1              0.25              0.57              0.55              0.78  \n",
            "2              0.04              0.11             -0.02             -0.06  \n",
            "3              0.18              0.04              0.01              0.23  \n",
            "4              0.05              0.03             -0.01              0.02  \n",
            "5             -3.31             -4.01             -4.58             -4.09  \n",
            "6             -0.08             -0.07             -0.05             -0.16  \n",
            "7              0.25              0.10              0.05              0.04  \n",
            "8              0.89              0.38             -0.07              0.15  \n",
            "9             -0.21             -0.26             -0.18             -0.04  \n"
          ],
          "name": "stdout"
        }
      ]
    },
    {
      "cell_type": "markdown",
      "metadata": {
        "id": "vb9QQv_VBHVk"
      },
      "source": [
        "### Exercise 5 - unique countries\n",
        "\n",
        "Using the \"Country Migration\" sheet, get all the unique country names from where people have migrated (base_country_name) and use a for loop to print a list of the countries."
      ]
    },
    {
      "cell_type": "code",
      "metadata": {
        "id": "f6uCYdEHBw1f"
      },
      "source": [
        "import pandas as pd\n",
        "\n",
        "def display_unique_countries():\n",
        "  excel_url = 'https://github.com/futureCodersSE/working-with-data/blob/main/Data%20sets/public_use-talent-migration.xlsx?raw=true'\n",
        "  df = pd.read_excel(excel_url, sheet_name='Country Migration')\n",
        "    \n",
        "  # Set some display options when run\n",
        "  pd.options.display.max_rows= 10\n",
        "  \n",
        "  # Just for learning\n",
        "  #bah = df[df.base_country_name == 'Bahrain']\n",
        "  #print(bah.head(10))\n",
        "  #print(df.keys())\n",
        "  \n",
        "  # Find unique base_country_name\n",
        "  # Get all rows from base_country_name key\n",
        "  df_base_name = df['base_country_name']\n",
        "  print(f'Total number of entries in base_country_name = {df_base_name.shape}')\n",
        "  # For debug\n",
        "  #print(df_base_name.head(10))\n",
        "  \n",
        "  # Another way\n",
        "  #df_uniq = df.drop_duplicates(subset = ['base_country_name'])\n",
        "  \n",
        "  # Get all unique values in rows\n",
        "  df_base_name_unique = df_base_name.drop_duplicates()\n",
        "  print(f'Total number of unique entries in base_country_name = {df_base_name_unique.shape}')\n",
        "    \n",
        "  print(f'Displaying unique country names using for loop')\n",
        "  for i in df_base_name_unique:\n",
        "    print(i)\n",
        "     \n",
        "\n",
        "display_unique_countries()\n"
      ],
      "execution_count": null,
      "outputs": []
    },
    {
      "cell_type": "markdown",
      "metadata": {
        "id": "SQNg0Sk5FaJ3"
      },
      "source": [
        "### Exercise 6 - how many countries are migrated to\n",
        "\n",
        "Using the \"Country Migration\" sheet again, get all the unique country names to where people have migrated and display the number of unique countries."
      ]
    },
    {
      "cell_type": "code",
      "metadata": {
        "id": "SCidja1FFySO"
      },
      "source": [
        "import pandas as pd\n",
        "\n",
        "def display_migration_to_unique_countries():\n",
        "  excel_url = 'https://github.com/futureCodersSE/working-with-data/blob/main/Data%20sets/public_use-talent-migration.xlsx?raw=true'\n",
        "  df = pd.read_excel(excel_url, sheet_name='Country Migration')\n",
        "    \n",
        "  # Set some display options when run\n",
        "  pd.options.display.max_rows= 10\n",
        "  \n",
        "  col = 'target_country_name'\n",
        "  # Find unique target_country_name\n",
        "  # Get all rows from target_country_name key\n",
        "  df_base_name = df[col]\n",
        "  print(f'Total number of entries in {col} = {df_base_name.shape}')\n",
        "\n",
        "  # Another way\n",
        "  #df_uniq = df.drop_duplicates(subset = [col])\n",
        "  \n",
        "  # Get all unique values in rows\n",
        "  df_base_name_unique = df_base_name.drop_duplicates()\n",
        "  print(f'Total number of unique entries in {col} = {df_base_name_unique.shape}')\n",
        "    \n",
        "  print(f'Displaying unique country names using for loop')\n",
        "  for i in df_base_name_unique:\n",
        "    print(i)\n",
        "     \n",
        "\n",
        "display_migration_to_unique_countries()"
      ],
      "execution_count": null,
      "outputs": []
    },
    {
      "cell_type": "markdown",
      "metadata": {
        "id": "qyjM39DzFy3t"
      },
      "source": [
        "### Exercise 7 - skill sets\n",
        "---\n",
        "\n",
        "\n",
        "Using the \"Skill Migration\" data sheet, display the following:\n",
        "*  the first record\n",
        "*  the last 10 records\n",
        "*  records from index 500 to index 600  \n",
        "*  a count of all unique countries\n",
        "*  a list of all unique skill group categories\n",
        "*  the first 50 skill group names and net migration in 2019"
      ]
    },
    {
      "cell_type": "code",
      "metadata": {
        "id": "EWGy5iQHG8vA",
        "colab": {
          "base_uri": "https://localhost:8080/"
        },
        "outputId": "e8c497cb-46ae-4fe5-be9b-76a98c6bca26"
      },
      "source": [
        "import pandas as pd\n",
        "\n",
        "def display_skill_migration_data_samples():\n",
        "  excel_url = 'https://github.com/futureCodersSE/working-with-data/blob/main/Data%20sets/public_use-talent-migration.xlsx?raw=true'\n",
        "  user_sheet_name = 'Skill Migration'\n",
        "  df = pd.read_excel(excel_url, sheet_name=user_sheet_name)\n",
        "\n",
        "  # Print shape to just get an idea about samples\n",
        "  print(f'Shape of {user_sheet_name} is {df.shape}')\n",
        "\n",
        "  total_col = len(df.axes[1])\n",
        "  # Set some display options when run\n",
        "  pd.options.display.max_columns= total_col\n",
        "  pd.options.display.max_rows= 100\n",
        "\n",
        "  # Print the first record\n",
        "    print(f'First record {df.head(1)}')\n",
        "\n",
        "  # Print last 10 records\n",
        "    print(f'Last 10 records {df.tail(10)}')\n",
        "\n",
        "  # Print records [500:600]\n",
        "  # FIXME Why not all rows are getting printed?\n",
        "    print(f'Printing [500:600] \\n {df.iloc[500:601]}')\n",
        "\n",
        "  # a count of all unique countries\n",
        "  col = 'country_name'\n",
        "  df_country_name = df.drop_duplicates(subset = [col])\n",
        "  count = len(df_country_name.axes[0])\n",
        "    print(f'Unique country_name shape {df_country_name.shape} and total count {count}')\n",
        "\n",
        "  # a list of all unique skill group categories\n",
        "  col = 'skill_group_category'\n",
        "  df_skill_grp = df.drop_duplicates(subset = [col])\n",
        "  count = len(df_skill_grp.axes[0])\n",
        "    print(f'Unique skill group count is {count}')\n",
        "  \n",
        "  # the first 50 skill group names and net migration in 2019\n",
        "  col = ['skill_group_name', 'net_per_10K_2019']\n",
        "  df_skill_grp_net_mig_2019 = df[col]\n",
        "  # Just to get an idea\n",
        "  print(df_skill_grp_net_mig_2019.shape)\n",
        "  print(df_skill_grp_net_mig_2019.head(50))\n",
        "  \n",
        "\n",
        "display_skill_migration_data_samples()"
      ],
      "execution_count": 37,
      "outputs": [
        {
          "output_type": "stream",
          "text": [
            "Shape of Skill Migration is (17617, 12)\n",
            "(17617, 2)\n",
            "                          skill_group_name  net_per_10K_2019\n",
            "0                   Information Management          -1208.79\n",
            "1                   Operational Efficiency           -790.09\n",
            "2                        National Security           -767.64\n",
            "3                         Software Testing           -739.51\n",
            "4                                     Navy           -718.64\n",
            "5                        Materials Science           -717.73\n",
            "6                             Criminal Law           -698.84\n",
            "7                          Problem Solving           -696.16\n",
            "8   Software Development Life Cycle (SDLC)           -692.24\n",
            "9                            Cybersecurity           -640.96\n",
            "10                     Enterprise Software           -625.19\n",
            "11                       Water Engineering           -560.86\n",
            "12                               Air Force           -553.91\n",
            "13                           Documentation           -534.90\n",
            "14                           Public Safety           -531.68\n",
            "15                       People Management           -489.62\n",
            "16                               Economics           -481.75\n",
            "17               Administrative Assistance           -481.00\n",
            "18                      Telecommunications           -470.25\n",
            "19                   Management Consulting           -465.04\n",
            "20                   Aerospace Engineering           -459.57\n",
            "21                Environmental Consulting           -456.65\n",
            "22                                Politics           -455.72\n",
            "23                    Human Resources (HR)           -454.04\n",
            "24                                     Law           -444.72\n",
            "25                       Personal Coaching           -442.94\n",
            "26                           Public Policy           -432.87\n",
            "27                                 Writing           -429.40\n",
            "28                        Payroll Services           -417.59\n",
            "29                        Accounts Payable           -415.60\n",
            "30                             Translation           -409.63\n",
            "31                Corporate Communications           -407.53\n",
            "32                             Bookkeeping           -406.50\n",
            "33                       Technical Support           -405.87\n",
            "34               Data Storage Technologies           -402.25\n",
            "35                     Computer Networking           -401.17\n",
            "36                         Social Services           -400.00\n",
            "37                             Procurement           -381.75\n",
            "38                Construction Engineering           -380.71\n",
            "39                             Electronics           -379.37\n",
            "40                        Entrepreneurship           -375.82\n",
            "41                   System Administration           -375.25\n",
            "42                Manufacturing Operations           -369.78\n",
            "43                   Environmental Science           -369.71\n",
            "44                       Growth Strategies           -364.60\n",
            "45                    Nonprofit Management           -356.44\n",
            "46         Employee Learning & Development           -353.67\n",
            "47                               Machining           -347.71\n",
            "48                              Recruiting           -339.42\n",
            "49                      Emergency Medicine           -332.85\n"
          ],
          "name": "stdout"
        }
      ]
    },
    {
      "cell_type": "markdown",
      "metadata": {
        "id": "V_v89VIqG9Lq"
      },
      "source": [
        "### Exercise 8 - total net migration over 5 years\n",
        "---\n",
        "\n",
        "Using the Country Migration data sheet, display the record at position 10.  Using the column names to access the data in each column, add the five columns containing the net migration data together to calculate the total net migration over the 5 years between 2015 and 2019."
      ]
    },
    {
      "cell_type": "code",
      "metadata": {
        "id": "YTov4W2dILe2",
        "colab": {
          "base_uri": "https://localhost:8080/"
        },
        "outputId": "29275e44-b6c4-465e-c20c-cc28ac635ab9"
      },
      "source": [
        "import pandas as pd\n",
        "\n",
        "def net_migration_in_5yrs():\n",
        "  excel_url = 'https://github.com/futureCodersSE/working-with-data/blob/main/Data%20sets/public_use-talent-migration.xlsx?raw=true'\n",
        "  user_sheet_name = 'Country Migration'\n",
        "  df = pd.read_excel(excel_url, sheet_name=user_sheet_name)\n",
        "\n",
        "  # Print shape to just get an idea about samples\n",
        "  print(f'Shape of {user_sheet_name} is {df.shape}')\n",
        "\n",
        "  total_col = len(df.axes[1])\n",
        "  # Set some display options when run\n",
        "  pd.options.display.max_columns= total_col\n",
        "  pd.options.display.max_rows= 100\n",
        "\n",
        "  # display the record at position 10\n",
        "  #UNDO print(df.iloc[10])\n",
        "\n",
        "  # calculate the total net migration over the 5 years between 2015 and 2019\n",
        "  net_migration_in_2015 = df.net_per_10K_2015.sum()\n",
        "  print(f'net_migration_in_2015 = {net_migration_in_2015}')\n",
        "  \n",
        "  net_migration_in_2016 = df.net_per_10K_2016.sum()\n",
        "  print(f'net_migration_in_2016 = {net_migration_in_2016}')\n",
        "\n",
        "  net_migration_in_2017 = df.net_per_10K_2017.sum()\n",
        "  print(f'net_migration_in_2017 = {net_migration_in_2017}')\n",
        "\n",
        "  net_migration_in_2018 = df.net_per_10K_2018.sum()\n",
        "  print(f'net_migration_in_2018 = {net_migration_in_2018}')\n",
        "\n",
        "  net_migration_in_2019 = df.net_per_10K_2019.sum()\n",
        "  print(f'net_migration_in_2019 = {net_migration_in_2019}')\n",
        "\n",
        "  net_migration_2015_to_2019 = net_migration_in_2015 + net_migration_in_2016 + net_migration_in_2017 + net_migration_in_2018 + net_migration_in_2019\n",
        "  print(f'net_migration_2015_to_2019 is {net_migration_2015_to_2019}')\n",
        "\n",
        "\n",
        "net_migration_in_5yrs()"
      ],
      "execution_count": 41,
      "outputs": [
        {
          "output_type": "stream",
          "text": [
            "Shape of Country Migration is (4148, 17)\n",
            "net_migration_in_2015 = 1915.3700000000001\n",
            "net_migration_in_2016 = 623.23\n",
            "net_migration_in_2017 = -332.96999999999997\n",
            "net_migration_in_2018 = -168.36999999999998\n",
            "net_migration_in_2019 = -94.34000000000006\n",
            "net_migration_2015_to_2019 is 1942.9200000000005\n"
          ],
          "name": "stdout"
        }
      ]
    },
    {
      "cell_type": "markdown",
      "metadata": {
        "id": "cFffYI2qJJI-"
      },
      "source": [
        "### Exercise 9 - formulating a text response\n",
        "\n",
        "Using the Industry Migration data sheet, display the record at position 100.  Using the column names again to access the data in each column, calculate net migration over the 5 years from 2015 to 2019.\n",
        "\n",
        "Then print the following message, adding the data where indicated:\n",
        "\n",
        "The total net migration into `country` of skilled workers for the `industry name` industry, during the years 2015-2019 was `total_net_migration`"
      ]
    },
    {
      "cell_type": "code",
      "metadata": {
        "id": "dYlVTLOGNoOO"
      },
      "source": [
        ""
      ],
      "execution_count": null,
      "outputs": []
    },
    {
      "cell_type": "markdown",
      "metadata": {
        "id": "AGqV7ySKKadV"
      },
      "source": [
        "### Exercise 10 - five text responses\n",
        "\n",
        "Using the Industry Migration data sheet, calculate net migration (rounded to 1 decimal place) over the 5 years from 2015 to 2019 for the records at positions 1 to 5 and print the following message for each, adding the data where indicated:\n",
        "\n",
        "The total net migration into `country` of skilled workers for the `industry name` industry, during the years 2015-2019 was `total_net_migration`\n",
        "\n",
        "*Hint: use a for loop to get a record and do each calculation*"
      ]
    },
    {
      "cell_type": "code",
      "metadata": {
        "id": "f2ZMvHXTLRm1"
      },
      "source": [
        ""
      ],
      "execution_count": null,
      "outputs": []
    }
  ]
}