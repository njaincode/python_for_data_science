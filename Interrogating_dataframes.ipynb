{
  "nbformat": 4,
  "nbformat_minor": 0,
  "metadata": {
    "colab": {
      "name": "Interrogating_dataframes.ipynb",
      "provenance": [],
      "collapsed_sections": [],
      "toc_visible": true,
      "include_colab_link": true
    },
    "kernelspec": {
      "name": "python3",
      "display_name": "Python 3"
    },
    "language_info": {
      "name": "python"
    }
  },
  "cells": [
    {
      "cell_type": "markdown",
      "metadata": {
        "id": "view-in-github",
        "colab_type": "text"
      },
      "source": [
        "<a href=\"https://colab.research.google.com/github/njaincode/python_for_data_science/blob/main/Interrogating_dataframes.ipynb\" target=\"_parent\"><img src=\"https://colab.research.google.com/assets/colab-badge.svg\" alt=\"Open In Colab\"/></a>"
      ]
    },
    {
      "cell_type": "markdown",
      "metadata": {
        "id": "1Gs0TsVUvHgr"
      },
      "source": [
        "# Interrogating the dataframe\n",
        "---\n",
        "\n",
        "We use pandas to create dataframes from data sets in files or online tables.\n",
        "\n",
        "Once we have the dataframe we might want to:  \n",
        "*   display a subset of rows\n",
        "*   *   we can do this using df.head(), df.tail() or df.iloc[index]\n",
        "*   display a subset of columns\n",
        "*   *   we can do this using the column name as the key, e.g.   \n",
        "`                df['rain (mm)']`  \n",
        "*   *   we can display more than one column, simply by listing the columns in the square brackets, e.g.   \n",
        "`                df[['rain (mm)', 'tmin (degC)', 'sun (hours)']]`  \n",
        "*   *   and can dislay a subset of rows for a subset of columns, e.g.  \n",
        " `               df[['rain (mm)', 'tmax (degC)']].head(10)`\n",
        "\n",
        "\n"
      ]
    },
    {
      "cell_type": "markdown",
      "metadata": {
        "id": "rugxYQSIyHiR"
      },
      "source": [
        "### Exercise 1 - get the data, look at first 10 records\n",
        "---\n",
        "\n",
        "\n",
        "1.  Import the pandas library with the alias pd  \n",
        "2.  Read the sheet with the name \"Industry Migration\" from the Excel file from this link: https://github.com/futureCodersSE/working-with-data/blob/main/Data%20sets/public_use-talent-migration.xlsx?raw=true  (*Hint:  use pd.read_excel(url, sheet_name=\"Industry Migration\") with the above url.*)\n",
        "3.  display the first 10 rows of the data\n",
        "\n"
      ]
    },
    {
      "cell_type": "code",
      "metadata": {
        "id": "WHEnQlll1vyL"
      },
      "source": [
        "import pandas as pd\n",
        "\n",
        "def display_10_records():\n",
        "  excel_url = 'https://github.com/futureCodersSE/working-with-data/blob/main/Data%20sets/public_use-talent-migration.xlsx?raw=true'\n",
        "  df = pd.read_excel(excel_url, sheet_name='Industry Migration')\n",
        "  \n",
        "  total_rows = len(df.axes[0])\n",
        "  total_col = len(df.axes[1])\n",
        "  print(f'rows={total_rows}, col={total_col}')\n",
        "\n",
        "  # Setup some display options\n",
        "  pd.options.display.max_columns= total_col\n",
        "  pd.options.display.max_rows= total_rows\n",
        "  \n",
        "  # Just to see\n",
        "  print(df.shape)\n",
        "  print(df.info())\n",
        "  \n",
        "  # FIXME Nice way to print?\n",
        "  print(df.head(10))\n",
        "\n",
        "display_10_records()"
      ],
      "execution_count": null,
      "outputs": []
    },
    {
      "cell_type": "markdown",
      "metadata": {
        "id": "dBsdAsk43aoX"
      },
      "source": [
        "### Exercise 2 - display just two columns\n",
        "\n",
        "Display the first 50 records focusing on the industries where migration is happening in each country (show just country_name and industry_name)."
      ]
    },
    {
      "cell_type": "code",
      "metadata": {
        "id": "rDEzOpDXvGx0"
      },
      "source": [
        "import pandas as pd\n",
        "\n",
        "def display_2col_records():\n",
        "  excel_url = 'https://github.com/futureCodersSE/working-with-data/blob/main/Data%20sets/public_use-talent-migration.xlsx?raw=true'\n",
        "  df = pd.read_excel(excel_url, sheet_name='Industry Migration')\n",
        "  \n",
        "  total_rows = len(df.axes[0])\n",
        "  total_col = len(df.axes[1])\n",
        "  print(f'rows={total_rows}, col={total_col}')\n",
        "  pd.options.display.max_columns= total_col\n",
        "  pd.options.display.max_rows= 50\n",
        "  \n",
        "  # For debug\n",
        "  #print(df.info())\n",
        "\n",
        "  print(f'Printing country and industry names\\n')\n",
        "  print(df[['country_name' , 'industry_name']].head(50))\n",
        "  \n",
        "display_2col_records()"
      ],
      "execution_count": null,
      "outputs": []
    },
    {
      "cell_type": "markdown",
      "metadata": {
        "id": "ZIsrvFNjAuWE"
      },
      "source": [
        "### Exercise 3 - yearly migration\n",
        "\n",
        "*   display the middle 20 records, showing the country_name and the migration for each of the years 2015 to 2019.\n",
        "---\n"
      ]
    },
    {
      "cell_type": "code",
      "metadata": {
        "id": "yXpe9SuBBloC"
      },
      "source": [
        "import pandas as pd\n",
        "\n",
        "def display_mid20_records():\n",
        "  excel_url = 'https://github.com/futureCodersSE/working-with-data/blob/main/Data%20sets/public_use-talent-migration.xlsx?raw=true'\n",
        "  df = pd.read_excel(excel_url, sheet_name='Industry Migration')\n",
        "  \n",
        "  total_rows = len(df.axes[0])\n",
        "  total_col = len(df.axes[1])\n",
        "  \n",
        "  # Set some display options when run\n",
        "  pd.options.display.max_columns= total_col\n",
        "  pd.options.display.max_rows= 20\n",
        "\n",
        "  # Calculate ball park mid 20 indexes assuming there are >=20 rows\n",
        "  mid = int(total_rows/2)\n",
        "  idx_low = mid-10\n",
        "  idx_high = mid+9\n",
        "  print(f'rows={total_rows}, col={total_col}, mid_range {idx_low}: {idx_high}')\n",
        "  \n",
        "  # For debug\n",
        "  #print(df.info())\n",
        "  #print(df.columns)\n",
        "\n",
        "  # Get column number from column name\n",
        "  # Wanted to use col num to print but don't know how, need to explore more\n",
        "  col_idx_2015 = df.columns.get_loc('net_per_10K_2015')\n",
        "\n",
        "  # FIXME Can specific col name and range be used together in .loc?\n",
        "  \n",
        "  subset = df.loc[idx_low:idx_high, ['country_name', 'net_per_10K_2015', 'net_per_10K_2016','net_per_10K_2017','net_per_10K_2018','net_per_10K_2019']]\n",
        "  print(subset.shape)\n",
        "  print(f'Displaying mid 20 records with country name and migration from years [2015:2019]\\n')\n",
        "  print(subset)\n",
        "  \n",
        "\n",
        "display_mid20_records()"
      ],
      "execution_count": null,
      "outputs": []
    },
    {
      "cell_type": "markdown",
      "metadata": {
        "id": "2wfsDcuvBl7o"
      },
      "source": [
        "### Exercise 4 - migration to and from\n",
        "---\n",
        "\n",
        "The Excel file at this link (which you have already opened above): https://github.com/futureCodersSE/working-with-data/blob/main/Data%20sets/public_use-talent-migration.xlsx?raw=true has three data sheets, \"Country Migration\", \"Industry Migration\" and \"Skills Migration\"\n",
        "\n",
        "Open the data sheet \"Country Migration\" and display the first 10 records showing the country that migration was to, the country it was from and the net migration for each year from 2015 to 2019"
      ]
    },
    {
      "cell_type": "code",
      "metadata": {
        "id": "Q2tyWrG7-UAW"
      },
      "source": [
        "import pandas as pd\n",
        "\n",
        "def display_record(df, dest, src, net1):\n",
        "  subset = df.loc[0:9, [dest, src, net1]]\n",
        "  print(subset.shape)\n",
        "  print(f'Displaying mid 20 records with country name and migration from years [2015:2019]\\n')\n",
        "  print(subset)\n",
        "\n",
        "def display_country_migration():\n",
        "  excel_url = 'https://github.com/futureCodersSE/working-with-data/blob/main/Data%20sets/public_use-talent-migration.xlsx?raw=true'\n",
        "  df = pd.read_excel(excel_url, sheet_name='Country Migration')\n",
        "  total_rows = len(df.axes[0])\n",
        "  total_col = len(df.axes[1])\n",
        "  \n",
        "  # For debug\n",
        "  #print(f'rows={total_rows}, col={total_col}')\n",
        "  \n",
        "  # Set some display options when run\n",
        "  pd.options.display.max_rows= 10\n",
        "  \n",
        "  # Migrated to, migrated from and net migration for years [2015:2019]\n",
        "  cols = ['target_country_name', 'base_country_name', 'net_per_10K_2015', 'net_per_10K_2016', 'net_per_10K_2017', 'net_per_10K_2018', 'net_per_10K_2019']\n",
        "  df1 = df[cols]\n",
        "  print(df1.head(10))\n",
        "  #display_record(df, 'target_country_name', 'base_country_name', 'net_per_10K_2015')\n",
        "\n",
        "   \n",
        "display_country_migration()"
      ],
      "execution_count": null,
      "outputs": []
    },
    {
      "cell_type": "markdown",
      "metadata": {
        "id": "vb9QQv_VBHVk"
      },
      "source": [
        "### Exercise 5 - unique countries\n",
        "\n",
        "Using the \"Country Migration\" sheet, get all the unique country names from where people have migrated (base_country_name) and use a for loop to print a list of the countries."
      ]
    },
    {
      "cell_type": "code",
      "metadata": {
        "id": "f6uCYdEHBw1f"
      },
      "source": [
        "import pandas as pd\n",
        "\n",
        "def display_unique_countries():\n",
        "  excel_url = 'https://github.com/futureCodersSE/working-with-data/blob/main/Data%20sets/public_use-talent-migration.xlsx?raw=true'\n",
        "  df = pd.read_excel(excel_url, sheet_name='Country Migration')\n",
        "    \n",
        "  # Set some display options when run\n",
        "  pd.options.display.max_rows= 10\n",
        "  \n",
        "  # Just for learning\n",
        "  #bah = df[df.base_country_name == 'Bahrain']\n",
        "  #print(bah.head(10))\n",
        "  #print(df.keys())\n",
        "  \n",
        "  # Find unique base_country_name\n",
        "  # Get all rows from base_country_name key\n",
        "  df_base_name = df['base_country_name']\n",
        "  print(f'Total number of entries in base_country_name = {df_base_name.shape}')\n",
        "  # For debug\n",
        "  #print(df_base_name.head(10))\n",
        "  \n",
        "  # Another way\n",
        "  #df_uniq = df.drop_duplicates(subset = ['base_country_name'])\n",
        "  \n",
        "  # Get all unique values in rows\n",
        "  df_base_name_unique = df_base_name.drop_duplicates()\n",
        "  print(f'Total number of unique entries in base_country_name = {df_base_name_unique.shape}')\n",
        "    \n",
        "  print(f'Displaying unique country names using for loop')\n",
        "  for i in df_base_name_unique:\n",
        "    print(i)\n",
        "     \n",
        "\n",
        "display_unique_countries()\n"
      ],
      "execution_count": null,
      "outputs": []
    },
    {
      "cell_type": "markdown",
      "metadata": {
        "id": "SQNg0Sk5FaJ3"
      },
      "source": [
        "### Exercise 6 - how many countries are migrated to\n",
        "\n",
        "Using the \"Country Migration\" sheet again, get all the unique country names to where people have migrated and display the number of unique countries."
      ]
    },
    {
      "cell_type": "code",
      "metadata": {
        "id": "SCidja1FFySO"
      },
      "source": [
        "import pandas as pd\n",
        "\n",
        "def display_migration_to_unique_countries():\n",
        "  excel_url = 'https://github.com/futureCodersSE/working-with-data/blob/main/Data%20sets/public_use-talent-migration.xlsx?raw=true'\n",
        "  df = pd.read_excel(excel_url, sheet_name='Country Migration')\n",
        "    \n",
        "  # Set some display options when run\n",
        "  pd.options.display.max_rows= 10\n",
        "  \n",
        "  col = 'target_country_name'\n",
        "  # Find unique target_country_name\n",
        "  # Get all rows from target_country_name key\n",
        "  df_base_name = df[col]\n",
        "  print(f'Total number of entries in {col} = {df_base_name.shape}')\n",
        "\n",
        "  \n",
        "  # Get all unique values in rows\n",
        "  df_base_name_unique = df_base_name.drop_duplicates()\n",
        "  print(f'Total number of unique entries in {col} = {df_base_name_unique.shape}')\n",
        "    \n",
        "  print(f'Displaying unique country names using for loop')\n",
        "  for i in df_base_name_unique:\n",
        "    print(i)\n",
        "     \n",
        "\n",
        "display_migration_to_unique_countries()"
      ],
      "execution_count": null,
      "outputs": []
    },
    {
      "cell_type": "markdown",
      "metadata": {
        "id": "qyjM39DzFy3t"
      },
      "source": [
        "### Exercise 7 - skill sets\n",
        "---\n",
        "\n",
        "\n",
        "Using the \"Skill Migration\" data sheet, display the following:\n",
        "*  the first record\n",
        "*  the last 10 records\n",
        "*  records from index 500 to index 600  \n",
        "*  a count of all unique countries\n",
        "*  a list of all unique skill group categories\n",
        "*  the first 50 skill group names and net migration in 2019"
      ]
    },
    {
      "cell_type": "code",
      "metadata": {
        "id": "EWGy5iQHG8vA"
      },
      "source": [
        "import pandas as pd\n",
        "\n",
        "def display_skill_migration_data_samples():\n",
        "  excel_url = 'https://github.com/futureCodersSE/working-with-data/blob/main/Data%20sets/public_use-talent-migration.xlsx?raw=true'\n",
        "  user_sheet_name = 'Skill Migration'\n",
        "  df = pd.read_excel(excel_url, sheet_name=user_sheet_name)\n",
        "\n",
        "  # Print shape to just get an idea about samples\n",
        "  print(f'Shape of {user_sheet_name} is {df.shape}')\n",
        "\n",
        "  total_col = len(df.axes[1])\n",
        "  # Set some display options when run\n",
        "  pd.options.display.max_columns= total_col\n",
        "  pd.options.display.max_rows= 100\n",
        "\n",
        "  # Print the first record\n",
        "  print(f'First record {df.head(1)}')\n",
        "\n",
        "  # Print last 10 records\n",
        "  print(f'Last 10 records {df.tail(10)}')\n",
        "\n",
        "  # Print records [500:600]\n",
        "  # FIXME Why not all rows are getting printed?\n",
        "  print(f'Printing [500:600] \\n {df.iloc[500:601]}')\n",
        "\n",
        "  # a count of all unique countries\n",
        "  col = 'country_name'\n",
        "  df_country_name = df.drop_duplicates(subset = [col])\n",
        "  count = len(df_country_name.axes[0])\n",
        "    print(f'Unique country_name shape {df_country_name.shape} and total count {count}')\n",
        "\n",
        "  # a list of all unique skill group categories\n",
        "  col = 'skill_group_category'\n",
        "  df_skill_grp = df.drop_duplicates(subset = [col])\n",
        "  count = len(df_skill_grp.axes[0])\n",
        "    print(f'Unique skill group count is {count}')\n",
        "  \n",
        "  # the first 50 skill group names and net migration in 2019\n",
        "  col = ['skill_group_name', 'net_per_10K_2019']\n",
        "  df_skill_grp_net_mig_2019 = df[col]\n",
        "  # Just to get an idea\n",
        "  print(df_skill_grp_net_mig_2019.shape)\n",
        "  print(df_skill_grp_net_mig_2019.head(50))\n",
        "  \n",
        "\n",
        "display_skill_migration_data_samples()"
      ],
      "execution_count": null,
      "outputs": []
    },
    {
      "cell_type": "markdown",
      "metadata": {
        "id": "V_v89VIqG9Lq"
      },
      "source": [
        "### Exercise 8 - total net migration over 5 years\n",
        "---\n",
        "\n",
        "Using the Country Migration data sheet, display the record at position 10.  Using the column names to access the data in each column, add the five columns containing the net migration data together to calculate the total net migration over the 5 years between 2015 and 2019."
      ]
    },
    {
      "cell_type": "code",
      "metadata": {
        "id": "YTov4W2dILe2"
      },
      "source": [
        "import pandas as pd\n",
        "\n",
        "def net_migration_in_5yrs():\n",
        "  excel_url = 'https://github.com/futureCodersSE/working-with-data/blob/main/Data%20sets/public_use-talent-migration.xlsx?raw=true'\n",
        "  user_sheet_name = 'Country Migration'\n",
        "  df = pd.read_excel(excel_url, sheet_name=user_sheet_name)\n",
        "\n",
        "  # Print shape to just get an idea about samples\n",
        "  print(f'Shape of {user_sheet_name} is {df.shape}')\n",
        "\n",
        "  total_col = len(df.axes[1])\n",
        "  # Set some display options when run\n",
        "  pd.options.display.max_columns= total_col\n",
        "  pd.options.display.max_rows= 100\n",
        "\n",
        "  # display the record at position 10\n",
        "  print(df.iloc[10])\n",
        "\n",
        "  # calculate the total net migration over the 5 years between 2015 and 2019\n",
        "  net_migration_in_2015 = df.net_per_10K_2015.sum()\n",
        "  print(f'net_migration_in_2015 = {net_migration_in_2015}')\n",
        "  \n",
        "  net_migration_in_2016 = df.net_per_10K_2016.sum()\n",
        "  print(f'net_migration_in_2016 = {net_migration_in_2016}')\n",
        "\n",
        "  net_migration_in_2017 = df.net_per_10K_2017.sum()\n",
        "  print(f'net_migration_in_2017 = {net_migration_in_2017}')\n",
        "\n",
        "  net_migration_in_2018 = df.net_per_10K_2018.sum()\n",
        "  print(f'net_migration_in_2018 = {net_migration_in_2018}')\n",
        "\n",
        "  net_migration_in_2019 = df.net_per_10K_2019.sum()\n",
        "  print(f'net_migration_in_2019 = {net_migration_in_2019}')\n",
        "\n",
        "  net_migration_2015_to_2019 = net_migration_in_2015 + net_migration_in_2016 + net_migration_in_2017 + net_migration_in_2018 + net_migration_in_2019\n",
        "  print(f'net_migration_2015_to_2019 is {net_migration_2015_to_2019}')\n",
        "\n",
        "\n",
        "net_migration_in_5yrs()"
      ],
      "execution_count": null,
      "outputs": []
    },
    {
      "cell_type": "markdown",
      "metadata": {
        "id": "cFffYI2qJJI-"
      },
      "source": [
        "### Exercise 9 - formulating a text response\n",
        "\n",
        "Using the Industry Migration data sheet, display the record at position 100.  Using the column names again to access the data in each column, calculate net migration over the 5 years from 2015 to 2019.\n",
        "\n",
        "Then print the following message, adding the data where indicated:\n",
        "\n",
        "The total net migration into `country` of skilled workers for the `industry name` industry, during the years 2015-2019 was `total_net_migration`"
      ]
    },
    {
      "cell_type": "code",
      "metadata": {
        "id": "dYlVTLOGNoOO"
      },
      "source": [
        "import pandas as pd\n",
        "\n",
        "def sum_net_migration(df):\n",
        "  # calculate the total net migration over the 5 years between 2015 and 2019\n",
        "  net_migration_in_2015 = df.net_per_10K_2015\n",
        "  print(f'net_migration_in_2015 = {net_migration_in_2015}')\n",
        "  \n",
        "  net_migration_in_2016 = df.net_per_10K_2016\n",
        "  print(f'net_migration_in_2016 = {net_migration_in_2016}')\n",
        "\n",
        "  net_migration_in_2017 = df.net_per_10K_2017\n",
        "  print(f'net_migration_in_2017 = {net_migration_in_2017}')\n",
        "\n",
        "  net_migration_in_2018 = df.net_per_10K_2018\n",
        "  print(f'net_migration_in_2018 = {net_migration_in_2018}')\n",
        "\n",
        "  net_migration_in_2019 = df.net_per_10K_2019\n",
        "  print(f'net_migration_in_2019 = {net_migration_in_2019}')\n",
        "\n",
        "  net_migration_2015_to_2019 = net_migration_in_2015 + net_migration_in_2016 + net_migration_in_2017 + net_migration_in_2018 + net_migration_in_2019\n",
        "  print(f'net_migration_2015_to_2019 is {net_migration_2015_to_2019}')\n",
        "  \n",
        "  return net_migration_2015_to_2019\n",
        "\n",
        "\n",
        "def net_industry_migration_in_5yrs():\n",
        "  excel_url = 'https://github.com/futureCodersSE/working-with-data/blob/main/Data%20sets/public_use-talent-migration.xlsx?raw=true'\n",
        "  user_sheet_name = 'Industry Migration'\n",
        "  df = pd.read_excel(excel_url, sheet_name=user_sheet_name)\n",
        "\n",
        "  # Print shape to just get an idea about samples\n",
        "  print(f'Shape of {user_sheet_name} is {df.shape}')\n",
        "\n",
        "  total_col = len(df.axes[1])\n",
        "  # Set some display options when run\n",
        "  pd.options.display.max_columns= total_col\n",
        "  pd.options.display.max_rows= 100\n",
        "\n",
        "  # display the record at position 100\n",
        "  df_100 = df.iloc[100]\n",
        "  print(df_100)\n",
        "  \n",
        "  country_name = df_100['country_name']\n",
        "  industry_name = df_100['industry_name'] \n",
        "  # calculate net migration for record 100 over the 5 years from 2015 to 2019\n",
        "  # FIXME Is it just for record 100 or for all countries? I might have got exercise 8 wrong then :(\n",
        "  net_migration = sum_net_migration(df_100)\n",
        "\n",
        "  print(f'The total net migration into {country_name} of skilled workers for the {industry_name} industry, during the years 2015-2019 was {net_migration}')\n",
        "  \n",
        "net_industry_migration_in_5yrs()\n"
      ],
      "execution_count": null,
      "outputs": []
    },
    {
      "cell_type": "markdown",
      "metadata": {
        "id": "AGqV7ySKKadV"
      },
      "source": [
        "### Exercise 10 - five text responses\n",
        "\n",
        "Using the Industry Migration data sheet, calculate net migration (rounded to 1 decimal place) over the 5 years from 2015 to 2019 for the records at positions 1 to 5 and print the following message for each, adding the data where indicated:\n",
        "\n",
        "The total net migration into `country` of skilled workers for the `industry name` industry, during the years 2015-2019 was `total_net_migration`\n",
        "\n",
        "*Hint: use a for loop to get a record and do each calculation*"
      ]
    },
    {
      "cell_type": "code",
      "metadata": {
        "id": "f2ZMvHXTLRm1"
      },
      "source": [
        "import pandas as pd\n",
        "\n",
        "def sum_net_migration(df):\n",
        "  # calculate the total net migration over the 5 years between 2015 and 2019\n",
        "  \n",
        "  net_migration_2015_to_2019 = df.net_per_10K_2015 + df.net_per_10K_2016 + df.net_per_10K_2017 + df.net_per_10K_2018 + df.net_per_10K_2019\n",
        "  #print(f'net_migration_2015_to_2019 is {net_migration_2015_to_2019}')\n",
        "  \n",
        "  return net_migration_2015_to_2019\n",
        "\n",
        "def industry_migration_for_top_5_records():\n",
        "  excel_url = 'https://github.com/futureCodersSE/working-with-data/blob/main/Data%20sets/public_use-talent-migration.xlsx?raw=true'\n",
        "  user_sheet_name = 'Industry Migration'\n",
        "  df = pd.read_excel(excel_url, sheet_name=user_sheet_name)\n",
        "\n",
        "  # Print shape to just get an idea about samples\n",
        "  print(f'Shape of {user_sheet_name} is {df.shape}')\n",
        "\n",
        "  for i in range (5):\n",
        "    df_i = df.iloc[i]\n",
        "    #print(df_i)\n",
        "\n",
        "    country_name = df_i['country_name']\n",
        "    industry_name = df_i['industry_name'] \n",
        "    net_migration = round(sum_net_migration(df_i), 1)\n",
        "\n",
        "    print(f'The total net migration into {country_name} of skilled workers for the {industry_name} industry, during the years 2015-2019 was {net_migration}')\n",
        "  \n",
        "industry_migration_for_top_5_records()"
      ],
      "execution_count": null,
      "outputs": []
    }
  ]
}