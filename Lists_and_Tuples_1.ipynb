{
  "nbformat": 4,
  "nbformat_minor": 0,
  "metadata": {
    "colab": {
      "name": "Copy of Lists and Tuples 1.ipynb",
      "provenance": [],
      "include_colab_link": true
    },
    "kernelspec": {
      "name": "python3",
      "display_name": "Python 3"
    },
    "language_info": {
      "name": "python"
    }
  },
  "cells": [
    {
      "cell_type": "markdown",
      "metadata": {
        "id": "view-in-github",
        "colab_type": "text"
      },
      "source": [
        "<a href=\"https://colab.research.google.com/github/njaincode/python_for_data_science/blob/main/Lists_and_Tuples_1.ipynb\" target=\"_parent\"><img src=\"https://colab.research.google.com/assets/colab-badge.svg\" alt=\"Open In Colab\"/></a>"
      ]
    },
    {
      "cell_type": "markdown",
      "metadata": {
        "id": "Z-M-RCWATK71"
      },
      "source": [
        "# Lists and tuples\n",
        "\n",
        "Often we need to store a number of single items of data together so that they can be processed together. This might be because all the data refers to one person (e.g. name, age, gender, etc) OR it might be because we have a set of data (e.g. all the items that should be displayed in a drop down list, such as all the years from this year back to 100 years ago so that someone can select their year of birth)\n",
        "\n",
        "Python has a range of data structures available including:\n",
        "*   lists  \n",
        "*   tuples  \n",
        "*   dictionaries  \n",
        "*   sets\n",
        "\n",
        "This worksheet looks at lists and tuples.\n",
        "\n",
        "## List\n",
        "A list is a set of related, individual data objects, that are indexed and can be processed as a whole, as subsets or as individual items.  Lists are stored, essentially, as contiguous items in memory so that access can be as quick as possible.  However, they are mutable (they can be changed after they are created and stored) and so those mechanisms need to include extra functionality to deal with changing list sizes.\n",
        "\n",
        "## Tuple\n",
        "Essentially the same as a list but it is immutable.  Once it has been created it can't be changed.  It is stored in memory as contiguous items, with the size required being fixed right from the start.  This makes it faster to access.\n",
        "\n",
        "The code below will create two lists and a tuple.\n",
        "*   the first list contains 1000 random numbers between 1 and 100\n",
        "*   the second list is of random length (up to 5000) and each item is one of the 9 characteristics that are protected under the Equality Act in the UK.\n",
        "*   the tuple contains the 9 protected characteristics\n",
        "\n",
        "Before you start the exercises, run the code below.  It will generate the lists and tuple so that you can use them in the exercises.  If you need to recreate the lists again (because you have changed them and need to work on the originals, just run this cell again).\n",
        "\n",
        "***Note:***  *a list variable contains a reference to the start of the list in memory, rather than storing the list itself.  This means that if you assign the list to another variable (to make a copy), it will only copy across the reference.  If you change the copy, you change the original list.*\n",
        "\n",
        "*If you need to make a copy of the list you will need to use a loop to create a new list and copy all items across.*"
      ]
    },
    {
      "cell_type": "code",
      "metadata": {
        "id": "BDRckXeQXFMT"
      },
      "source": [
        "from random import randint, choice\n",
        "\n",
        "def get_num_list():\n",
        "  num_list = [randint(1,100) for n in range(1000)]\n",
        "  return num_list\n",
        "\n",
        "def get_protected_characteristics():\n",
        "  characteristics_tuple = ('age','disability','gender reassignment','marriage and civil partnership','pregnancy and maternity','race','religion or belief','sex','sexual orientation')\n",
        "  return characteristics_tuple\n",
        "\n",
        "def get_protected_characteristic_list(protected_characteristics):\n",
        "  char_list = [choice(protected_characteristics) for ch in range(randint(1,5000))]\n",
        "  return char_list\n",
        "\n",
        "nums = get_num_list()\n",
        "protected_characteristics = get_protected_characteristics()\n",
        "characteristics = get_protected_characteristic_list(protected_characteristics)"
      ],
      "execution_count": null,
      "outputs": []
    },
    {
      "cell_type": "markdown",
      "metadata": {
        "id": "xXT38-4ZV45n"
      },
      "source": [
        "## The exercises below will use the lists:  \n",
        "*   **nums** (a list of between 1 and 1000 random numbers, each number is between 0 and 1000)\n",
        "*   **characteristics** (a list of 5000 random protected_characteristics)\n",
        "\n",
        "and the tuple:\n",
        "*  **protected_characteristics** (a set of the 9 protected characteristics identified in the Equality Act)\n",
        "\n",
        "## You can run the cell above any number of times to generate new lists."
      ]
    },
    {
      "cell_type": "markdown",
      "metadata": {
        "id": "Ft0dXl7fUuaK"
      },
      "source": [
        "---\n",
        "### Exercise 1 - list head, tail and shape\n",
        "\n",
        "Write a function, **describe_list()** which will:\n",
        "*  print the length of the list `nums`\n",
        "*  print the first 10 items in `nums`  \n",
        "*  print the last 5 items in `nums`"
      ]
    },
    {
      "cell_type": "code",
      "metadata": {
        "id": "jUcZD7mmTJdA",
        "colab": {
          "base_uri": "https://localhost:8080/"
        },
        "outputId": "d974e2f5-4712-444b-ed81-43f5834c56ec"
      },
      "source": [
        "def describe_list():\n",
        "  num_list = get_num_list()\n",
        "  print(len(num_list))\n",
        "\n",
        "  print(num_list[0:10])\n",
        "  print(num_list[995:1000])\n",
        "  print(num_list[-5:])\n",
        "  \n",
        "  for i in range(10):\n",
        "    print(i, num_list[i])\n",
        "  for i in range(-1, -6, -1):\n",
        "    print(i, num_list[i])\n",
        "\n",
        "describe_list()\n"
      ],
      "execution_count": null,
      "outputs": [
        {
          "output_type": "stream",
          "text": [
            "1000\n",
            "[67, 70, 71, 75, 83, 93, 8, 37, 78, 57]\n",
            "[8, 1, 23, 68, 6]\n",
            "[8, 1, 23, 68, 6]\n",
            "0 67\n",
            "1 70\n",
            "2 71\n",
            "3 75\n",
            "4 83\n",
            "5 93\n",
            "6 8\n",
            "7 37\n",
            "8 78\n",
            "9 57\n",
            "-1 6\n",
            "-2 68\n",
            "-3 23\n",
            "-4 1\n",
            "-5 8\n"
          ],
          "name": "stdout"
        }
      ]
    },
    {
      "cell_type": "markdown",
      "metadata": {
        "id": "yNWg08k6bXv0"
      },
      "source": [
        "---\n",
        "### Exercise 2 - show tuple items\n",
        "\n",
        "Write a function which will:\n",
        "*   use a loop to print the list of protected characteristics from the `protected_characteristics` tuple.\n"
      ]
    },
    {
      "cell_type": "code",
      "metadata": {
        "id": "P2HnCG9pb1BS",
        "colab": {
          "base_uri": "https://localhost:8080/"
        },
        "outputId": "3e8ddd63-b149-48e6-c1f4-31808d8728df"
      },
      "source": [
        "def print_prot_char(ituple):\n",
        "  for i in ituple:\n",
        "    print(i)\n",
        "\n",
        "\n",
        "print_prot_char(get_protected_characteristics())\n",
        "\n"
      ],
      "execution_count": null,
      "outputs": [
        {
          "output_type": "stream",
          "text": [
            "age\n",
            "disability\n",
            "gender reassignment\n",
            "marriage and civil partnership\n",
            "pregnancy and maternity\n",
            "race\n",
            "religion or belief\n",
            "sex\n",
            "sexual orientation\n"
          ],
          "name": "stdout"
        }
      ]
    },
    {
      "cell_type": "markdown",
      "metadata": {
        "id": "RTSuQZs4b1JU"
      },
      "source": [
        "---\n",
        "### Exercise 3 - list a random subset\n",
        "\n",
        "Write a function which will:\n",
        "*  calculate the position of the middle item in the `characteristics` list   \n",
        "(*Hint: use len() to help with this*)\n",
        "*  calculate the position of the item that is 5 places before the middle item\n",
        "*  calculate the position of the item that is 5 places after the middle item\n",
        "*  print the part of the list that includes the items from 5 places before to 5 places after.  \n",
        "\n",
        "Expected output:  \n",
        "Your list will include 11 items."
      ]
    },
    {
      "cell_type": "code",
      "metadata": {
        "id": "OwhFnH2kdC11",
        "colab": {
          "base_uri": "https://localhost:8080/"
        },
        "outputId": "c76660e3-6a07-4095-b88a-ed9caec20b1d"
      },
      "source": [
        "def print_list():\n",
        "  print(len(characteristics))\n",
        "\n",
        "  middle_item = len(characteristics)/2\n",
        "  print(middle_item)\n",
        "  middle_item = int(middle_item)\n",
        "  print(middle_item)\n",
        "  before_5 = middle_item-5\n",
        "  after_5 = middle_item+5\n",
        "  print(before_5, after_5)\n",
        "  print(characteristics[before_5:after_5+1])\n",
        "\n",
        "print_list()"
      ],
      "execution_count": null,
      "outputs": [
        {
          "output_type": "stream",
          "text": [
            "4123\n",
            "2061.5\n",
            "2061\n",
            "2056 2066\n",
            "['sexual orientation', 'marriage and civil partnership', 'marriage and civil partnership', 'gender reassignment', 'disability', 'sex', 'disability', 'sex', 'marriage and civil partnership', 'gender reassignment', 'age']\n"
          ],
          "name": "stdout"
        }
      ]
    },
    {
      "cell_type": "markdown",
      "metadata": {
        "id": "KS0x3oFNePI9"
      },
      "source": [
        "---\n",
        "### Exercise 4 - create a copy\n",
        "\n",
        "Write a function which will: use a for loop to create a copy of the `nums` list:\n",
        "\n",
        "*   create a new, empty, list called **new_nums**  (*Hint: an empty list is [ ]*)\n",
        "*   use a for loop which uses the following syntax:  `for num in nums:`\n",
        "*   each time round the loop append `num` to `new_nums`  ( *`new_nums.append(num)`*)\n",
        "*   print the first 10 items of `new_nums`\n",
        "*   print the first 10 items of `nums`\n",
        "*   print the length of both lists"
      ]
    },
    {
      "cell_type": "code",
      "metadata": {
        "id": "mpK1Ip3we-uC",
        "colab": {
          "base_uri": "https://localhost:8080/"
        },
        "outputId": "59e7f47b-2ac8-46e3-c72c-085397eab660"
      },
      "source": [
        "def create_copy():\n",
        "  new_nums = []\n",
        "\n",
        "  # nums is list with <1000 items\n",
        "  for num in nums:\n",
        "    new_nums.append(num)\n",
        "  \n",
        "  if len(new_nums) <10:\n",
        "    end_range = len(new_nums)\n",
        "  else:\n",
        "    end_range = 10\n",
        "\n",
        "  for i in range(end_range):\n",
        "    print(f'new_nums {i}, {new_nums[i]} ')\n",
        "    print(f'nums {i}, {nums[i]}')\n",
        "\n",
        "\n",
        "\n",
        "create_copy()\n"
      ],
      "execution_count": null,
      "outputs": [
        {
          "output_type": "stream",
          "text": [
            "new_nums 0, 26 \n",
            "nums 0, 26\n",
            "new_nums 1, 20 \n",
            "nums 1, 20\n",
            "new_nums 2, 44 \n",
            "nums 2, 44\n",
            "new_nums 3, 40 \n",
            "nums 3, 40\n",
            "new_nums 4, 77 \n",
            "nums 4, 77\n",
            "new_nums 5, 11 \n",
            "nums 5, 11\n",
            "new_nums 6, 71 \n",
            "nums 6, 71\n",
            "new_nums 7, 93 \n",
            "nums 7, 93\n",
            "new_nums 8, 3 \n",
            "nums 8, 3\n",
            "new_nums 9, 23 \n",
            "nums 9, 23\n"
          ],
          "name": "stdout"
        }
      ]
    },
    {
      "cell_type": "markdown",
      "metadata": {
        "id": "deUIFWjRe-3G"
      },
      "source": [
        "\n",
        "\n",
        "```\n",
        "# This is formatted as code\n",
        "```\n",
        "\n",
        "---\n",
        "### Exercise 5 - count the occurrence of age in characteristics\n",
        "\n",
        "Write a function which will use the list method:\n",
        "\n",
        "`list_name.count(item)`\n",
        "\n",
        "to count the number of occurrences of 'age' in the `characteristics` list.  Print the result."
      ]
    },
    {
      "cell_type": "code",
      "metadata": {
        "id": "b9TrHQ9hfoIU",
        "colab": {
          "base_uri": "https://localhost:8080/"
        },
        "outputId": "7bc78d5b-86b4-41e3-f5ae-5d1acf36170a"
      },
      "source": [
        "#characteristics (a list of 5000 random protected_characteristics)\n",
        "\n",
        "def count_char(v1):\n",
        "  print(characteristics.count(v1))\n",
        "  \n",
        "\n",
        "count_char('age')"
      ],
      "execution_count": null,
      "outputs": [
        {
          "output_type": "stream",
          "text": [
            "476\n"
          ],
          "name": "stdout"
        }
      ]
    },
    {
      "cell_type": "markdown",
      "metadata": {
        "id": "zm2VI5RmfoSy"
      },
      "source": [
        "---\n",
        "### Exercise 6 - sort the nums list\n",
        "\n",
        "Write a function which will:\n",
        "*   call the function `get_num_list()` and store the result in a new list called **sort_nums**\n",
        "*   print the first, and last, 20 items in the `sort_nums` list\n",
        "*   use the `list_name.sort()` method to sort the `sort_nums` list into ascending order\n",
        "*   print the first, and last, 20 items again  \n",
        "*   use the `list_name.sort()` method again to sort the `sort_nums` list into descending order\n",
        "*   print the first, and last, 20 items again"
      ]
    },
    {
      "cell_type": "code",
      "metadata": {
        "id": "Fksgpj9JgWDs",
        "colab": {
          "base_uri": "https://localhost:8080/"
        },
        "outputId": "5de9d4e2-e01e-4e71-e2d6-ba34d22f29fc"
      },
      "source": [
        "def sort_num_list():\n",
        "  sort_nums = get_num_list()\n",
        "  print(sort_nums[0], sort_nums[-1])\n",
        "  \n",
        "  print(sort_nums[len(sort_nums)-20: len(sort_nums)])\n",
        "  print(sort_nums[-20:])\n",
        "  \n",
        "  # Sort\n",
        "  sort_nums.sort()\n",
        "  print(sort_nums[0], sort_nums[-1], sort_nums[-20:])\n",
        "\n",
        "  # Sort descending\n",
        "  sort_nums.sort(reverse=True)\n",
        "  print(sort_nums[0], sort_nums[-1], sort_nums[-20:])\n",
        "\n",
        "\n",
        "sort_num_list()"
      ],
      "execution_count": null,
      "outputs": [
        {
          "output_type": "stream",
          "text": [
            "95 8\n",
            "[13, 69, 5, 4, 51, 51, 20, 47, 66, 64, 50, 20, 100, 62, 57, 13, 28, 61, 87, 8]\n",
            "[13, 69, 5, 4, 51, 51, 20, 47, 66, 64, 50, 20, 100, 62, 57, 13, 28, 61, 87, 8]\n",
            "1 100 [99, 99, 99, 99, 99, 99, 99, 99, 99, 100, 100, 100, 100, 100, 100, 100, 100, 100, 100, 100]\n",
            "100 1 [3, 3, 3, 3, 3, 3, 2, 2, 2, 2, 2, 2, 2, 1, 1, 1, 1, 1, 1, 1]\n"
          ],
          "name": "stdout"
        }
      ]
    },
    {
      "cell_type": "markdown",
      "metadata": {
        "id": "_OF-Xuj1UrW0"
      },
      "source": [
        "---\n",
        "### Exercise 7 - get statistics (max(), min(), sum() )\n",
        "\n",
        "Write a function which will:\n",
        "*   print the maximum and minimum numbers in the `nums` list  \n",
        "*   print the sum of the `nums` list\n",
        "*   calculate and print the average of the `nums` list (using `len()` to help)"
      ]
    },
    {
      "cell_type": "code",
      "metadata": {
        "id": "9YmYMenZVGod",
        "colab": {
          "base_uri": "https://localhost:8080/"
        },
        "outputId": "1a968e54-eec0-415f-8f7c-5f89f5aaacb8"
      },
      "source": [
        "def get_list_stats():\n",
        "\n",
        "  # sort in ascending order, max=last element, min=first element\n",
        "  # Or use min(list)\n",
        "  nums.sort()\n",
        "  print(nums[0], nums[-1])\n",
        "\n",
        "  print(min(nums), max(nums), sum(nums), len(nums), sum(nums)/len(nums))\n",
        "  \n",
        "\n",
        "\n",
        "get_list_stats()"
      ],
      "execution_count": null,
      "outputs": [
        {
          "output_type": "stream",
          "text": [
            "1 100\n",
            "1 100 49844 1000 49.844\n"
          ],
          "name": "stdout"
        }
      ]
    },
    {
      "cell_type": "markdown",
      "metadata": {
        "id": "Mn4tHQ_KVbHa"
      },
      "source": [
        "---\n",
        "### Exercise 8 - percentage difference\n",
        "\n",
        "Write a function which will:\n",
        "*   generate a new list called **ex8_nums** using `get_num_list()`\n",
        "*   calculate and print the percentage of the first number in `ex8_nums` that is the difference between it and the first number in `nums` (subtract **ex8_num** from **num**, divide by `nums` and multiply by 100)\n",
        "*   calculate and print the percentage difference between the last numbers in each list in the same way\n",
        "*   calculate and print the percentage difference between the middle numbers in each list in the same way.\n",
        "*   calculate and print the percentage difference between the sums of each list in the same way"
      ]
    },
    {
      "cell_type": "code",
      "metadata": {
        "id": "nJCQjZIeZL0e",
        "colab": {
          "base_uri": "https://localhost:8080/"
        },
        "outputId": "59a31ca3-30dc-405d-be9c-a0eab757b535"
      },
      "source": [
        "def percent_diff():\n",
        "\n",
        "  ex8_nums = get_num_list()\n",
        "  if ex8_nums[0] > nums[0]:\n",
        "    first_item_diff_perc = ((ex8_nums[0]-nums[0])/nums[0])*100\n",
        "  else:\n",
        "    first_item_diff_perc = ((nums[0]-ex8_nums[0])/ex8_nums[0])*100\n",
        "    \n",
        "  print(ex8_nums[0], nums[0], first_item_diff_perc)\n",
        "\n",
        "percent_diff()"
      ],
      "execution_count": null,
      "outputs": [
        {
          "output_type": "stream",
          "text": [
            "2 1 100.0\n"
          ],
          "name": "stdout"
        }
      ]
    },
    {
      "cell_type": "markdown",
      "metadata": {
        "id": "HNs3lZmYawFO"
      },
      "source": [
        "---\n",
        "### Exercise 9 - characteristic counts\n",
        "\n",
        "Write a function which will:\n",
        "*  iterate through the `protected_characteristics` tuple and for each **characteristic**:\n",
        "*   *   count the number of occurrences of that `characteristic` in the `characteristics` list\n",
        "*   *   print the `protected_characteristic` and the **count**  \n",
        "\n",
        "Example expected output:\n",
        "\n",
        "age 100  \n",
        "disability 120  \n",
        "gender reassignment 120  \n",
        "marriage and civil partnership 111  \n",
        "pregnancy and maternity 103  \n",
        "race 106  \n",
        "religion or belief 95  \n",
        "sex 110  \n",
        "sexual orientation 113  \n",
        "\n",
        "Extra learning:  you can read [here](https://thispointer.com/python-how-to-pad-strings-with-zero-space-or-some-other-character/) how to justify the printed characteristic so that the output is organised into two columns as shown below:  \n",
        "![tabulated output](https://drive.google.com/uc?id=1CCXfX6K5ZeDefnq7vUsqxCDmqvcfY8Mz)\n",
        "\n",
        "\n",
        "\n"
      ]
    },
    {
      "cell_type": "code",
      "metadata": {
        "id": "GURT11albqUs",
        "colab": {
          "base_uri": "https://localhost:8080/"
        },
        "outputId": "fb009c57-8f5a-4b35-9635-266e6611771f"
      },
      "source": [
        "def char_count():\n",
        "\n",
        "  print(len(protected_characteristics), protected_characteristics)\n",
        "\n",
        "  for idx,val in enumerate(protected_characteristics):\n",
        "    #print(idx, val)\n",
        "    count_char = characteristics.count(val)\n",
        "    print(idx, val, count_char)\n",
        "\n",
        "char_count()"
      ],
      "execution_count": null,
      "outputs": [
        {
          "output_type": "stream",
          "text": [
            "9 ('age', 'disability', 'gender reassignment', 'marriage and civil partnership', 'pregnancy and maternity', 'race', 'religion or belief', 'sex', 'sexual orientation')\n",
            "0 age 476\n",
            "1 disability 430\n",
            "2 gender reassignment 475\n",
            "3 marriage and civil partnership 471\n",
            "4 pregnancy and maternity 463\n",
            "5 race 436\n",
            "6 religion or belief 474\n",
            "7 sex 448\n",
            "8 sexual orientation 450\n"
          ],
          "name": "stdout"
        }
      ]
    },
    {
      "cell_type": "markdown",
      "metadata": {
        "id": "9Po7yQj-ds38"
      },
      "source": [
        "---\n",
        "### Exercise 10 - characteristics statistics\n",
        "\n",
        "Assuming that the `characteristics` list may have been taken from a study of cases that have been taken to court in relation to the Equality Act.  \n",
        "\n",
        "Write a function which will:\n",
        "\n",
        "*   find the most common characteristic resulting in court action, from this population\n",
        "*   print this in a message, e.g. The characteristic with the highest number of court cases is:  *characteristic*\n",
        "*   print the list of `protected_characteristics`, on one line if possible - see [here](https://www.geeksforgeeks.org/g-fact-25-print-single-multiple-variable-python/)\n",
        "*   ask the user to enter a characteristic that they would like to see statistics on and use a while loop to continue until the user has entered a valid characteristic\n",
        "*   print the characteristic, its frequency and the percentage that this frequency is of the whole population."
      ]
    },
    {
      "cell_type": "code",
      "metadata": {
        "id": "uk_I5z7UgbDs",
        "colab": {
          "base_uri": "https://localhost:8080/"
        },
        "outputId": "ab945055-1722-4e48-bf16-a870058a0d2c"
      },
      "source": [
        "from collections import Counter\n",
        "\n",
        "def char_stat():\n",
        "\n",
        "  count = []\n",
        "  attr = []\n",
        "\n",
        "  #print(protected_characteristics)\n",
        "\n",
        "  total_cases = len(characteristics)\n",
        "  #print(characteristics[0:10])\n",
        "\n",
        "  # Counter returns an unordered dictionary\n",
        "  Counter_return = Counter(characteristics)\n",
        "  #print(Counter_return)\n",
        "  # most_common returns a list\n",
        "  des_order = Counter_return.most_common()\n",
        "  print(type(des_order[0]))\n",
        "  print(f' List of cases {des_order} ')\n",
        "  #print(des_order[0][0])\n",
        "\n",
        "  print(f'The characteristic with highest number of court cases is: {des_order[0][0]} with cases {des_order[0][1]}')\n",
        "\n",
        "char_stat()\n",
        "#ask the user to enter a characteristic that they would like to see statistics on and use a while loop to continue until the user has entered a valid characteristic\n",
        "#print the characteristic, its frequency and the percentage that this frequency is of the whole population.\n",
        "\n",
        "def user_char():\n",
        "  user_valid = False\n",
        "\n",
        "  while user_valid == False:\n",
        "    uchar = input('Please enter a valid char ')\n",
        "    if uchar in protected_characteristics:\n",
        "      ufreq = characteristics.count(uchar)\n",
        "      #print(type(ufreq))\n",
        "      #print(len(characteristics))\n",
        "      upercent = (ufreq/len(characteristics))*100\n",
        "      print(f'User entered char = {uchar}, its freq = {ufreq} and its %age {upercent}')\n",
        "      user_valid = True\n",
        "    else:\n",
        "      print(f'Please select valid range from {protected_characteristics}')\n",
        "    \n",
        "\n",
        "user_char()\n",
        "\n"
      ],
      "execution_count": null,
      "outputs": [
        {
          "output_type": "stream",
          "text": [
            "<class 'tuple'>\n",
            " List of cases [('marriage and civil partnership', 225), ('sex', 224), ('sexual orientation', 218), ('age', 218), ('gender reassignment', 211), ('race', 201), ('pregnancy and maternity', 198), ('religion or belief', 191), ('disability', 183)] \n",
            "The characteristic with highest number of court cases is: marriage and civil partnership with cases 225\n",
            "Please enter a valid char age\n",
            "User entered char = age, its freq = 218 and its %age 11.663991439272339\n"
          ],
          "name": "stdout"
        }
      ]
    }
  ]
}