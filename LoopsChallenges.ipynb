{
  "nbformat": 4,
  "nbformat_minor": 0,
  "metadata": {
    "colab": {
      "name": "LoopsChallenges.ipynb",
      "provenance": [],
      "collapsed_sections": [],
      "toc_visible": true,
      "include_colab_link": true
    },
    "kernelspec": {
      "name": "python3",
      "display_name": "Python 3"
    }
  },
  "cells": [
    {
      "cell_type": "markdown",
      "metadata": {
        "id": "view-in-github",
        "colab_type": "text"
      },
      "source": [
        "<a href=\"https://colab.research.google.com/github/njaincode/python_for_data_science/blob/main/LoopsChallenges.ipynb\" target=\"_parent\"><img src=\"https://colab.research.google.com/assets/colab-badge.svg\" alt=\"Open In Colab\"/></a>"
      ]
    },
    {
      "cell_type": "markdown",
      "metadata": {
        "id": "lGjlNDuSFdXx"
      },
      "source": [
        "# Loop Challenges \n",
        "\n",
        "---\n",
        "\n",
        "Each of these challenges will need a loop.  This may be a **while** loop or a **for** loop, you will need to decide which is needed."
      ]
    },
    {
      "cell_type": "markdown",
      "metadata": {
        "id": "nSx5LRcdLzx-"
      },
      "source": [
        "---\n",
        "## Challenge 1 - Sum of random numbers \n",
        "Write a function called **random_generator()** where python generates random numbers between 1 and 99 until the number 1 is generated.\n",
        "\n",
        "* use `randint(1, 100)` to generate random numbers \n",
        "* keep a running `total` - add numbers as they are generated \n",
        "* print `total` at the end \n",
        "* print the final generated number (should be 1) to check your function is working \n",
        "\n",
        "Example input (computer):\n",
        "\n",
        "10  \n",
        "78  \n",
        "6  \n",
        "42  \n",
        "56  \n",
        "81  \n",
        "15   \n",
        "1  \n",
        "\n",
        "Expected output:  \n",
        "\n",
        "289  \n",
        "1  "
      ]
    },
    {
      "cell_type": "code",
      "metadata": {
        "id": "FRRBydPTN3cv",
        "colab": {
          "base_uri": "https://localhost:8080/"
        },
        "outputId": "9f6abcad-a1c9-4333-ce02-a4fc021c4321"
      },
      "source": [
        "from random import randint\n",
        "\n",
        "def random_generator():\n",
        "\n",
        "  flag = True\n",
        "  total = 0\n",
        "\n",
        "  while flag == True:\n",
        "    rnum = randint(1,100)\n",
        "    total += rnum\n",
        "    if rnum == 1:\n",
        "      flag = False\n",
        "      print(total)\n",
        "      print(rnum)\n",
        "    else:\n",
        "      print(rnum) # just to see random nums\n",
        "\n",
        "random_generator()\n",
        "\n"
      ],
      "execution_count": 2,
      "outputs": [
        {
          "output_type": "stream",
          "text": [
            "42\n",
            "34\n",
            "46\n",
            "58\n",
            "21\n",
            "26\n",
            "66\n",
            "43\n",
            "19\n",
            "28\n",
            "30\n",
            "29\n",
            "81\n",
            "63\n",
            "43\n",
            "50\n",
            "90\n",
            "30\n",
            "26\n",
            "15\n",
            "91\n",
            "932\n",
            "1\n"
          ],
          "name": "stdout"
        }
      ]
    },
    {
      "cell_type": "markdown",
      "metadata": {
        "id": "aX8me4xxPMc0"
      },
      "source": [
        "---\n",
        "## Challenge 2 - Factorials \n",
        "\n",
        "Factorial of any number n is represented by n! and is equal to 1*2*3*....*(n-1)*n. \n",
        "\n",
        "E.g.   \n",
        "* 4! = 1 * 2 * 3 * 4 = 24  \n",
        "* 3! = 3 * 2 * 1 = 6\n",
        "* 2! = 2 * 1 = 2  \n",
        " Also,\n",
        "* 1! = 1\n",
        "* 0! = 1\n",
        "\n",
        "Write a function called **calculate_factorial()** which calculates the factorial of a user inputed number. \n",
        "\n",
        "* use a *while* loop to control repetition while the number being multiplied by is less than or equal to the number it is finding the factorial of, multiply each time round the loop  \n",
        "* print the answer at the end\n",
        "\n",
        "Test input:  \n",
        "\n",
        "6   \n",
        "10  \n",
        "1  \n",
        "0  \n",
        "\n",
        "Expected output:  \n",
        "\n",
        "720  \n",
        "3,628,800  \n",
        "1  \n",
        "1  \n",
        "\n",
        "### Extra challenge \n",
        "\n",
        "Can you write a function to calculate factorials but using a *for* loop instead? \n",
        "\n",
        "\n"
      ]
    },
    {
      "cell_type": "code",
      "metadata": {
        "id": "qcXqzf_lQDOv",
        "colab": {
          "base_uri": "https://localhost:8080/"
        },
        "outputId": "73da480f-f184-4ffa-e8b7-f0601c8189fb"
      },
      "source": [
        "def calculate_factorial(fnum):\n",
        "\n",
        "  fact_cal = False\n",
        "  ans = 1\n",
        "\n",
        "  for i in range(0,fnum,1):\n",
        "    ans *= i+1\n",
        "  print(ans)\n",
        "\n",
        "calculate_factorial(6)\n",
        "calculate_factorial(10)\n",
        "calculate_factorial(1)\n",
        "calculate_factorial(0)\n"
      ],
      "execution_count": 8,
      "outputs": [
        {
          "output_type": "stream",
          "text": [
            "720\n",
            "3628800\n",
            "1\n",
            "1\n"
          ],
          "name": "stdout"
        }
      ]
    },
    {
      "cell_type": "markdown",
      "metadata": {
        "id": "q1q-bTvERBHm"
      },
      "source": [
        "---\n",
        "## Challenge 3 - rolling a dice \n",
        "\n",
        "Write a function called **roll_dice()** that will use the `randint()` function from random to create random dice rolls for two dice.\n",
        "\n",
        "*  'roll' the two dice 6 times and count how many doubles were rolled in those 6 rolls.\n",
        "*  use a *for* loop\n",
        "\n",
        "*Hint: to throw a dice use the following:*\n",
        "\n",
        "`dice1 = randint(1,7)`\n",
        "\n",
        "Example input (computer):  \n",
        "\n",
        "4 1   \n",
        "5 5   \n",
        "6 3   \n",
        "2 2   \n",
        "3 4  \n",
        "1 1 \n",
        "\n",
        "Expected output:\n",
        "\n",
        "3   "
      ]
    },
    {
      "cell_type": "code",
      "metadata": {
        "id": "tppPCMWHR5Vv",
        "colab": {
          "base_uri": "https://localhost:8080/"
        },
        "outputId": "94370a23-a45f-47e8-fd7c-3e8407ea7967"
      },
      "source": [
        "from random import randint \n",
        "\n",
        "# Add your function below here\n",
        "def roll_dice():\n",
        "\n",
        "  dcount = 0 # No double count to start with \n",
        "\n",
        "  for i in range(0,6): # roll the dice 6 times\n",
        "    d1 = randint(1,7)\n",
        "    d2 = randint(1,7)\n",
        "    print(f'{d1} {d2}')\n",
        "\n",
        "    if d1 == d2: # double\n",
        "      dcount += 1\n",
        "\n",
        "  print(f'{dcount}')\n",
        "\n",
        "roll_dice()  \n"
      ],
      "execution_count": 12,
      "outputs": [
        {
          "output_type": "stream",
          "text": [
            "7 6\n",
            "5 5\n",
            "3 7\n",
            "5 3\n",
            "3 7\n",
            "2 7\n",
            "1\n"
          ],
          "name": "stdout"
        }
      ]
    },
    {
      "cell_type": "markdown",
      "metadata": {
        "id": "Kn0hb-ORSETx"
      },
      "source": [
        "---\n",
        "## Challenge 4 - fizz buzz \n",
        "\n",
        "Write a function called **fizz_buzz()** using a *for* loop which:\n",
        "\n",
        "* iterates over the numbers 1 to 30   \n",
        "* if the **number** is a multiple of 3 - print \"fizz\" instead of the `number`  \n",
        "* if it is a multiple of 5 - print \"buzz\" instead of the `number`   \n",
        "* if it is a multiple of both 3 and 5 - print \"fizzbuzz\" instead of the `number`    \n",
        "\n",
        "Expected Output:   \n",
        "1  \n",
        "2  \n",
        "fizz  \n",
        "4  \n",
        "buzz  \n",
        "fizz  \n",
        "7  \n",
        "8  \n",
        "fizz  \n",
        "buzz  \n",
        "11  \n",
        "fizz  \n",
        "13  \n",
        "14  \n",
        "fizz  \n",
        "16  \n",
        "17  \n",
        "fizz  \n",
        "19  \n",
        "20  \n",
        "fizz  \n",
        "22  \n",
        "23  \n",
        "fizz  \n",
        "25  \n",
        "26  \n",
        "fizz  \n",
        "28  \n",
        "29  \n",
        "fizzbuzz  "
      ]
    },
    {
      "cell_type": "code",
      "metadata": {
        "id": "L3CBRgNdSZhy",
        "colab": {
          "base_uri": "https://localhost:8080/"
        },
        "outputId": "6ad52f9d-4d6b-4511-8552-7d74f7142fec"
      },
      "source": [
        "def fizz_buzz():\n",
        "\n",
        "  for i in range(1,31):\n",
        "    if (i%3 == 0) and (i%5 == 0):\n",
        "      print('fizzbuzz')\n",
        "    elif (i%3 == 0):\n",
        "      print('fizz')\n",
        "    elif (i%5 == 0):\n",
        "      print('buzz')\n",
        "    else:\n",
        "      print(i)\n",
        "\n",
        "fizz_buzz()"
      ],
      "execution_count": 13,
      "outputs": [
        {
          "output_type": "stream",
          "text": [
            "1\n",
            "2\n",
            "fizz\n",
            "4\n",
            "buzz\n",
            "fizz\n",
            "7\n",
            "8\n",
            "fizz\n",
            "buzz\n",
            "11\n",
            "fizz\n",
            "13\n",
            "14\n",
            "fizzbuzz\n",
            "16\n",
            "17\n",
            "fizz\n",
            "19\n",
            "buzz\n",
            "fizz\n",
            "22\n",
            "23\n",
            "fizz\n",
            "buzz\n",
            "26\n",
            "fizz\n",
            "28\n",
            "29\n",
            "fizzbuzz\n"
          ],
          "name": "stdout"
        }
      ]
    },
    {
      "cell_type": "markdown",
      "metadata": {
        "id": "xFo3wYgkTBLs"
      },
      "source": [
        "---\n",
        "## Challenge 5 - perfect numbers \n",
        "\n",
        "Write a function called **check_perfect()** which checks whether a given number is perfect or not.\n",
        "\n",
        "* *a perfect number is a positive integer that is equal to the sum of its positive factors (factors > 0) excluding the number itself.* \n",
        "* *it is also half the sum of all positive factors including itself*\n",
        "\n",
        "\n",
        "*For example:*  \n",
        "*6 is a perfect number. It's only factors are 1, 2 & 3.   \n",
        "1 + 2 + 3 = 6  \n",
        "(1 + 2 + 3 + 6)/2 =6*  \n",
        "\n",
        "**Your function will:**\n",
        "\n",
        "* ask the user to input a **number**\n",
        "* find all of the given numbers that are positive factors, adding them together as it goes through the loop \n",
        "* check whether `number` is perfect or not (both checks)  \n",
        "* print either `number` is perfect or `number` is not perfect\n",
        "\n",
        "Test input:  \n",
        "6   \n",
        "23   \n",
        "28\n",
        "\n",
        "Expected output:  \n",
        "6 is perfect   \n",
        "23 is not perfect  \n",
        "28 is perfect    \n",
        "\n",
        "\n",
        "\n"
      ]
    },
    {
      "cell_type": "code",
      "metadata": {
        "id": "RsYuicPCWHqo",
        "colab": {
          "base_uri": "https://localhost:8080/"
        },
        "outputId": "c7537e73-63fc-45b8-818f-bdc964874705"
      },
      "source": [
        "def check_perfect(num):\n",
        "\n",
        "  factors_sum = 0\n",
        "  for i in range(1,num): # find all the factors sum\n",
        "    if (num%i == 0):\n",
        "      factors_sum += i\n",
        "\n",
        "  if ((factors_sum == num) and (factors_sum+num)/2 == num):\n",
        "    print(f'{num} is perfect')\n",
        "  else:\n",
        "    print(f'{num} is not perfect')\n",
        "\n",
        "check_perfect(6)\n",
        "check_perfect(23)\n",
        "check_perfect(28)\n",
        "\n"
      ],
      "execution_count": 14,
      "outputs": [
        {
          "output_type": "stream",
          "text": [
            "6 is perfect\n",
            "23 is not perfect\n",
            "28 is perfect\n"
          ],
          "name": "stdout"
        }
      ]
    },
    {
      "cell_type": "markdown",
      "metadata": {
        "id": "i8sxKhcEH11h"
      },
      "source": [
        "## Challenge 6 - Passcode   \n",
        "\n",
        "Write a function called **guess_letter(passcode, missing_letter)** which will allow a user to play a game with the computer.  \n",
        "\n",
        "* the computer needs to 'generate' a random passcode with a missing letter (this is done for you)   \n",
        "* the user has up to three attempts to guess the missing letter in a passcode.  \n",
        "\n",
        "### the passcode generator  \n",
        "\n",
        "This code is given to you and will choose 4 letters in the range A-Z (capitals only) and randomly selecting one to be replaced by a *  \n",
        "\n",
        "**Your function should follow these rules:**\n",
        "\n",
        "*  ask the user to enter the missing **letter**  \n",
        "*  count the **attempt**  \n",
        "* if the letter is correct, print the message \"Correct passcode\" and then stop    \n",
        "* if the letter is incorrect, print the message, \"You have `attempts` attempts left\"  \n",
        "* if three wrong attempts have been made and the user hasn't entered the correct letter, print \"No more attempts\"  \n",
        "\n",
        "Example input (computer):  \n",
        "\n",
        "NR*R , B \n",
        "\n",
        "Example input (user):  \n",
        "A    \n",
        "B  \n",
        "C  \n",
        "\n",
        "Expected output:  \n",
        "No more attempts   \n",
        "\n",
        "Example input (computer):  \n",
        "A*RD , T  \n",
        "\n",
        "Example input (user):  \n",
        "T    \n",
        "\n",
        "Expected output:  \n",
        "Correct passcode  \n",
        "\n",
        "Example input (computer):  \n",
        "*FES , F  \n",
        "\n",
        "Example input (user):  \n",
        "T\n",
        "F    \n",
        "\n",
        "Expected output:  \n",
        "You have 2 attempts left\n",
        "Correct passcode"
      ]
    },
    {
      "cell_type": "code",
      "metadata": {
        "id": "NJp2CgvtKP2Q",
        "colab": {
          "base_uri": "https://localhost:8080/"
        },
        "outputId": "54be6de7-bb06-4553-e4bd-3c7cbca18405"
      },
      "source": [
        "### importing package random \n",
        "from random import choice, randint\n",
        "\n",
        "def guess_passcode(passcode, missing_letter):\n",
        "# add your code below here:\n",
        "  print(passcode, missing_letter)\n",
        "\n",
        "  attempts = 3\n",
        "  failure = False\n",
        "\n",
        "  while ((attempts >0) and (failure == False)):\n",
        "    letter = input('Please enter an uppercase letter')\n",
        "    attempts -=1\n",
        "    if (letter == missing_letter):\n",
        "      print(f'Correct passcode')\n",
        "      failure = True\n",
        "    else:\n",
        "      print(f'You have {attempts} attempts left to guess, no pressure')\n",
        "\n",
        "  if failure == False:\n",
        "    print('No more attempts')  \n",
        "\n",
        "\n",
        "\n",
        "### code to generate a passcode with a missing letter, then run the function guess_passcode\n",
        "### DO NOT change anything below here\n",
        "passcode = \"\"\n",
        "letters = [chr(a) for a in range(ord('A'),ord('Z')+1)] # generate the letter between A and Z\n",
        "missing_position = randint(0,4)\n",
        "missing_letter = \"*\"\n",
        "for i in range(4):\n",
        "  letter = choice(letters)\n",
        "  if i == missing_position:\n",
        "    missing_letter = letter\n",
        "    passcode += \"*\"\n",
        "  else:\n",
        "    passcode += letter\n",
        "\n",
        "guess_passcode(passcode, missing_letter)"
      ],
      "execution_count": 17,
      "outputs": [
        {
          "output_type": "stream",
          "text": [
            "AOG* U\n",
            "Please enter an uppercase letterI\n",
            "You have 2 attempts left to guess, no pressure\n",
            "Please enter an uppercase letterO\n",
            "You have 1 attempts left to guess, no pressure\n",
            "Please enter an uppercase letterP\n",
            "You have 0 attempts left to guess, no pressure\n",
            "No more attempts\n"
          ],
          "name": "stdout"
        }
      ]
    }
  ]
}