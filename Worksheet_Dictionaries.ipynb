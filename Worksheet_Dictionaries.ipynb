{
  "nbformat": 4,
  "nbformat_minor": 0,
  "metadata": {
    "colab": {
      "name": "Copy of Worksheet - Dictionaries.ipynb",
      "provenance": [],
      "collapsed_sections": [],
      "toc_visible": true,
      "include_colab_link": true
    },
    "kernelspec": {
      "name": "python3",
      "display_name": "Python 3"
    },
    "language_info": {
      "name": "python"
    }
  },
  "cells": [
    {
      "cell_type": "markdown",
      "metadata": {
        "id": "view-in-github",
        "colab_type": "text"
      },
      "source": [
        "<a href=\"https://colab.research.google.com/github/njaincode/python_for_data_science/blob/main/Worksheet_Dictionaries.ipynb\" target=\"_parent\"><img src=\"https://colab.research.google.com/assets/colab-badge.svg\" alt=\"Open In Colab\"/></a>"
      ]
    },
    {
      "cell_type": "markdown",
      "metadata": {
        "id": "AiiF1h2X4PHP"
      },
      "source": [
        "# Dictionaries\n",
        "\n",
        "---\n",
        "\n",
        "A **dictionary** is a collection of dissimilar data stored together in one *record*. Each item of data has a  (or key) that describes its paired value.  \n",
        "\n",
        "Create a dictionary object by declaring the set of keys and values, e.g.:\n",
        "\n",
        "```\n",
        "   transport = {\n",
        "       \"type\":\"bus\",\n",
        "       \"numPassengers\":72,\n",
        "       \"colour\":\"blue\",\n",
        "       \"fuel\":\"diesel\"\n",
        "   }\n",
        "```\n",
        "\n",
        "To access a value in a dictionary, use its key:  \n",
        "\n",
        "```\n",
        "transport[\"type\"] = \"coach\"\n",
        "transport_type = transport[\"type\"]\n",
        "transport_colour = transport[\"colour\"]\n",
        "transport[\"fuel\"] = petrol\n",
        "```\n",
        "\n",
        "To add a new key/value pair to a dictionary, simply assign a value to a new key:  \n",
        "```\n",
        "transport[\"seats\"] = 54\n",
        "```\n",
        "\n",
        "The transport dictionary will now look like this:  \n",
        "```\n",
        "   transport = {\n",
        "       \"type\":\"bus\",\n",
        "       \"numPassengers\":72,\n",
        "       \"colour\":\"blue\",\n",
        "       \"fuel\":\"diesel\",\n",
        "       \"seats\":54\n",
        "   }\n",
        "```\n",
        "\n"
      ]
    },
    {
      "cell_type": "markdown",
      "metadata": {
        "id": "1uZ5kNWB6CqK"
      },
      "source": [
        "---\n",
        "### Exercise 1 - print dictionary\n",
        "\n",
        "Write a function which will:  \n",
        "\n",
        "*  create an empty dictionary for a person (name, age and postcode, with values \"\", 0 and \"\")\n",
        "*  ask the user for name, age and postcode and assign the values to the correct keys in the dictionary  \n",
        "*  print the dictionary\n",
        "\n",
        "Test input:  \n",
        "Jack Jones  \n",
        "16  \n",
        "AB5 3DF  \n",
        "\n",
        "Expected output:  \n",
        "[\"name\":\"Jack Jones\", \"age\":16, \"postcode\":\"AB5 3DF\"]"
      ]
    },
    {
      "cell_type": "code",
      "metadata": {
        "id": "Ac7VQTj94Mrc",
        "colab": {
          "base_uri": "https://localhost:8080/"
        },
        "outputId": "a11941a6-911d-4b13-df78-d11aa52902af"
      },
      "source": [
        "def create_dict():\n",
        "  udict = dict({'name': '', 'age': 0, 'postcode': ''})\n",
        "\n",
        "  udict['name'] = input('Please enter user name')\n",
        "  udict['age'] = int(input('Please enter age'))\n",
        "  udict['postcode'] = input('Please enter postcode')\n",
        "\n",
        "  print(udict)\n",
        "  \n",
        "\n",
        "create_dict()"
      ],
      "execution_count": 8,
      "outputs": [
        {
          "output_type": "stream",
          "text": [
            "Please enter user nameJack Jones\n",
            "Please enter age16\n",
            "Please enter postcodeAB5 3DF\n",
            "{'name': 'Jack Jones', 'age': 16, 'postcode': 'AB5 3DF'}\n"
          ],
          "name": "stdout"
        }
      ]
    },
    {
      "cell_type": "markdown",
      "metadata": {
        "id": "0OtNqNKv7WKm"
      },
      "source": [
        "---\n",
        "### Exercise 2 - create a dictionary\n",
        "\n",
        "Write a function that will create two dictionaries,without values:  \n",
        "\n",
        "1.  person (with keys firstname, surname, birthdate, postcode)  \n",
        "2.  car (with key/value pairs as follows:  make - Vauxhall, model - Corsa, engineSize - 1199, fuelType - unleaded, num_doors - 4)  \n",
        "\n",
        "*   ask the user to enter the values for the person dictionary  \n",
        "*   print, on one line, the person's name from the person dictionary and the make of the car from the car dictionary.\n",
        "\n",
        "Test input:  \n",
        "Jack  \n",
        "Jones  \n",
        "2005/02/02    \n",
        "AB5 3DF  \n",
        "\n",
        "Expected output:  \n",
        "Jack Jones Vauxhall"
      ]
    },
    {
      "cell_type": "code",
      "metadata": {
        "id": "ZyqhaBCC-GdI",
        "colab": {
          "base_uri": "https://localhost:8080/"
        },
        "outputId": "58e7868a-c773-4b3c-d758-c3a140971e2c"
      },
      "source": [
        "def create_dict_ex2():\n",
        "\n",
        "  person = {'firstname':'', 'surname':'', 'birthdate':'', 'postcode':''}\n",
        "  car = {'make': 'Vauxhall', 'model': 'Corsa', 'engineSize': 1199, 'fuelType': 'unleaded', 'num_doors' :4}\n",
        "\n",
        "  for keys in person:\n",
        "    person[keys] = input(f'Please enter {keys}')\n",
        "  #print(person)\n",
        "\n",
        "  print(person['firstname'], person['surname'], car['make'] ) \n",
        "  # {person['surname']} {car['make']}')\n",
        "\n",
        "create_dict_ex2()"
      ],
      "execution_count": 17,
      "outputs": [
        {
          "output_type": "stream",
          "text": [
            "Please enter firstnameJack\n",
            "Please enter surnameJones\n",
            "Please enter birthdate1/2/3\n",
            "Please enter postcode123\n",
            "Jack Jones Vauxhall\n"
          ],
          "name": "stdout"
        }
      ]
    },
    {
      "cell_type": "markdown",
      "metadata": {
        "id": "gYuuOUYw-G4I"
      },
      "source": [
        "---\n",
        "### Exercise 3 - check dictionary values\n",
        "\n",
        "Write a new function which will:\n",
        "\n",
        "*  set up the same two dictionaries as in Exercise 2  \n",
        "*  ask the user to enter the details to complete the person record  \n",
        "*  calculate the person's age  \n",
        "*  if the person is under 17 then print a message to say that they can't buy a car as they are too young to drive\n",
        "*  else if the person is under 25 then print a message to say that an engine size under 1200 is recommended  \n",
        "*  ask the user to enter the make of car that the person is looking for  \n",
        "*  if the user enters the same make as that stored in the car record, then print a message to say that you have one car of that make in stock and print all the details of the car that you have the record for\n",
        "*  else (if the user enters any other car make) then print a message to say sorry that you don't have any cars of that make in stock\n",
        "*  print a message to say that the user can get more details for stockist in the <user's postcode> area if they call 01234567890\n",
        "*  print a message to say \"Thank you <user's name> for using our site\"  \n",
        "\n",
        "Test input:  \n",
        "Jack  \n",
        "Jones  \n",
        "2005/02/02  \n",
        "AB5 3DF  \n",
        "Vauxhall  \n",
        "\n",
        "Expected output:  \n",
        "You are too young to drive\n",
        "\n",
        "Test input:  \n",
        "John  \n",
        "Jones  \n",
        "2003/02/02  \n",
        "AB5 3DF  \n",
        "Vauxhall \n",
        "\n",
        "Expected output:  \n",
        "An engine size under 1200 is recommended  \n",
        "We have one Vauxhall in stock, details:  \n",
        "Make - Vauxhall    \n",
        "Model - Corsa    \n",
        "Engine size - 1199  \n",
        "Fuel type - unleaded   \n",
        "Number of doors - 4  \n",
        "You can get more details of stockists near AB5 3DF on 01234567890  \n",
        "Thank you John Jones for using our site.     \n",
        "\n",
        "Test input:  \n",
        "John  \n",
        "Jones  \n",
        "2003/02/02  \n",
        "AB5 3DF  \n",
        "Ford  \n",
        "\n",
        "Expected output:  \n",
        "An engine size under 1200 is recommended  \n",
        "Sorry, we don't have any of that make in stock  \n"
      ]
    },
    {
      "cell_type": "code",
      "metadata": {
        "id": "Wp9Il2JG_hDh",
        "colab": {
          "base_uri": "https://localhost:8080/"
        },
        "outputId": "b52b1a1e-38c7-4fe2-9d76-45bc050fd760"
      },
      "source": [
        "from datetime import date\n",
        "\n",
        "def calculate_age(dtob):\n",
        "  today = date.today()\n",
        "  return today.year - dtob.year - ((today.month, today.day) < (dtob.month, dtob.day)) \n",
        "\n",
        "def create_dict_ex3():\n",
        "\n",
        "  person = {'firstname':'John', 'surname':'Jones', 'birthdate':'2003/02/02', 'postcode':'AB5 3DF'}\n",
        "  car = {'make': 'Vauxhall', 'model': 'Corsa', 'engineSize': 1199, 'fuelType': 'unleaded', 'num_doors' :4}\n",
        "\n",
        "  #calculate the person's age\n",
        "  #if the person is under 17 then print a message to say that they can't buy a car as they are too young to drive\n",
        "  #else if the person is under 25 then print a message to say that an engine size under 1200 is recommended\n",
        "\n",
        "  doby, dobm, dobd = person['birthdate'].split('/')\n",
        "  print(doby, dobm, dobd)\n",
        "  age = calculate_age(date(int(doby),int(dobm),int(dobd)))\n",
        "  print(age)\n",
        "\n",
        "  print(person.get('postcode'))\n",
        "\n",
        "  if age <17:\n",
        "    print('You are too young to drive a car so do not buy it')\n",
        "  elif age <25:\n",
        "    print('engine size under 1200 is recommended')\n",
        "\n",
        "  umake = input('Please enter the make of car ')\n",
        "  if car['make'] == umake:\n",
        "    print('We have one car of that make in stock')\n",
        "    print(car)\n",
        "    print(f'You can get more details for stockist in the {person.get(\"postcode\")} area if they call 01234567890')\n",
        "  else:\n",
        "    print('sorry any cars of that make are not in stock')\n",
        "\n",
        "  print('Thank you', person.get('firstname'), 'for using our site')\n",
        "\n",
        "#ask the user to enter the make of car that the person is looking for\n",
        "#if the user enters the same make as that stored in the car record, then print a message to say that you have one car of that make in stock and print all the details of the car that you have the record for\n",
        "#else (if the user enters any other car make) then print a message to say sorry that you don't have any cars of that make in stock\n",
        "#print a message to say that the user can get more details for stockist in the <user's postcode> area if they call 01234567890\n",
        "#print a message to say \"Thank you <user's name> for using our site\"\n",
        " \n",
        "\n",
        "create_dict_ex3()"
      ],
      "execution_count": 33,
      "outputs": [
        {
          "output_type": "stream",
          "text": [
            "2003 02 02\n",
            "18\n",
            "AB5 3DF\n",
            "engine size under 1200 is recommended\n",
            "Please enter the make of car Vauxhall\n",
            "We have one car of that make in stock\n",
            "{'make': 'Vauxhall', 'model': 'Corsa', 'engineSize': 1199, 'fuelType': 'unleaded', 'num_doors': 4}\n",
            "You can get more details for stockist in the AB5 3DF area if they call 01234567890\n",
            "Thank you John for using our site\n"
          ],
          "name": "stdout"
        }
      ]
    },
    {
      "cell_type": "markdown",
      "metadata": {
        "id": "I6dUiRwn7Gkg"
      },
      "source": [
        "---\n",
        "### Exercise 4 - print keys and values\n",
        "\n",
        "Two dictionaries have been created below.  You can print a list of the dictionary's keys using dictionary_name.keys() and the values using dictionary_name.values()\n",
        "\n",
        "Write a function which will accept a dictionary as a parameter and will:  \n",
        "*  print the dictionary keys as a list  \n",
        "*  print the dictionary values as a list\n",
        "\n",
        "Expected Output\n",
        "\n",
        "['Andy', 'Angela']\n",
        "[25, 55]\n",
        "['Andy', 'Angela']\n",
        "[58, 72]  \n",
        "\n",
        "\n",
        "\n"
      ]
    },
    {
      "cell_type": "code",
      "metadata": {
        "id": "FApOckhJEsMs",
        "colab": {
          "base_uri": "https://localhost:8080/"
        },
        "outputId": "2372f33b-5ec5-4841-8ba4-7b9b22fdb5b4"
      },
      "source": [
        "def display_dictionary(scores):\n",
        "  #  add your code below this line\n",
        "  print(scores.keys())\n",
        "  print(scores.values())\n",
        "\n",
        "  keys_list = list(scores.keys())\n",
        "  print(type(keys_list))\n",
        "  print(keys_list)\n",
        "\n",
        "  values_list = list(scores.values())\n",
        "  print(type(values_list))\n",
        "  print(values_list)\n",
        "\n",
        "#  for keys,values in scores.items():\n",
        "#    print(keys, \"--\", values)\n",
        "\n",
        "\n",
        "english_scores = {'Andy': 25, 'Angela': 55}\n",
        "maths_scores = {'Andy': 58, 'Angela': 72}\n",
        "\n",
        "#display_dictionary(english_scores)\n",
        "display_dictionary(maths_scores)"
      ],
      "execution_count": 41,
      "outputs": [
        {
          "output_type": "stream",
          "text": [
            "dict_keys(['Andy', 'Angela'])\n",
            "dict_values([58, 72])\n",
            "<class 'list'>\n",
            "['Andy', 'Angela']\n",
            "<class 'list'>\n",
            "[58, 72]\n"
          ],
          "name": "stdout"
        }
      ]
    },
    {
      "cell_type": "markdown",
      "metadata": {
        "id": "segSpkmBFSJl"
      },
      "source": [
        "---\n",
        "### Exercise 5 - add field\n",
        "\n",
        "Write a function which will:\n",
        "\n",
        "*  create a new dictionary called science with values of 0 for both Angela and Andy\n",
        "*  update Andy's score for science to 73 and Angela's score to 73   \n",
        "*  create a new key/value pair by adding another learner to the science  dictionary (George has a score of 55)    \n",
        "*  print the science dictionary to check results  \n",
        "\n",
        "Expected Output\n",
        "\n",
        "{'Andy': 73, 'Angela': 73, 'George': 55}"
      ]
    },
    {
      "cell_type": "code",
      "metadata": {
        "id": "BL1JM-Z7Gttf",
        "colab": {
          "base_uri": "https://localhost:8080/"
        },
        "outputId": "d6e82da2-6a5b-4ed2-b735-921869667211"
      },
      "source": [
        "def dic_add_field():\n",
        "\n",
        "  science = {'Angela': 0, 'Andy': 0}\n",
        "  science.update({'Andy':73, 'Angela':73, 'George': 55})\n",
        "  print(science)\n",
        "\n",
        "dic_add_field()\n"
      ],
      "execution_count": 43,
      "outputs": [
        {
          "output_type": "stream",
          "text": [
            "{'Angela': 73, 'Andy': 73, 'George': 55}\n"
          ],
          "name": "stdout"
        }
      ]
    },
    {
      "cell_type": "markdown",
      "metadata": {
        "id": "_Vzv0zlHGt-C"
      },
      "source": [
        "---\n",
        "### Exercise 6 - loop through keys/value pairs\n",
        "\n",
        "Write a function which will use a *for* loop to print the each key/value pair in the science dictionary (recreate this dictionary in this function) \n",
        "\n",
        "*(Hint: you can iterate through the key/value pairs in the dictionary in the same way as you iterate through a loop (e.g. for record in dictionary) and print the record (which is the key) and its value)*\n",
        "\n",
        "Expected output:  \n",
        "\n",
        "Angela 72  \n",
        "Andy 72  \n",
        "George 55  "
      ]
    },
    {
      "cell_type": "code",
      "metadata": {
        "id": "JL40_-W-Hxnt",
        "colab": {
          "base_uri": "https://localhost:8080/"
        },
        "outputId": "20658c00-239b-43de-9ae7-c956185e0bf1"
      },
      "source": [
        "def print_dict():\n",
        "  science = {'Angela': 73, 'Andy': 73, 'George': 55}\n",
        "\n",
        "  for key,value in science.items():\n",
        "    print(f'{key}  {value}')\n",
        "\n",
        "print_dict()"
      ],
      "execution_count": 44,
      "outputs": [
        {
          "output_type": "stream",
          "text": [
            "Angela  73\n",
            "Andy  73\n",
            "George  55\n"
          ],
          "name": "stdout"
        }
      ]
    },
    {
      "cell_type": "markdown",
      "metadata": {
        "id": "G9wamxzRJdrE"
      },
      "source": [
        "---\n",
        "### Exercise 7 - generate new dictionary  \n",
        "\n",
        "Write a functions which will:\n",
        "*  create a new dictionary where the keys are numbers between 1 and 15 (both included) and the values are square of keys\n",
        "*  print the dictionary\n",
        "\n",
        "Expected output:  \n",
        "{1: 1, 2: 4, 3: 9, 4: 16, 5: 25, 6: 36, 7: 49, 8: 64, 9: 81, 10: 100, 11: 121, 12: 144, 13: 169, 14: 196, 15: 225}"
      ]
    },
    {
      "cell_type": "code",
      "metadata": {
        "id": "1-LI-LVrJ--N",
        "colab": {
          "base_uri": "https://localhost:8080/"
        },
        "outputId": "3d65794b-677d-4847-c3a4-f92fc04c7caf"
      },
      "source": [
        "def gen_dict():\n",
        "\n",
        "  new_dict = {}\n",
        "  for i in range (1, 16):\n",
        "    new_dict.update({i:i**2})\n",
        "\n",
        "  print(new_dict)\n",
        "\n",
        "gen_dict() \n",
        "\n",
        "\n"
      ],
      "execution_count": 48,
      "outputs": [
        {
          "output_type": "stream",
          "text": [
            "{1: 1, 2: 4, 3: 9, 4: 16, 5: 25, 6: 36, 7: 49, 8: 64, 9: 81, 10: 100, 11: 121, 12: 144, 13: 169, 14: 196, 15: 225}\n"
          ],
          "name": "stdout"
        }
      ]
    },
    {
      "cell_type": "markdown",
      "metadata": {
        "id": "t0y4mefwJ_jQ"
      },
      "source": [
        "---\n",
        "### Exercise 8 - colour dictionary  \n",
        "\n",
        "Write a function which will:  \n",
        "*  create a new dictionary record called colour_codes with the values 'red' - '#FF0000', 'green' - '#008000', 'black' - '#000000', 'white' - '#FFFFFF'\n",
        "*  add a new colour code:  'blue' - '#0000FF'    \n",
        "*  remove the colours black and white from the dictionary  \n",
        "\n",
        "*Hint:  there is a list of methods [here](https://www.w3schools.com/python/python_ref_dictionary.asp)*  "
      ]
    },
    {
      "cell_type": "code",
      "metadata": {
        "id": "yod1mUNOMeWg",
        "colab": {
          "base_uri": "https://localhost:8080/"
        },
        "outputId": "e6d532ce-bdf4-4076-c4f3-e1597ab298a9"
      },
      "source": [
        "def color_dict():\n",
        "  colour_codes = { 'red': '#FF0000', 'green': '#008000', 'black': '#000000', 'white': '#FFFFFF'}\n",
        "  colour_codes.update({'blue': '#0000FF'})\n",
        "  print(colour_codes)\n",
        "  colour_codes.pop('black')\n",
        "  colour_codes.pop('white')\n",
        "  print(colour_codes)\n",
        "\n",
        "color_dict()\n"
      ],
      "execution_count": 51,
      "outputs": [
        {
          "output_type": "stream",
          "text": [
            "{'red': '#FF0000', 'green': '#008000', 'black': '#000000', 'white': '#FFFFFF', 'blue': '#0000FF'}\n",
            "{'red': '#FF0000', 'green': '#008000', 'blue': '#0000FF'}\n"
          ],
          "name": "stdout"
        }
      ]
    },
    {
      "cell_type": "markdown",
      "metadata": {
        "id": "gjos_0vuMeyS"
      },
      "source": [
        "---\n",
        "### Exercise 9 - item tuples  \n",
        "\n",
        "Write a function which will:  \n",
        "*  create a new dictionary containing the colour codes for red, green, blue, black and white\n",
        "*  print the key/value pairs of a dictionary as a list of tuples  \n",
        "\n",
        "*Hint:  iterate through colours.items()*"
      ]
    },
    {
      "cell_type": "code",
      "metadata": {
        "id": "EzuMkUypOKTY",
        "colab": {
          "base_uri": "https://localhost:8080/"
        },
        "outputId": "f458bf2e-93d8-4e12-e720-6140217684c3"
      },
      "source": [
        "def item_tuples():\n",
        "  colour_codes = { 'red': '#FF0000', 'green': '#008000', 'black': '#000000', 'white': '#FFFFFF', 'blue': '#0000FF'}\n",
        "\n",
        "  for key in colour_codes.items():\n",
        "    print(key)\n",
        "    print(type(key))\n",
        "\n",
        "item_tuples()\n"
      ],
      "execution_count": 53,
      "outputs": [
        {
          "output_type": "stream",
          "text": [
            "('red', '#FF0000')\n",
            "<class 'tuple'>\n",
            "('green', '#008000')\n",
            "<class 'tuple'>\n",
            "('black', '#000000')\n",
            "<class 'tuple'>\n",
            "('white', '#FFFFFF')\n",
            "<class 'tuple'>\n",
            "('blue', '#0000FF')\n",
            "<class 'tuple'>\n"
          ],
          "name": "stdout"
        }
      ]
    },
    {
      "cell_type": "markdown",
      "metadata": {
        "id": "Jw1ot10cOc6r"
      },
      "source": [
        "---\n",
        "### Exercise 10 - check if empty\n",
        "Taken from w3resouce.com  \n",
        "\n",
        "Write a function which will check if a dictionary is empty or not\n",
        "\n",
        "*Hint:  you can use bool(dictionary_name), if the dictionary is empty then bool(dictionary_name will be false)*\n",
        "\n",
        "Test 1 sample data:\n",
        "{}\n",
        "\n",
        "Expected output:\n",
        "Dictionary is empty  \n",
        "\n",
        "Test 2 sample data:  \n",
        "{\"name\":\"Groucho\", \"occupation\":\"comedian\"}\n",
        "\n",
        "Expected output:  \n",
        "Dictionary is not empty"
      ]
    },
    {
      "cell_type": "code",
      "metadata": {
        "id": "7UdM1TfwRqnt",
        "colab": {
          "base_uri": "https://localhost:8080/"
        },
        "outputId": "20b06ee4-93b8-4893-89e5-050373bfcbbd"
      },
      "source": [
        "def check_empty():\n",
        "\n",
        "  dict1 = {}\n",
        "  dict2 = {\"name\":\"Groucho\", \"occupation\":\"comedian\"}\n",
        "\n",
        "  print(len(dict1), len(dict2))\n",
        "  print(bool(dict1), bool(dict2))\n",
        "\n",
        "check_empty()"
      ],
      "execution_count": 55,
      "outputs": [
        {
          "output_type": "stream",
          "text": [
            "0 2\n",
            "False True\n"
          ],
          "name": "stdout"
        }
      ]
    }
  ]
}