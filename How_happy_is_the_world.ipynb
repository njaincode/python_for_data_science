{
  "nbformat": 4,
  "nbformat_minor": 0,
  "metadata": {
    "colab": {
      "name": "How-happy-is-the-world.ipynb",
      "provenance": [],
      "collapsed_sections": [],
      "toc_visible": true,
      "include_colab_link": true
    },
    "kernelspec": {
      "name": "python3",
      "display_name": "Python 3"
    }
  },
  "cells": [
    {
      "cell_type": "markdown",
      "metadata": {
        "id": "view-in-github",
        "colab_type": "text"
      },
      "source": [
        "<a href=\"https://colab.research.google.com/github/njaincode/python_for_data_science/blob/main/How_happy_is_the_world.ipynb\" target=\"_parent\"><img src=\"https://colab.research.google.com/assets/colab-badge.svg\" alt=\"Open In Colab\"/></a>"
      ]
    },
    {
      "cell_type": "markdown",
      "metadata": {
        "id": "EfHTHqgybeJD"
      },
      "source": [
        "# How happy is the world?\n",
        "\n",
        "![HappinessImage-Benjamin Scott](https://drive.google.com/uc?id=1wWdXTclLAjPpZUiKkR8XGg0Sl7iD1u8T)  \n",
        "\n",
        "(Image by Benjamin Scott, [source](https://www.natureindex.com/news-blog/data-visualization-these-are-the-happiest-countries-world-happiness-report-twenty-nineteen))   \n",
        "\n",
        "The Sustainable Development Solutions Network (SDSN) collects data across the world relating to happiness.  They use this data to rank countries in order of happiness factor.\n",
        "\n",
        "This is not an exact science but can give food for thought in terms of what factors might have the most impact on a nation's happiness levels.\n",
        "\n",
        "Data is taken from the Gallup World Poll, so not collected directly by SDSN.  \n",
        "Countries are grouped by region.  \n",
        "\n",
        "### The factors included are:\n",
        "Economy (measured in GDP per Capita)\t\n",
        "Family (support systems) \t\n",
        "Health (measured by Life Expectancy)\t\n",
        "Freedom (sense of)  \t \n",
        "Trust (Government Corruption)\t\n",
        "Generosity (charitable inclinations)  \t\n",
        "Dystopia Residual \n",
        "*  Dystopic is the theoretical most unhappy country with the lowest levels in all six of the above factors  \n",
        "*  The Residual measure is a calculated as the average of the six distances from lowest\n",
        "\n",
        "Let's take a look at the data\n"
      ]
    },
    {
      "cell_type": "markdown",
      "metadata": {
        "id": "YT8CcbwXhH8B"
      },
      "source": [
        "---\n",
        "### Open a data set\n",
        "\n",
        "Open the data set, an Excel file with only one sheet (so sheet_name is not necessary) from here: https://github.com/futureCodersSE/working-with-data/blob/main/Happiness-Data/2015.xlsx?raw=true\n",
        "\n",
        "Interrogate the data (head, tail, iloc) to get to know what it contains.\n"
      ]
    },
    {
      "cell_type": "code",
      "metadata": {
        "id": "W1zTAPp6jZ8h",
        "colab": {
          "base_uri": "https://localhost:8080/"
        },
        "outputId": "4cafb88a-c9d8-4a61-a616-a4fe6507c3a7"
      },
      "source": [
        "import pandas as pd\n",
        "\n",
        "def happiness_stat():\n",
        "  excel_url = 'https://github.com/futureCodersSE/working-with-data/blob/main/Happiness-Data/2015.xlsx?raw=true'\n",
        "  df_hap_2015 = pd.read_excel(excel_url)\n",
        "    \n",
        "  # Set some display options when run\n",
        "  pd.options.display.max_rows= 20\n",
        "  pd.options.display.max_columns= 12\n",
        "  \n",
        "  # Show summary information - number of rows, columns and their data types\n",
        "  #print(f'Happiness data summary \\n {df_hap_2015.info()}')\n",
        "  #print(df_hap_2015.info())\n",
        "\n",
        "  # Describe the dataset - shows count/min/max/std/25% etc.\n",
        "  #print(f'Happiness data description \\n {df_hap_2015.describe()}')\n",
        "\n",
        "  # Display head\n",
        "  print(f'Happiness data head \\n {df_hap_2015.head()}')\n",
        "\n",
        "  # Display tail\n",
        "  print(f'Happiness data tail \\n {df_hap_2015.tail()}')\n",
        "\n",
        "  happiness_stat()"
      ],
      "execution_count": 8,
      "outputs": [
        {
          "output_type": "stream",
          "text": [
            "Happiness data head \n",
            "        Country          Region  Happiness Rank  Happiness Score  \\\n",
            "0  Switzerland  Western Europe               1            7.587   \n",
            "1      Iceland  Western Europe               2            7.561   \n",
            "2      Denmark  Western Europe               3            7.527   \n",
            "3       Norway  Western Europe               4            7.522   \n",
            "4       Canada   North America               5            7.427   \n",
            "\n",
            "   Standard Error  Economy (GDP per Capita)   Family  \\\n",
            "0         0.03411                   1.39651  1.34951   \n",
            "1         0.04884                   1.30232  1.40223   \n",
            "2         0.03328                   1.32548  1.36058   \n",
            "3         0.03880                   1.45900  1.33095   \n",
            "4         0.03553                   1.32629  1.32261   \n",
            "\n",
            "   Health (Life Expectancy)  Freedom  Trust (Government Corruption)  \\\n",
            "0                   0.94143  0.66557                        0.41978   \n",
            "1                   0.94784  0.62877                        0.14145   \n",
            "2                   0.87464  0.64938                        0.48357   \n",
            "3                   0.88521  0.66973                        0.36503   \n",
            "4                   0.90563  0.63297                        0.32957   \n",
            "\n",
            "   Generosity  Dystopia Residual  \n",
            "0     0.29678            2.51738  \n",
            "1     0.43630            2.70201  \n",
            "2     0.34139            2.49204  \n",
            "3     0.34699            2.46531  \n",
            "4     0.45811            2.45176  \n",
            "Happiness data tail \n",
            "      Country                           Region  Happiness Rank  \\\n",
            "153   Rwanda               Sub-Saharan Africa             154   \n",
            "154    Benin               Sub-Saharan Africa             155   \n",
            "155    Syria  Middle East and Northern Africa             156   \n",
            "156  Burundi               Sub-Saharan Africa             157   \n",
            "157     Togo               Sub-Saharan Africa             158   \n",
            "\n",
            "     Happiness Score  Standard Error  Economy (GDP per Capita)   Family  \\\n",
            "153            3.465         0.03464                   0.22208  0.77370   \n",
            "154            3.340         0.03656                   0.28665  0.35386   \n",
            "155            3.006         0.05015                   0.66320  0.47489   \n",
            "156            2.905         0.08658                   0.01530  0.41587   \n",
            "157            2.839         0.06727                   0.20868  0.13995   \n",
            "\n",
            "     Health (Life Expectancy)  Freedom  Trust (Government Corruption)  \\\n",
            "153                   0.42864  0.59201                        0.55191   \n",
            "154                   0.31910  0.48450                        0.08010   \n",
            "155                   0.72193  0.15684                        0.18906   \n",
            "156                   0.22396  0.11850                        0.10062   \n",
            "157                   0.28443  0.36453                        0.10731   \n",
            "\n",
            "     Generosity  Dystopia Residual  \n",
            "153     0.22628            0.67042  \n",
            "154     0.18260            1.63328  \n",
            "155     0.47179            0.32858  \n",
            "156     0.19727            1.83302  \n",
            "157     0.16681            1.56726  \n"
          ],
          "name": "stdout"
        }
      ]
    },
    {
      "cell_type": "markdown",
      "metadata": {
        "id": "edKDv8BEssvV"
      },
      "source": [
        "---\n",
        "### Sort the data in different ways\n",
        "\n",
        "The data is currently sorted in order of rank.  To sort the data in the table, run the code below, which identifies the column on which to sort in the brackets.\n",
        "\n",
        "Then, **try sorting on other columns** *Note: you must type the column heading in the quotes and exactly as it appears in the table (including capitalisation)*.  To sort on multiple columns, enter a list of column headings in the brackets (e.g. `.sort_values(['Region','Freedom'])`\n",
        "\n"
      ]
    },
    {
      "cell_type": "code",
      "metadata": {
        "id": "15Z98xp9teAs",
        "colab": {
          "base_uri": "https://localhost:8080/"
        },
        "outputId": "a8ecd8b2-882c-45cc-b5e3-89654fa498b8"
      },
      "source": [
        "import pandas as pd\n",
        "\n",
        "def happiness_stat_sort():\n",
        "  excel_url = 'https://github.com/futureCodersSE/working-with-data/blob/main/Happiness-Data/2015.xlsx?raw=true'\n",
        "  df_hap_2015 = pd.read_excel(excel_url)\n",
        "    \n",
        "  # Set some display options when run\n",
        "  pd.options.display.max_rows= 20\n",
        "  pd.options.display.max_columns= 12\n",
        "\n",
        "  display_key = [\"Country\", \"Happiness Rank\", \"Family\"]\n",
        "  sorted_family_table = df_hap_2015.sort_values(['Family'], ascending=False)\n",
        "  print(f'sorted_family_table \\n') \n",
        "  print(sorted_family_table[display_key])\n",
        "\n",
        "happiness_stat_sort()"
      ],
      "execution_count": 20,
      "outputs": [
        {
          "output_type": "stream",
          "text": [
            "sorted_family_table \n",
            "\n",
            "                      Country  Happiness Rank   Family\n",
            "1                     Iceland               2  1.40223\n",
            "17                    Ireland              18  1.36948\n",
            "2                     Denmark               3  1.36058\n",
            "0                 Switzerland               1  1.34951\n",
            "43                 Uzbekistan              44  1.34043\n",
            "..                        ...             ...      ...\n",
            "116                     India             117  0.38174\n",
            "154                     Benin             155  0.35386\n",
            "152               Afghanistan             153  0.30285\n",
            "157                      Togo             158  0.13995\n",
            "147  Central African Republic             148  0.00000\n",
            "\n",
            "[158 rows x 3 columns]\n"
          ],
          "name": "stdout"
        }
      ]
    },
    {
      "cell_type": "markdown",
      "metadata": {
        "id": "jb19pDCGumzc"
      },
      "source": [
        "---\n",
        "### Summarising the data\n",
        "\n",
        "Look at the happiness dataframe.  Create new dataframes from a range of rows, columns, statistical information, etc.\n",
        "\n",
        "For each dataframe, add a text cell to explain what it is showing"
      ]
    },
    {
      "cell_type": "code",
      "metadata": {
        "id": "vTZZn7qZu1vC",
        "colab": {
          "base_uri": "https://localhost:8080/"
        },
        "outputId": "4448c0d1-1361-4ea8-ee52-ba4c648e1607"
      },
      "source": [
        "# Region, Freedom\n",
        "\n",
        "import pandas as pd\n",
        "\n",
        "def happiness_stat_analysis():\n",
        "  excel_url = 'https://github.com/futureCodersSE/working-with-data/blob/main/Happiness-Data/2015.xlsx?raw=true'\n",
        "  df_hap_2015 = pd.read_excel(excel_url)\n",
        "    \n",
        "  # Set some display options when run\n",
        "  pd.options.display.max_rows= 20\n",
        "  pd.options.display.max_columns= 12\n",
        "\n",
        "  # How to cumilate data across regions?\n",
        "  display_key = [\"Region\", \"Freedom\"]\n",
        "  sorted_family_table = df_hap_2015.sort_values(['Freedom'], ascending=False)\n",
        "  print(f'sorted_family_table \\n') \n",
        "  print(sorted_family_table[display_key])\n",
        "\n",
        "happiness_stat_analysis()"
      ],
      "execution_count": 21,
      "outputs": [
        {
          "output_type": "stream",
          "text": [
            "sorted_family_table \n",
            "\n",
            "                              Region  Freedom\n",
            "3                     Western Europe  0.66973\n",
            "0                     Western Europe  0.66557\n",
            "144                Southeastern Asia  0.66246\n",
            "7                     Western Europe  0.65980\n",
            "43        Central and Eastern Europe  0.65821\n",
            "..                               ...      ...\n",
            "136               Sub-Saharan Africa  0.10384\n",
            "117               Sub-Saharan Africa  0.10081\n",
            "95        Central and Eastern Europe  0.09245\n",
            "101                   Western Europe  0.07699\n",
            "111  Middle East and Northern Africa  0.00000\n",
            "\n",
            "[158 rows x 2 columns]\n"
          ],
          "name": "stdout"
        }
      ]
    },
    {
      "cell_type": "markdown",
      "metadata": {
        "id": "vmqpqnmi6J8S"
      },
      "source": [
        "---\n",
        "### Next steps\n",
        "\n",
        "There are data sets for the years 2015 to 2019 available.  To access and try out other years, change 2015 to the required year in the URL in the first code cell.  Leave the rest exactly as it is.  \n",
        "\n",
        "Other years may have different column headings and so there will be different data to play with."
      ]
    }
  ]
}