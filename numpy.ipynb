{
  "nbformat": 4,
  "nbformat_minor": 0,
  "metadata": {
    "colab": {
      "name": "Copy of numpy.ipynb",
      "provenance": [],
      "collapsed_sections": [],
      "toc_visible": true,
      "include_colab_link": true
    },
    "kernelspec": {
      "name": "python3",
      "display_name": "Python 3"
    },
    "language_info": {
      "name": "python"
    }
  },
  "cells": [
    {
      "cell_type": "markdown",
      "metadata": {
        "id": "view-in-github",
        "colab_type": "text"
      },
      "source": [
        "<a href=\"https://colab.research.google.com/github/njaincode/python_for_data_science/blob/main/numpy.ipynb\" target=\"_parent\"><img src=\"https://colab.research.google.com/assets/colab-badge.svg\" alt=\"Open In Colab\"/></a>"
      ]
    },
    {
      "cell_type": "code",
      "metadata": {
        "id": "HsDcB7mn4xq2"
      },
      "source": [
        ""
      ],
      "execution_count": null,
      "outputs": []
    },
    {
      "cell_type": "markdown",
      "metadata": {
        "id": "M21YTen340ZU"
      },
      "source": [
        "# Using numpy for processing arrays and matrices of number data\n",
        "\n",
        "---"
      ]
    },
    {
      "cell_type": "markdown",
      "metadata": {
        "id": "lvCryMxH47we"
      },
      "source": [
        "## numpy is a more efficient array processing library for Python\n",
        "\n",
        "Python lists can contain any type of data, including objects.  numpy arrays are specialised and can only contain numbers.\n",
        "\n",
        "You can customise the memory usage so that arrays can use less memory and items are stored contiguously.  This means that it is more efficient/faster processing large data sets.\n",
        "\n",
        "Use numpy arrays to store and manipulate large lists of numbers (for other data types use plain Python lists or a panda series)\n"
      ]
    },
    {
      "cell_type": "markdown",
      "metadata": {
        "id": "MxKEUfvp54QO"
      },
      "source": [
        "---\n",
        "### Creating a numpy array from a Python list\n",
        "\n",
        "To use numpy, you will need to import it.  The conventional way to import numpy is to import the whole library and use an *alias*\n",
        "\n",
        "`import numpy as np`\n",
        "\n",
        "Every time you want to use a function from the numpy library you use the syntax:  \n",
        "`np.function_name()`  \n",
        "\n",
        "Create a new numpy array from a Python list of numbers\n",
        "   \n",
        "`arr = np.array([1,2,3])`\n",
        "\n",
        "Or a new numpy matrix from a Python 2 dimensional list of numbers\n",
        "\n",
        "`matrix = np.array([1,2,3],[4,5,6])`"
      ]
    },
    {
      "cell_type": "markdown",
      "metadata": {
        "id": "s2HQHeHE6r4n"
      },
      "source": [
        "---\n",
        "### Exercise 1 - create a numpy array from a given list\n",
        "\n",
        "Write a function called `make_array(num_list`) which will:\n",
        "*   accept num_list as a parameter  \n",
        "*   create a new numpy array called **new_array** from `num_list`\n",
        "*   print `new_array`\n",
        "\n",
        "Test input:  \n",
        "[3,6,2,5,8,6]  \n",
        "\n",
        "Expected output:  \n",
        "[3,6,2,5,8,6]  \n",
        "\n"
      ]
    },
    {
      "cell_type": "code",
      "metadata": {
        "id": "-WWVDSRq7QDN",
        "colab": {
          "base_uri": "https://localhost:8080/"
        },
        "outputId": "8d283525-af0d-4426-fd50-d06872e28e3b"
      },
      "source": [
        "import numpy as np\n",
        "\n",
        "def make_array(num_list):\n",
        "  new_array = np.array(num_list)\n",
        "  print(new_array)\n",
        "\n",
        "  # Change value in num_list and it should not change np array?\n",
        "  num_list[0] = 1\n",
        "  # num_list elements are ',' separated whereas, np doesn't\n",
        "  print(num_list, new_array)\n",
        "\n",
        "make_array([3,6,2,5,8,6])\n"
      ],
      "execution_count": 2,
      "outputs": [
        {
          "output_type": "stream",
          "text": [
            "[3 6 2 5 8 6]\n",
            "[1, 6, 2, 5, 8, 6] [3 6 2 5 8 6]\n"
          ],
          "name": "stdout"
        }
      ]
    },
    {
      "cell_type": "markdown",
      "metadata": {
        "id": "X2qc0-nc7qZV"
      },
      "source": [
        "## Setting the number type in memory\n",
        "\n",
        "numpy allows you to set the type of number in memory (e.g. int8, int32) when you create the array.  This allows memory allocation to be as small as possible.  \n",
        "\n",
        "`new_matrix = np.array([[1, 2, 3], [4, 5, 6]], np.int8)`    \n",
        "\n",
        "This creates a two row, three column matrix of whole numbers which are all small enough to fit in 1 byte of memory storage.\n",
        "\n",
        "---\n",
        "### Exercise 2 - create matrix of smallish numbers\n",
        "\n",
        "Write a function which will:\n",
        "*   accept a parameter **num_list** which will be a 2-dimensional list  \n",
        "*   create a new numpy array called **new_matrix** from `num_list`, with data size `int16`\n",
        "*   print `new_matrix` one list per line\n",
        "\n",
        "Test input:  \n",
        "[31112, 32321, 24567],[456,324,789]\n",
        "\n",
        "Expected output:   \n",
        "[31112, 32321, 24567]  \n",
        "[456,324,789]  \n",
        " \n"
      ]
    },
    {
      "cell_type": "code",
      "metadata": {
        "id": "XUMfMwhLACzH",
        "colab": {
          "base_uri": "https://localhost:8080/"
        },
        "outputId": "7bf1a0cc-8e1d-465a-9654-dedc6c3b9981"
      },
      "source": [
        "import numpy as np\n",
        "\n",
        "def create_matrix(num_list):\n",
        "  new_matrix = np.array(num_list, np.int16)\n",
        "  print(new_matrix.ndim)\n",
        "  print(new_matrix)\n",
        "\n",
        "\n",
        "list1 = [[31112, 32321, 24567], [456, 324, 789]]\n",
        "\n",
        "print(list1)\n",
        "\n",
        "create_matrix(list1)\n"
      ],
      "execution_count": 21,
      "outputs": [
        {
          "output_type": "stream",
          "text": [
            "[[31112, 32321, 24567], [456, 324, 789]]\n",
            "2\n",
            "[[31112 32321 24567]\n",
            " [  456   324   789]]\n"
          ],
          "name": "stdout"
        }
      ]
    },
    {
      "cell_type": "markdown",
      "metadata": {
        "id": "oC8rsm3yBLRd"
      },
      "source": [
        "---\n",
        "### Exercise 3 - make a 3 x 3 numpy array\n",
        "\n",
        "Write a function which  will create a 3 x 3 array, then print the array one row per line.\n",
        "\n",
        "Test data:  \n",
        "[[1,2,3],[4,5,6],[7,8,9]]\n",
        "\n",
        "Expected output:  \n",
        "[1 2 3]  \n",
        "[4 5 6]  \n",
        "[7 8 9]  "
      ]
    },
    {
      "cell_type": "code",
      "metadata": {
        "id": "QCs2eDFEBhr8",
        "colab": {
          "base_uri": "https://localhost:8080/"
        },
        "outputId": "e24e07a4-1387-4e36-8458-f17e36513ec4"
      },
      "source": [
        "import numpy as np\n",
        "\n",
        "def create_3d_array():\n",
        "  # Note its dimensions show up as (3,1,3)\n",
        "  n3d_array = np.array([[[1,2,3]],[[4,5,6]],[[7,8,9]]], np.int8)\n",
        "  print(n3d_array.ndim, n3d_array.shape)\n",
        "  print(n3d_array)\n",
        "\n",
        "def gen_3d_arr():\n",
        "  a = np.array([(1,2,3),(4,5,6),(7,8,9)])\n",
        "  print(f'a \\n {a}')\n",
        "  print(a.size)\n",
        "  print(a.shape)\n",
        "\n",
        "  b = np.array([[1,2,3],[4,5,6],[7,8,9]])\n",
        "  print(f'b \\n {b}')\n",
        "  print(b.size)\n",
        "  print(b.shape)\n",
        "\n",
        "  c = np.arange(1,10,1)\n",
        "  c = c.reshape(3,3)\n",
        "  print(f'c \\n {c}')\n",
        "  print(c.size)\n",
        "  print(c.shape)\n",
        "\n",
        "\n",
        "\n",
        "\n",
        "create_3d_array()\n",
        "gen_3d_arr()"
      ],
      "execution_count": 4,
      "outputs": [
        {
          "output_type": "stream",
          "text": [
            "3 (3, 1, 3)\n",
            "[[[1 2 3]]\n",
            "\n",
            " [[4 5 6]]\n",
            "\n",
            " [[7 8 9]]]\n",
            "a \n",
            " [[1 2 3]\n",
            " [4 5 6]\n",
            " [7 8 9]]\n",
            "9\n",
            "(3, 3)\n",
            "b \n",
            " [[1 2 3]\n",
            " [4 5 6]\n",
            " [7 8 9]]\n",
            "9\n",
            "(3, 3)\n",
            "c \n",
            " [[1 2 3]\n",
            " [4 5 6]\n",
            " [7 8 9]]\n",
            "9\n",
            "(3, 3)\n"
          ],
          "name": "stdout"
        }
      ]
    },
    {
      "cell_type": "markdown",
      "metadata": {
        "id": "qf3xj2T9CRmT"
      },
      "source": [
        "---\n",
        "### Exercise 4 - make a 2 x 2 x 2 numpy array\n",
        "\n",
        "Write a function which will create a 2 x 2 x 2 array, then print the array one individual array per line.\n",
        "\n",
        "Test data:\n",
        "[[[1,2],[3,4]],[[5,6],[7,8]],[[9,10],[11,12]]]\n",
        "\n",
        "Expected output:\n",
        "[1,2]  \n",
        "[3,4]  \n",
        "[5,6]  \n",
        "[7,8]  \n",
        "[9,10]  \n",
        "[11,12]  "
      ]
    },
    {
      "cell_type": "code",
      "metadata": {
        "id": "27UpVktxC_VX",
        "colab": {
          "base_uri": "https://localhost:8080/"
        },
        "outputId": "6f6a8ce0-cba7-4ad5-bca0-b59ea1684d32"
      },
      "source": [
        "import numpy as np\n",
        "\n",
        "def create_4d_array():\n",
        "  n4d_array = np.array([[[1,2],[3,4]], [[5,6],[7,8]], [[9,10],[11,12]]], np.int8)\n",
        "  print(n4d_array.ndim, n4d_array.shape)\n",
        "  print(n4d_array)\n",
        "  print(f'One element\\n {n4d_array[0]}, dim {n4d_array[0].ndim} ')\n",
        "  print(f'One-one element\\n {n4d_array[0][0]}, dim {n4d_array[0][0].ndim} ')\n",
        "\n",
        "\n",
        "# This function is written after watching youtube videos\n",
        "def gen_4d_arr():\n",
        "  # e is only for experiment\n",
        "  e = np.zeros((2,2,2), np.int8)\n",
        "  print(f'e \\n {e}')\n",
        "  print(e.size)\n",
        "  print(e.shape)\n",
        "\n",
        "  b = np.arange(1,9,1)\n",
        "  b = b.reshape(2,2,2) \n",
        "  print(f'b \\n {b}')\n",
        "  print(b.size)\n",
        "  print(b.shape)\n",
        "\n",
        "  a = np.arange(1,13,1)\n",
        "  a = a.reshape(6,2) # FIXME shape (2,2,2) is not possible with 12 elements\n",
        "  print(f'a \\n {a}')\n",
        "  print(a.size)\n",
        "  print(a.shape)\n",
        "\n",
        "\n",
        "\n",
        "\n",
        "#create_4d_array()\n",
        "gen_4d_arr()"
      ],
      "execution_count": 14,
      "outputs": [
        {
          "output_type": "stream",
          "text": [
            "e \n",
            " [[[0 0]\n",
            "  [0 0]]\n",
            "\n",
            " [[0 0]\n",
            "  [0 0]]]\n",
            "8\n",
            "(2, 2, 2)\n",
            "b \n",
            " [[[1 2]\n",
            "  [3 4]]\n",
            "\n",
            " [[5 6]\n",
            "  [7 8]]]\n",
            "8\n",
            "(2, 2, 2)\n",
            "a \n",
            " [[ 1  2]\n",
            " [ 3  4]\n",
            " [ 5  6]\n",
            " [ 7  8]\n",
            " [ 9 10]\n",
            " [11 12]]\n",
            "12\n",
            "(6, 2)\n"
          ],
          "name": "stdout"
        }
      ]
    },
    {
      "cell_type": "markdown",
      "metadata": {
        "id": "-LciyxtyCKTG"
      },
      "source": [
        "## Inspecting the shape of the array/matrix\n",
        "\n",
        "numpy provides the `np.shape` property for reporting the shape of a numpy array.  np.shape will give the number of layers, rows, columns (and more if necessary) present in the array.  Arrays can be multi-dimensional but we will only arrays of maximum 3 dimensions to keep it simple.  \n",
        "\n",
        "Example:  \n",
        "```\n",
        "matrix = np.array([[[1,1],[2,2],[3,3]],[[4,4],[5,5],[6,6]]])\n",
        "print(matrix.shape)\n",
        "```\n",
        "\n",
        "Expected output:  \n",
        "(2, 3, 2)\n",
        "\n",
        "This matrix has 2 layers of 3 rows of 2 columns"
      ]
    },
    {
      "cell_type": "markdown",
      "metadata": {
        "id": "dgMSHeN8Ey0Q"
      },
      "source": [
        "---\n",
        "### Exercise 5 - print the shape\n",
        "\n",
        "Write a function which will:  \n",
        "*  create a numpy array using the test data below\n",
        "*  print the shape of the array\n",
        "\n",
        "Test 1 data:  \n",
        "[3,7,56]\n",
        "\n",
        "Expected output:\n",
        "(3,)\n",
        "\n",
        "Test 2 data:  \n",
        "[[7,6,5,8,4,9],[3,7,5,8,6,9]]\n",
        "\n",
        "Expected output:  \n",
        "(2,6)"
      ]
    },
    {
      "cell_type": "code",
      "metadata": {
        "id": "uFARauf3FiMf",
        "colab": {
          "base_uri": "https://localhost:8080/"
        },
        "outputId": "2a9a8d47-0389-471f-f8e8-950b98a6f660"
      },
      "source": [
        "import numpy as np\n",
        "\n",
        "# shape is not a function, it is a variable\n",
        "def print_arr_shape():\n",
        "  a = np.array([3,7,56], np.int8)\n",
        "  print(f'a\\n {a.shape}')\n",
        "\n",
        "  b = np.array([[7,6,5,8,4,9],[3,7,5,8,6,9]], np.int8)\n",
        "  print(f'b\\n {b.shape}')\n",
        "\n",
        "print_arr_shape()\n"
      ],
      "execution_count": 15,
      "outputs": [
        {
          "output_type": "stream",
          "text": [
            "a\n",
            " (3,)\n",
            "b\n",
            " (2, 6)\n"
          ],
          "name": "stdout"
        }
      ]
    },
    {
      "cell_type": "markdown",
      "metadata": {
        "id": "DDVIHbrnFjwz"
      },
      "source": [
        "---\n",
        "### Exercise 6 - using slicing to print parts of arrays\n",
        "\n",
        "Write a function which will:  \n",
        "*  create an array from the Python list [1,2,3,4,5]\n",
        "*  print the first 3 items in the array\n",
        "*  print the last item in the array"
      ]
    },
    {
      "cell_type": "code",
      "metadata": {
        "id": "YB72q998EWkF",
        "colab": {
          "base_uri": "https://localhost:8080/"
        },
        "outputId": "ba705c80-8c84-408d-ffc0-e718a7b47e22"
      },
      "source": [
        "import numpy as np\n",
        "\n",
        "def arr_slice():\n",
        "  a = np.arange(1,6,1)\n",
        "  print(f'a\\n {a.shape} \\n {a}')\n",
        "  # Print first 3 items in array\n",
        "  print(f'First 3 items = {a[:3]}')\n",
        "  print(f'Last item = {a[-1]}')\n",
        "\n",
        "arr_slice()\n"
      ],
      "execution_count": 17,
      "outputs": [
        {
          "output_type": "stream",
          "text": [
            "a\n",
            " (5,) \n",
            " [1 2 3 4 5]\n",
            "First 3 items = [1 2 3]\n",
            "Last item = 5\n"
          ],
          "name": "stdout"
        }
      ]
    },
    {
      "cell_type": "markdown",
      "metadata": {
        "id": "QnOKzp1cHAvH"
      },
      "source": [
        "---\n",
        "### Exercise 7 - using slicing to print parts of array rows and columns\n",
        "\n",
        "Write a function which will:  \n",
        "*  create an array from the Python 2 dimsensional list [[1,2,3,4],[5,6,7,8],[9,1,2,3]]\n",
        "*  print the first item in the second row   \n",
        "*  print the first 2 rows only\n",
        "*  print the last 2 items in the last 2 rows\n",
        "\n",
        "Expected output:  \n",
        "5  \n",
        "[[1,2,3,4],[5,6,7,8]]  \n",
        "[[7,8],[2,3]]"
      ]
    },
    {
      "cell_type": "code",
      "metadata": {
        "id": "xXsISkA4HibO",
        "colab": {
          "base_uri": "https://localhost:8080/"
        },
        "outputId": "6479f693-315c-4acd-c9ea-b4cc51d8e8ad"
      },
      "source": [
        "import numpy as np\n",
        "\n",
        "def arr_row_col():\n",
        "  a = np.array([[1,2,3,4],[5,6,7,8],[9,1,2,3]])\n",
        "  #a = a.reshape(3,4) # make 3x4 matrix\n",
        "  print(f'a\\n {a.shape} \\n {a}')\n",
        "  \n",
        "  print(f'First item in 2nd row = {a[1][0]}')\n",
        "  # How to print multiple rows? Index 2 is not inclusive\n",
        "  # If [0:1] is used, 1 is not included only 0 will be printed\n",
        "  print(f'First two rows \\n= {a[:2]}')\n",
        "  # [dim0, dim1]\n",
        "  print(f'Last 2 items in last two rows\\n = {a[-2:, -2:]}')\n",
        "\n",
        "arr_row_col()\n"
      ],
      "execution_count": 38,
      "outputs": [
        {
          "output_type": "stream",
          "text": [
            "a\n",
            " (3, 4) \n",
            " [[1 2 3 4]\n",
            " [5 6 7 8]\n",
            " [9 1 2 3]]\n",
            "First item in 2nd row = 5\n",
            "First two rows \n",
            "= [[1 2 3 4]\n",
            " [5 6 7 8]]\n",
            "Last 2 items in last two rows\n",
            " = [[7 8]\n",
            " [2 3]]\n"
          ],
          "name": "stdout"
        }
      ]
    },
    {
      "cell_type": "markdown",
      "metadata": {
        "id": "OxR5qwoxIhMY"
      },
      "source": [
        "---\n",
        "## Broadcasting an operation across an array\n",
        "\n",
        "Because a numpy array is created from a related set of data, it is useful to be able to operate on every item in the array in the same way.  For instance, the array might hold a set of scores out of 30 and you might want to convert all scores into percentages.\n",
        "\n",
        "We can do this in a number of ways:  \n",
        "1.  Create a new array to store the result after the operation in the new array\n",
        "```\n",
        "scores = np.array([29,25,15,22,30])\n",
        "percentages = scores / 30 * 100\n",
        "print(percentages)\n",
        "```\n",
        "Expected output:  [ 96.66666667  83.33333333  50.  73.33333333 100. ]  \n",
        "\n",
        "2.  Store the result in the original array\n",
        "```\n",
        "scores = np.array([29,25,15,22,30])\n",
        "scores = scores / 30 * 100\n",
        "print(scores)\n",
        "```\n",
        "Expected output:  [ 96.66666667  83.33333333  50.  73.33333333 100. ]\n",
        "\n",
        "Give it a try:\n",
        "\n",
        "\n",
        "\n"
      ]
    },
    {
      "cell_type": "code",
      "metadata": {
        "id": "ozhaq9-tJhRy"
      },
      "source": [
        ""
      ],
      "execution_count": null,
      "outputs": []
    },
    {
      "cell_type": "markdown",
      "metadata": {
        "id": "Lg62ACAlLzT8"
      },
      "source": [
        "---\n",
        "### Exercise 8 - increase whole array by 20\n",
        "\n",
        "Write a function which will:\n",
        "*  create a numpy array of 12 numbers\n",
        "*  create a new array adding 20 to each of the items in the first array  \n",
        "*  print the new array\n",
        "\n",
        "Test input:  \n",
        "[1,2,3,4,5,6,7,8,1,2,3,4]  \n",
        "\n",
        "Expected output:  \n",
        "[21,22,23,24,25,26,27,28,21,22,23,24]"
      ]
    },
    {
      "cell_type": "code",
      "metadata": {
        "id": "HloCtcOYMD3W",
        "colab": {
          "base_uri": "https://localhost:8080/"
        },
        "outputId": "5d63534e-b4a1-424a-8f6b-3e88743dcc82"
      },
      "source": [
        "import numpy as np\n",
        "\n",
        "def arr_op():\n",
        "  a = np.random.randint(0,100,12,dtype=np.int8)\n",
        "  print(a)\n",
        "  a += 20\n",
        "  print(f'After adding 20 a \\n {a}')\n",
        "\n",
        "arr_op()"
      ],
      "execution_count": 42,
      "outputs": [
        {
          "output_type": "stream",
          "text": [
            "[83 99 47  3 44  5 38 50 44 58 12 72]\n",
            "After adding 20 a \n",
            " [103 119  67  23  64  25  58  70  64  78  32  92]\n"
          ],
          "name": "stdout"
        }
      ]
    },
    {
      "cell_type": "markdown",
      "metadata": {
        "id": "B-p-PF99MECD"
      },
      "source": [
        "---\n",
        "## Using functions to create arrays of 1s, 0s or a range of numbers\n",
        "\n",
        "You can use np.arange(range) to create an array with a range of numbers.  Like range in Python, either give 1 number to get all numbers from 0 to the number before it, or give 2 numbers to get the numbers from the first to one before the last.  You can specify the start number, the stop number and a step size (e.g. (1,9,2) will generate [1 3 5 7]:\n",
        "```\n",
        "array1 = np.arange(10)\n",
        "```\n",
        "will give array1 = [0,1,2,3,4,5,6,7,8,9]\n",
        "\n",
        "```\n",
        "array2 = np.arange(2,9)\n",
        "```\n",
        "will give array2 = [2,3,4,5,6,7,8]\n",
        "\n",
        "```\n",
        "array3 = np.arange(2,9,3)\n",
        "```\n",
        "will give array3 = [2,5,8]  \n",
        "\n",
        "---\n",
        "\n",
        "To create a new array of 10 zeros:\n",
        "```\n",
        "array4 = np.zeros(10)\n",
        "```\n",
        "will give array4 = [0. 0. 0. 0. 0. 0. 0. 0. 0. 0.]\n",
        "\n",
        "To create a new array of 10 zeros as integers:\n",
        "```\n",
        "array5 = np.zeros(10, dtype='int32')\n",
        "```\n",
        "will give array5 = [0 0 0 0 0 0 0 0 0 0]\n",
        "\n",
        "To create a new array of 8 ones:  \n",
        "```\n",
        "array6 = np.ones(8, dtype='int16')\n",
        "```\n",
        "will give array6 = [1 1 1 1 1 1 1 1]\n",
        "\n",
        "---\n",
        "### Exercise 9 - create a numpy array of the numbers 1 to 8  \n",
        "\n",
        "Write a function which will:  \n",
        "*  create a numpy array with the numbers 1 to 8 using np.arange()  \n",
        "*  create a second numpy array with 12 zeros\n",
        "*  create a third numpy array with 4 ones\n",
        "*  create a fourth numpy array with the the multiples of 10 from 10 to 100 (use arange with start, stop and step)\n",
        "\n",
        "Expected output:  \n",
        "[1 2 3 4 5 6 7 8]  \n",
        "[0 0 0 0 0 0 0 0 0 0 0 0]  \n",
        "[1 1 1 1]  \n",
        "[ 10  20  30  40  50  60  70  80  90 100]\n",
        "\n",
        "\n",
        " "
      ]
    },
    {
      "cell_type": "code",
      "metadata": {
        "id": "ahgPUqTjM9it",
        "colab": {
          "base_uri": "https://localhost:8080/"
        },
        "outputId": "fa901fce-f296-4fc2-c8ea-76fb0ebc8fb9"
      },
      "source": [
        "import numpy as np\n",
        "\n",
        "def arr_arange():\n",
        "  a = np.arange(1,9)\n",
        "  print(f'random array=\\n {a}')\n",
        "\n",
        "  b = np.zeros(12, dtype=np.int8)\n",
        "  print(f'All 0=\\n {b}')\n",
        "\n",
        "  c = np.ones(4, dtype=np.int8)\n",
        "  print(f'All 1=\\n {c}')\n",
        "\n",
        "  d = np.arange(10,101,10, dtype=np.int8)\n",
        "  print(f'Multiple of 10=\\n {d}')\n",
        "\n",
        "arr_arange()"
      ],
      "execution_count": 47,
      "outputs": [
        {
          "output_type": "stream",
          "text": [
            "random array=\n",
            " [1 2 3 4 5 6 7 8]\n",
            "All 0=\n",
            " [0 0 0 0 0 0 0 0 0 0 0 0]\n",
            "All 1=\n",
            " [1 1 1 1]\n",
            "Multiple of 10=\n",
            " [ 10  20  30  40  50  60  70  80  90 100]\n"
          ],
          "name": "stdout"
        }
      ]
    },
    {
      "cell_type": "markdown",
      "metadata": {
        "id": "Bv1G1MJpT1U9"
      },
      "source": [
        "---\n",
        "### Exercise 10 - create a numpy mask matrix\n",
        "\n",
        "**Challenging**\n",
        "\n",
        "Write a function which will create and print a numpy array as follows:\n",
        "\n",
        "*  create **array1** with shape=(8,8) containing all zeros of dtype int16\n",
        "*  change the value of the middle two items of the middle two rows of `array1`, each to 1 (use list indexing for this)\n",
        "*  print `array1`\n",
        "*  change the value of the corner items to 1\n",
        "*  print `array1`\n",
        "\n",
        "Expected output:  \n",
        "[[0 0 0 0 0 0 0 0]  \n",
        " [0 0 0 0 0 0 0 0]  \n",
        " [0 0 0 0 0 0 0 0]  \n",
        " [0 0 0 1 1 0 0 0]  \n",
        " [0 0 0 1 1 0 0 0]  \n",
        " [0 0 0 0 0 0 0 0]  \n",
        " [0 0 0 0 0 0 0 0]  \n",
        " [0 0 0 0 0 0 0 0]]    \n",
        "\n",
        " [[1 0 0 0 0 0 0 1]  \n",
        " [0 0 0 0 0 0 0 0]  \n",
        " [0 0 0 0 0 0 0 0]  \n",
        " [0 0 0 1 1 0 0 0]  \n",
        " [0 0 0 1 1 0 0 0]  \n",
        " [0 0 0 0 0 0 0 0]  \n",
        " [0 0 0 0 0 0 0 0]  \n",
        " [1 0 0 0 0 0 0 1]]  \n",
        "\n"
      ]
    },
    {
      "cell_type": "code",
      "metadata": {
        "id": "x90cXT8NWD40",
        "colab": {
          "base_uri": "https://localhost:8080/"
        },
        "outputId": "a317a57b-2e30-4810-d241-2c6a5d993379"
      },
      "source": [
        "import numpy as np\n",
        "\n",
        "def create_numpy_matrix():\n",
        "  array1 = np.zeros([8,8], dtype=np.int16)\n",
        "  print(array1.shape, array1.size)\n",
        "  # Change value of middle two items of middle two rows to 1\n",
        "  array1[3:5, 3:5] = 1\n",
        "  print(array1)\n",
        "  # Change the value of corner items to 1\n",
        "  # FIXME Can this be done in single line?\n",
        "  array1[0,0] = 1\n",
        "  array1[0,7] = 1\n",
        "  array1[7,0] = 1\n",
        "  array1[7,7] = 1\n",
        "  print(array1)\n",
        "\n",
        "  # Itemsize - size of an element ie int16 in this case 2bytes\n",
        "  print(f'Itemsize={array1.itemsize}')\n",
        "\n",
        "  # Returns positions of elements with non-zero value\n",
        "  print(f'Non-zero elements {array1.nonzero()}')\n",
        "\n",
        "create_numpy_matrix()"
      ],
      "execution_count": 6,
      "outputs": [
        {
          "output_type": "stream",
          "text": [
            "(8, 8) 64\n",
            "[[0 0 0 0 0 0 0 0]\n",
            " [0 0 0 0 0 0 0 0]\n",
            " [0 0 0 0 0 0 0 0]\n",
            " [0 0 0 1 1 0 0 0]\n",
            " [0 0 0 1 1 0 0 0]\n",
            " [0 0 0 0 0 0 0 0]\n",
            " [0 0 0 0 0 0 0 0]\n",
            " [0 0 0 0 0 0 0 0]]\n",
            "[[1 0 0 0 0 0 0 1]\n",
            " [0 0 0 0 0 0 0 0]\n",
            " [0 0 0 0 0 0 0 0]\n",
            " [0 0 0 1 1 0 0 0]\n",
            " [0 0 0 1 1 0 0 0]\n",
            " [0 0 0 0 0 0 0 0]\n",
            " [0 0 0 0 0 0 0 0]\n",
            " [1 0 0 0 0 0 0 1]]\n",
            "Itemsize=2\n",
            "Non-zero elements (array([0, 0, 3, 3, 4, 4, 7, 7]), array([0, 7, 3, 4, 3, 4, 0, 7]))\n"
          ],
          "name": "stdout"
        }
      ]
    }
  ]
}