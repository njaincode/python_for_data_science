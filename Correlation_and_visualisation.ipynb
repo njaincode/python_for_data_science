{
  "nbformat": 4,
  "nbformat_minor": 0,
  "metadata": {
    "colab": {
      "name": "Correlation and visualisation",
      "provenance": [],
      "collapsed_sections": [],
      "toc_visible": true,
      "include_colab_link": true
    },
    "kernelspec": {
      "name": "python3",
      "display_name": "Python 3"
    },
    "language_info": {
      "name": "python"
    }
  },
  "cells": [
    {
      "cell_type": "markdown",
      "metadata": {
        "id": "view-in-github",
        "colab_type": "text"
      },
      "source": [
        "<a href=\"https://colab.research.google.com/github/njaincode/python_for_data_science/blob/main/Correlation_and_visualisation.ipynb\" target=\"_parent\"><img src=\"https://colab.research.google.com/assets/colab-badge.svg\" alt=\"Open In Colab\"/></a>"
      ]
    },
    {
      "cell_type": "markdown",
      "metadata": {
        "id": "rM0pH87Y4dOV"
      },
      "source": [
        "# Describing the data relatively and visually\n",
        "---\n",
        "\n",
        "This worksheet introduces two new libraries:\n",
        "\n",
        "**matplotlib**\n",
        "\n",
        "A library of functions for plotting static, animated and interactive visualisations of data sets.  For ease, pandas use matplotlib for plotting a range of charts.\n",
        "\n",
        "**scipy**\n",
        "\n",
        "A library of functions for interpolating, optimising, linear regression, etc  \n",
        "\n",
        "---\n",
        "\n",
        "A dataset will be read into a dataframe, cleaned, wrangled and so prepared for summarising and the telling of stories through visualisations and summaries.\n",
        "\n",
        "So far we have covered statistical measures over an individual series.  Linear regression reports correlation between the values in two series.\n",
        "\n",
        "To get the results of a linear regression:  \n",
        "*  import the `linregress` function from the `scipy.stats` package \n",
        "*  run the `linregress` function with the two axes assigning the result to a variable (e.g. `regression`) \n",
        "\n",
        "The result of the linregress function is a set of variables:  \n",
        "*  `slope`, `intercept` - the gradient and y-intercept of the regression line (the line of best fit between the two series) are in `regression.slope` and `regression.intercept`\n",
        "*  `rvalue` - the correlation coefficient - this indicates how closely the line drawn from the linear regression data fits the actual data, the closer to 1 the better the fit\n",
        "*  `pvalue` - the probability of error if the regression line is extended to predict\n",
        "*  the standard error is in `regression.stderr` and is the average distance of each data point from the lineof best fit \n",
        "\n",
        "\n",
        "Further information [here](https://docs.scipy.org/doc/scipy/reference/generated/scipy.stats.linregress.html)\n"
      ]
    },
    {
      "cell_type": "markdown",
      "metadata": {
        "id": "A60PQ510HHMQ"
      },
      "source": [
        "### Exercise 1 - is age closely related to income?\n",
        "---\n",
        "\n",
        "Use linear regression to compare the columns 'Age' and 'Income' in the data set 'Income-Data' at this url:  \n",
        "https://github.com/futureCodersSE/working-with-data/blob/main/Data%20sets/Income-Data.xlsx?raw=true  \n",
        "\n",
        "To do this:\n",
        "*  import the pandas library  \n",
        "\n",
        "\n",
        "*  import the **linregress** function from the library **scipy.stats**  (`from scipy.stats import linregress`)  \n",
        "\n",
        "\n",
        "*  open the Excel file at the url above, using the sheet_name '`county-level`', reading the data into a dataframe called **county_level_df**  \n",
        "\n",
        "\n",
        "*  create a variable called **x** and assign the '`Age`' column of the `county_level_df` dataframe   \n",
        "\n",
        "\n",
        "*  create a variable called **y** and assign the '`Income`' column of the `county_level_df` dataframe   \n",
        "\n",
        "\n",
        "*  create a variable called **regression** and assign the result of running the linregress function with `x`, `y` as its parameters ( `linregress(x,y)` )   \n",
        "\n",
        "\n",
        "*  display the regression  \n",
        "(*Expected output:  LinregressResult(slope=-0.31433084434233205, intercept=72.78388856978748, rvalue=-0.14787411576068246, pvalue=0.5581637648902298, stderr=0.5255739814332189*)  \n",
        "\n",
        "\n",
        "*  display the slope (`regression.slope`)  \n",
        "(*Expected output: -0.31433084434233205 - this indicates that the line plotting Age against Income slopes downward implying that income reduces with age*)  \n",
        "\n",
        "\n",
        "*  display the intercept (`regression.intercept`)  \n",
        "(*Expected output: 72.78388856978748 - this indicates that income level starts at 72.78388856978748 and reduces from there by age*)    \n",
        "\n",
        "\n",
        "*  calculate and display **r_squared** from rvalue (`regression.rvalue`)  \n",
        "(*Expected output:  0.021866754112003717 - this value is used to calculate R squared, the correlation coefficient which indicates how closely the that there is a very weak correlation between Age and Income.  The negative value of rvalue indicates that any correlation is inverse, ie as Age goes up, Income goes down*) "
      ]
    },
    {
      "cell_type": "code",
      "metadata": {
        "id": "B7-yqi8n4Z3s",
        "colab": {
          "base_uri": "https://localhost:8080/"
        },
        "outputId": "2214803c-770a-4ec1-c690-aec92d9ccb25"
      },
      "source": [
        "import pandas as pd\n",
        "import matplotlib.pyplot as plt\n",
        "from scipy.stats import linregress as lr\n",
        "\n",
        "def regress_age_income():\n",
        "  excel_url = 'https://github.com/futureCodersSE/working-with-data/blob/main/Data%20sets/Income-Data.xlsx?raw=true'\n",
        "  \n",
        "  # 1. Read sheet_name 'county-level\n",
        "  county_level_df = pd.read_excel(excel_url, sheet_name='county-level')\n",
        "\n",
        "  #2. create a variable called x and assign the 'Age' column of the county_level_df dataframe\n",
        "  #2. create a variable called y and assign the 'Income' column of the county_level_df dataframe\n",
        "  #2. create a variable called regression and assign the result of running the linregress function with x, y as its parameters ( linregress(x,y) )\n",
        "  x = county_level_df['Age']\n",
        "  y = county_level_df['Income']\n",
        "  regression = lr(x,y)\n",
        "  #2. Display the regression\n",
        "  print(regression)\n",
        "\n",
        "  #3. Display individual values\n",
        "  print(f'Slope = {regression.slope}')\n",
        "  print(f'Intercept = {regression.intercept}')\n",
        "  # FIXME This value seems incorrect in test output\n",
        "  print(f'R2 = {regression.rvalue}')\n",
        "\n",
        "regress_age_income()\n"
      ],
      "execution_count": 4,
      "outputs": [
        {
          "output_type": "stream",
          "text": [
            "LinregressResult(slope=-0.31433084434233205, intercept=72.78388856978748, rvalue=-0.14787411576068246, pvalue=0.5581637648902298, stderr=0.5255739814332189)\n",
            "Slope = -0.31433084434233205\n",
            "Intercept = 72.78388856978748\n",
            "R2 = -0.14787411576068246\n"
          ],
          "name": "stdout"
        }
      ]
    },
    {
      "cell_type": "markdown",
      "metadata": {
        "id": "AXiD7hVyQEe9"
      },
      "source": [
        "### Exercise 2 - Could Population predict Income?  \n",
        "---\n",
        "\n",
        "Repeat the steps in exercise 1 to see if there is a clearer correlation between Population and Income.  \n",
        "\n",
        "Add a statement in the text cell to describe your findings.\n",
        "\n",
        "**Test output**:   \n",
        "0.013558605755058871\n"
      ]
    },
    {
      "cell_type": "code",
      "metadata": {
        "id": "S349ZIiIQSvy",
        "colab": {
          "base_uri": "https://localhost:8080/"
        },
        "outputId": "f4571186-8adc-459e-a308-acb478768f18"
      },
      "source": [
        "import pandas as pd\n",
        "from scipy.stats import linregress as lr\n",
        "\n",
        "def regress_pop_income():\n",
        "  excel_url = 'https://github.com/futureCodersSE/working-with-data/blob/main/Data%20sets/Income-Data.xlsx?raw=true'\n",
        "  \n",
        "  # 1. Read sheet_name 'county-level\n",
        "  county_level_df = pd.read_excel(excel_url, sheet_name='county-level')\n",
        "\n",
        "  #2. create a variable called x and assign the 'Age' column of the county_level_df dataframe\n",
        "  #2. create a variable called y and assign the 'Income' column of the county_level_df dataframe\n",
        "  #2. create a variable called regression and assign the result of running the linregress function with x, y as its parameters ( linregress(x,y) )\n",
        "  x = county_level_df['Population']\n",
        "  y = county_level_df['Income']\n",
        "  regression = lr(x,y)\n",
        "  #2. Display the regression\n",
        "  print(regression)\n",
        "\n",
        "  #3. Display individual values\n",
        "  print(f'Slope = {regression.slope}')\n",
        "  print(f'Intercept = {regression.intercept}')\n",
        "  # FIXME This value seems incorrect in test output\n",
        "  print(f'R2 = {regression.rvalue}')\n",
        "\n",
        "  # FIXME Comeback and add analysis\n",
        "\n",
        "regress_pop_income()\n"
      ],
      "execution_count": 5,
      "outputs": [
        {
          "output_type": "stream",
          "text": [
            "LinregressResult(slope=0.05737132629483762, intercept=60.95698211316883, rvalue=0.11644142628402862, pvalue=0.6454275157910035, stderr=0.12233846479490115)\n",
            "Slope = 0.05737132629483762\n",
            "Intercept = 60.95698211316883\n",
            "R2 = 0.11644142628402862\n"
          ],
          "name": "stdout"
        }
      ]
    },
    {
      "cell_type": "markdown",
      "metadata": {
        "id": "KHLucNuAXiyJ"
      },
      "source": [
        ""
      ]
    },
    {
      "cell_type": "markdown",
      "metadata": {
        "id": "zZXvmsL2SbA-"
      },
      "source": [
        "### Exercise 3 - Does Stress predict Wellbeing?\n",
        "---\n",
        "\n",
        "Repeat the steps in Exercises 1 & 2 to see if you can find a statistically significant result.\n",
        "\n",
        "Add a statement in the text cell to describe your findings\n",
        "\n",
        "* Read the dataset: \"https://github.com/lilaceri/Working-with-data-/blob/b157a2feceb7709cf82426932385706d65446270/Data%20Sets%20for%20code%20divisio/Positive_Psychology_2017.csv?raw=true\"\n",
        "\n",
        "* perform linear regression  \n",
        "* look at r_squared and pvalue to get an idea of how predictive and significant these variables are\n",
        "\n",
        "* save slope and intercepts in variables for later \n",
        "\n",
        "Challenge:  \n",
        "Write a function that checks the significance of a regression and displays a message indicating the result.\n",
        "\n",
        "**Test output**:  \n",
        "LinregressResult(slope=-0.6279050248852254, intercept=37.713488379900454, rvalue=-0.6713959740851134, pvalue=6.084540561441803e-07, stderr=0.10694652962765022)  \n",
        "r sqr = 0.4507725540176983  \n",
        "model is significant, p < .05:  6.084540561441803e-07  "
      ]
    },
    {
      "cell_type": "code",
      "metadata": {
        "id": "pbZf_2dITkqX",
        "colab": {
          "base_uri": "https://localhost:8080/"
        },
        "outputId": "fbdde855-0223-418d-88db-e387bf4c0714"
      },
      "source": [
        "import pandas as pd\n",
        "from scipy.stats import linregress as lr\n",
        "import statsmodels.api as sm\n",
        "\n",
        "def regress_psychology():\n",
        "  csv_url = 'https://github.com/lilaceri/Working-with-data-/blob/b157a2feceb7709cf82426932385706d65446270/Data%20Sets%20for%20code%20divisio/Positive_Psychology_2017.csv?raw=true'\n",
        "  \n",
        "  # read csv\n",
        "  psycho_df = pd.read_csv(csv_url)\n",
        "  print(psycho_df.columns)\n",
        "\n",
        "  # Linear regression b/w Stress & well being\n",
        "  # The goal is to produce a model that represents the ‘best fit’ to some observed data, according to an evaluation criterion we choose.\n",
        "  # rvalue - the correlation coefficient - this indicates how closely the line drawn from the linear regression data fits the actual data, the closer to 1 the better the fit\n",
        "  # pvalue - the probability of error if the regression line is extended to predict\n",
        "\n",
        "  regression = lr(psycho_df['Stress'], psycho_df['Wellbeing'])\n",
        "  print(regression)\n",
        "\n",
        "  #df = pd.DataFrame()\n",
        "  #df['Wellbeing'] = psycho_df['Wellbeing']\n",
        "  #df['Stress'] = psycho_df['Stress']\n",
        "  y = psycho_df['Wellbeing']\n",
        "  x = psycho_df['Stress']\n",
        "\n",
        "  # The Pearson correlation coefficient is an indicator of the extent and strength of the linear relationship between the two variables\n",
        "  # In this case its -ve, showing no strong relationship b/w Wellbeing and stress\n",
        "  cc = psycho_df[['Wellbeing', 'Stress']].corr()\n",
        "  print(cc)\n",
        "\n",
        "  model_lin = sm.OLS.from_formula(\"Stress ~ Wellbeing\", data=psycho_df)\n",
        "  result_lin = model_lin.fit()\n",
        "  print(result_lin.summary())\n",
        "\n",
        "  #X2 = sm.add_constant(x)\n",
        "  #est = sm.OLS(y, X2)\n",
        "  #est2 = est.fit()\n",
        "  #print(est2.summary())\n",
        " \n",
        "  #plt.scatter(x,y)\n",
        "  #plt.title(\"Wellbeing vs stress score\")\n",
        "  #plt.xlabel(\"Wellbeing score\")\n",
        "  #plt.ylabel(\"Stress score\")\n",
        "  #plt.show()\n",
        "\n",
        "  # FIXME Comeback and do challenge, how to interpret pvalue?\n",
        "\n",
        "regress_psychology()"
      ],
      "execution_count": 27,
      "outputs": [
        {
          "output_type": "stream",
          "text": [
            "Index(['Age', 'English', 'firstlanguage', 'sex', 'origin', 'Ukresidence',\n",
            "       'MAAS', 'Resilliance', 'Wellbeing', 'Stress', 'selfesteem', 'LoC',\n",
            "       'sleep', 'Year'],\n",
            "      dtype='object')\n",
            "LinregressResult(slope=-0.6279050248852254, intercept=37.713488379900454, rvalue=-0.6713959740851134, pvalue=6.084540561441803e-07, stderr=0.10694652962765022)\n",
            "           Wellbeing    Stress\n",
            "Wellbeing   1.000000 -0.671396\n",
            "Stress     -0.671396  1.000000\n",
            "                            OLS Regression Results                            \n",
            "==============================================================================\n",
            "Dep. Variable:                 Stress   R-squared:                       0.451\n",
            "Model:                            OLS   Adj. R-squared:                  0.438\n",
            "Method:                 Least Squares   F-statistic:                     34.47\n",
            "Date:                Wed, 26 May 2021   Prob (F-statistic):           6.08e-07\n",
            "Time:                        18:12:09   Log-Likelihood:                -139.88\n",
            "No. Observations:                  44   AIC:                             283.8\n",
            "Df Residuals:                      42   BIC:                             287.3\n",
            "Df Model:                           1                                         \n",
            "Covariance Type:            nonrobust                                         \n",
            "==============================================================================\n",
            "                 coef    std err          t      P>|t|      [0.025      0.975]\n",
            "------------------------------------------------------------------------------\n",
            "Intercept     38.9703      3.082     12.645      0.000      32.751      45.190\n",
            "Wellbeing     -0.7179      0.122     -5.871      0.000      -0.965      -0.471\n",
            "==============================================================================\n",
            "Omnibus:                        0.294   Durbin-Watson:                   2.317\n",
            "Prob(Omnibus):                  0.863   Jarque-Bera (JB):                0.409\n",
            "Skew:                           0.174   Prob(JB):                        0.815\n",
            "Kurtosis:                       2.680   Cond. No.                         86.7\n",
            "==============================================================================\n",
            "\n",
            "Warnings:\n",
            "[1] Standard Errors assume that the covariance matrix of the errors is correctly specified.\n",
            "                            OLS Regression Results                            \n",
            "==============================================================================\n",
            "Dep. Variable:                 Stress   R-squared:                       0.451\n",
            "Model:                            OLS   Adj. R-squared:                  0.438\n",
            "Method:                 Least Squares   F-statistic:                     34.47\n",
            "Date:                Wed, 26 May 2021   Prob (F-statistic):           6.08e-07\n",
            "Time:                        18:12:09   Log-Likelihood:                -139.88\n",
            "No. Observations:                  44   AIC:                             283.8\n",
            "Df Residuals:                      42   BIC:                             287.3\n",
            "Df Model:                           1                                         \n",
            "Covariance Type:            nonrobust                                         \n",
            "==============================================================================\n",
            "                 coef    std err          t      P>|t|      [0.025      0.975]\n",
            "------------------------------------------------------------------------------\n",
            "Intercept     38.9703      3.082     12.645      0.000      32.751      45.190\n",
            "Wellbeing     -0.7179      0.122     -5.871      0.000      -0.965      -0.471\n",
            "==============================================================================\n",
            "Omnibus:                        0.294   Durbin-Watson:                   2.317\n",
            "Prob(Omnibus):                  0.863   Jarque-Bera (JB):                0.409\n",
            "Skew:                           0.174   Prob(JB):                        0.815\n",
            "Kurtosis:                       2.680   Cond. No.                         86.7\n",
            "==============================================================================\n",
            "\n",
            "Warnings:\n",
            "[1] Standard Errors assume that the covariance matrix of the errors is correctly specified.\n"
          ],
          "name": "stdout"
        }
      ]
    },
    {
      "cell_type": "markdown",
      "metadata": {
        "id": "ovNHeS53QqEj"
      },
      "source": [
        "# Visualising the data\n",
        "---\n",
        "\n",
        "There are a good number of libraries available containing functions for visualising data with bar charts, pie charts, line plots, box plots, scatter plots and, in some libraries, with more image based visualisations.\n",
        "\n",
        "To keep it relatively simple, we will use matplotlib, a widely used library with a wide range of visualisation functions for data sets and mathematical equations.  It has the main functions we will use in this course:\n",
        "*  bar charts\n",
        "*  pie charts\n",
        "*  line plots\n",
        "*  box plots\n",
        "*  scatter plots\n",
        "*  histogram\n",
        "\n",
        "Each requires these things:  \n",
        "1. Select the data columns to be plotted \n",
        "2. Prepare the data (remove null values, clean formats, etc)  \n",
        "3. Run the function for the required plot\n",
        "\n",
        "Once you have the hang of these, you can start to look at labelling, colouring, etc.\n",
        "\n",
        "In order to begin creating visualisations, you need to:  \n",
        "* import **matplotlib** as **plt**\n",
        "\n",
        "Test output for Exercises 4 to 10 is in this [image](https://drive.google.com/file/d/1LYxLJyur_zgzvJcv_C1WGm21nf07ddY6/view?usp=sharing)"
      ]
    },
    {
      "cell_type": "markdown",
      "metadata": {
        "id": "lcPED_VXSY5U"
      },
      "source": [
        "#  Bar charts and Line Plots\n",
        "---\n",
        "\n",
        "For these exercises, use the Excel data file:\n",
        "\n",
        "'public-use-talent-migration' looking at sheet_name 'Country Migration'  \n",
        "https://github.com/futureCodersSE/working-with-data/blob/main/Data%20sets/public_use-talent-migration.xlsx?raw=true \n",
        "\n",
        "**Example**:  \n",
        "\n",
        "Watch the video [here](https://drive.google.com/file/d/1eNOy7fhkB2CSfVdb66kqB66qXfoPfOpd/view?usp=sharing) - demonstration of creating a bar chart using the `matplotlib` library `pyplot`.  Then have a go at creating it yourself."
      ]
    },
    {
      "cell_type": "markdown",
      "metadata": {
        "id": "CBIUWI1WyvLx"
      },
      "source": [
        "### Exercise 4 - Line plot of net migration \n",
        "--- \n",
        "\n",
        "Creating a line plot of mean net migration over the years 2015 to 2019\n",
        "\n",
        "* create a new dataframe containing only the five columns holding net migration\n",
        "* create a new data variable to hold the means of the five columns\n",
        "* create a labels variable to hold the keys (column headings) \n",
        "* use plt.plot(x, y) to plot your line chart\n",
        "\n",
        "***Presentation tips:***   \n",
        "Plot the chart, then add formatting, then show the plot   \n",
        "\n",
        "Rotate the x-axis labels in the plot:  \n",
        "`plt.xticks(rotation=45)`  \n",
        "\n",
        "Show the grid:  \n",
        "`plt.grid()`  \n",
        "\n",
        "When all formatting has been done, show the plot:   \n",
        "`plt.show()`"
      ]
    },
    {
      "cell_type": "code",
      "metadata": {
        "id": "JLOAv52Kx1ZZ",
        "colab": {
          "base_uri": "https://localhost:8080/",
          "height": 379
        },
        "outputId": "0b02e6c1-6d57-4fa4-9268-b4d4eeb0ff9c"
      },
      "source": [
        "import matplotlib.pyplot as plt\n",
        "import pandas as pd\n",
        "\n",
        "\n",
        "def plot_net_mig():\n",
        "  excel_url = 'https://github.com/futureCodersSE/working-with-data/blob/main/Data%20sets/public_use-talent-migration.xlsx?raw=true'\n",
        "  \n",
        "  #1. Read sheet_name Country Migration\n",
        "  country_mig_df = pd.read_excel(excel_url, sheet_name='Country Migration')\n",
        "\n",
        "  #2. create a new dataframe containing only the five columns holding net migration\n",
        "  col_list = ['net_per_10K_2015', 'net_per_10K_2016', 'net_per_10K_2017', 'net_per_10K_2018', 'net_per_10K_2019']\n",
        "  mig_2015_2019 = pd.DataFrame()\n",
        "  mig_2015_2019 = country_mig_df[col_list]\n",
        "  \n",
        "  #3. create a new data variable to hold the means of the five columns\n",
        "  mig_mean = mig_2015_2019.mean()\n",
        "  #print(mig_mean)\n",
        "\n",
        "  #4. create a labels variable to hold the keys (column headings)\n",
        "  labels = mig_2015_2019.keys()\n",
        "  #print(labels)\n",
        "\n",
        "  #5. use plt.plot(x, y) to plot your line chart\n",
        "  #mig_mean.plot(kind='line', title='State Comparison', ylabel='Mean values', xlabel='State', figsize=(6, 5))\n",
        "  plt.plot(labels, mig_mean)\n",
        "  plt.xticks(rotation=45)\n",
        "  plt.grid()\n",
        "  plt.show()\n",
        "\n",
        "plot_net_mig()\n"
      ],
      "execution_count": 34,
      "outputs": [
        {
          "output_type": "stream",
          "text": [
            "Index(['net_per_10K_2015', 'net_per_10K_2016', 'net_per_10K_2017',\n",
            "       'net_per_10K_2018', 'net_per_10K_2019'],\n",
            "      dtype='object')\n"
          ],
          "name": "stdout"
        },
        {
          "output_type": "display_data",
          "data": {
            "image/png": "[encoded data removed]",
            "text/plain": [
              "<Figure size 432x288 with 1 Axes>"
            ]
          },
          "metadata": {
            "tags": [],
            "needs_background": "light"
          }
        }
      ]
    },
    {
      "cell_type": "markdown",
      "metadata": {
        "id": "tCATnnTDVB0f"
      },
      "source": [
        "### Exercise 5 - Creating a Bar chart for yearly migration\n",
        "---\n",
        "Create a bar chart which shows the total net migration for the years 2015-2019  \n",
        " \n",
        "* split the migration columns into a new dataframe\n",
        "* create a data variable from the max() of the five columns\n",
        "* create a labels variable, this time just create a list of the 5 years ['2015','2016','2017','2018','2019']\n",
        "* plot the bar chart\n",
        "\n",
        "***Presentation tips***:\n",
        "* use plt.xlabel('Year') and plt.ylabel('Total net migration') to name your axis \n",
        "* display your bar graph with plt.show "
      ]
    },
    {
      "cell_type": "code",
      "metadata": {
        "id": "HFpx3cFOhbKo"
      },
      "source": [
        ""
      ],
      "execution_count": null,
      "outputs": []
    },
    {
      "cell_type": "markdown",
      "metadata": {
        "id": "h7XzURfOzZfm"
      },
      "source": [
        "### Exercise 6 - creating a bar graph using grouped data \n",
        "---\n",
        "\n",
        "Create a horizontal bar chart of 2019 mean immigration for each income level ('`target_country_wb_income`')\n",
        "\n",
        "* create a data variable which contains the means, grouped by '`target_country_wb_income`' \n",
        "* extract your labels (x) using the .keys() function \n",
        "* use the plt.barh(x, y) to create a horizontal bar graph \n",
        "* add labels to the axes ('Year', 'Net Migration')  \n",
        "* show the plot  \n",
        "\n",
        "Try using plt.bar(x,y) - can you see why horizontally is more appropriate?"
      ]
    },
    {
      "cell_type": "code",
      "metadata": {
        "id": "WW0np_MNmwou"
      },
      "source": [
        ""
      ],
      "execution_count": null,
      "outputs": []
    },
    {
      "cell_type": "markdown",
      "metadata": {
        "id": "49JShRy_vWib"
      },
      "source": [
        "# Pie Charts, Box Plots, Scatter Plots and Histograms\n",
        "---\n",
        "\n",
        "For these exercises you will use the Psychology dataset: \"https://github.com/lilaceri/Working-with-data-/blob/b157a2feceb7709cf82426932385706d65446270/Data%20Sets%20for%20code%20divisio/Positive_Psychology_2017.csv?raw=true\"\n",
        "\n",
        "To get the data ready:\n",
        "\n",
        "* read csv file above and save into a new variable called `psych_data`"
      ]
    },
    {
      "cell_type": "markdown",
      "metadata": {
        "id": "EMq3ymhwlcYR"
      },
      "source": [
        "### Exercise 7 - Creating a pie chart of stress data\n",
        "---\n",
        "Create a pie chart which shows how stressed students who speak different languages are.   \n",
        "\n",
        "To do this:\n",
        "\n",
        "* similar to Exercise 6 - create a variable which groups the means of data by firstlanguage  \n",
        "* store the means for 'Stress' in a variable called data\n",
        "* extract your labels using the keys() function\n",
        "* plot your pie chart using plt.pie(data, labels = labels)\n",
        "* write a comment noting anything interesting about the visualisation\n",
        "\n",
        "\n"
      ]
    },
    {
      "cell_type": "code",
      "metadata": {
        "id": "4mbOBPE-nU7o"
      },
      "source": [
        ""
      ],
      "execution_count": null,
      "outputs": []
    },
    {
      "cell_type": "markdown",
      "metadata": {
        "id": "dLNPuH5zuq7Y"
      },
      "source": [
        "### Exercise 8 - Creating a box plot of Wellbeing\n",
        "---\n",
        "A box plot is used to visualise summary infomation about a data series such as the min, max and median. \n",
        "\n",
        "Create a box plot of the Wellbeing scores\n",
        "\n",
        "*  split off the wellbeing column  \n",
        "*  use plt.boxplot(data, labels=\"Wellbeing\") to create boxplot \n",
        "*  show the boxplot"
      ]
    },
    {
      "cell_type": "code",
      "metadata": {
        "id": "i7fctsOQlcGR"
      },
      "source": [
        ""
      ],
      "execution_count": null,
      "outputs": []
    },
    {
      "cell_type": "markdown",
      "metadata": {
        "id": "ecS9uzAs3AuV"
      },
      "source": [
        "### Exercise 9 - Histograms of  age \n",
        "---\n",
        "\n",
        "Create a histogram which shows the frequency distribution for '`Wellbeing`'.\n",
        "\n",
        "* split the `Wellbeing` column off to provide the data\n",
        "* plot the histogram using `plt.hist(data)` \n",
        "* add labels using `plt.xlabel()` and `plt.ylabel()`\n",
        "* change the colours of the bars - try plt.hist(x, color = 'red')\n",
        "* show the plot\n"
      ]
    },
    {
      "cell_type": "code",
      "metadata": {
        "id": "Iuo3TJOG3ASF"
      },
      "source": [
        ""
      ],
      "execution_count": null,
      "outputs": []
    },
    {
      "cell_type": "markdown",
      "metadata": {
        "id": "7ijbVqHZ1YhP"
      },
      "source": [
        "### Exercise 10 - Create a scatterplot of Wellbeing and Stress with line of best fit\n",
        "---\n",
        "\n",
        "Earlier in exercise 3, we found that Stress significantly predicted Wellbeing.\n",
        "\n",
        "Create a scatterplot of Wellbeing and Stress data.\n",
        "\n",
        "* create **x** from the `Stress` column\n",
        "* create *y* from the `Wellbeing` column\n",
        "* use `plt.scatter(x,y)` to create a scatterplot\n",
        "* add x axis and y axis labels using `plt.xlabel('Stress')` and `plt.ylabel('Wellbeing')`\n",
        "*  \n",
        "\n",
        "Adding a line of best fit:   \n",
        "\n",
        "* create a regression variable and assign the result of using linregress \n",
        "* store the slope and intercept (`slope = regression.slope`, `intercept = regression.intercept`)\n",
        "* plt.plot(x, slope*x + intercept) \n",
        "\n",
        "Show the plots.\n",
        "\n",
        "Write a short data story ( a description of the data.  What conclusion could be reached from the chart?  How confident could you be in this conclusion and why?\n",
        "\n",
        "\n"
      ]
    },
    {
      "cell_type": "code",
      "metadata": {
        "id": "9puphgbB1tUY"
      },
      "source": [
        ""
      ],
      "execution_count": null,
      "outputs": []
    },
    {
      "cell_type": "markdown",
      "metadata": {
        "id": "HF-Vx5EyxARG"
      },
      "source": [
        "## Data story\n",
        "---\n",
        "\n",
        "Add your data story here"
      ]
    },
    {
      "cell_type": "markdown",
      "metadata": {
        "id": "FWli4XMmsAPo"
      },
      "source": [
        "# Further reference on w3schools\n",
        "\n",
        "[Matplotlib on w3schools](https://www.w3schools.com/python/matplotlib_intro.**asp**)"
      ]
    }
  ]
}