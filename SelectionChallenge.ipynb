{
  "nbformat": 4,
  "nbformat_minor": 0,
  "metadata": {
    "colab": {
      "name": "SelectionChallenge.ipynb",
      "provenance": [],
      "collapsed_sections": [],
      "toc_visible": true,
      "include_colab_link": true
    },
    "kernelspec": {
      "name": "python3",
      "display_name": "Python 3"
    }
  },
  "cells": [
    {
      "cell_type": "markdown",
      "metadata": {
        "id": "view-in-github",
        "colab_type": "text"
      },
      "source": [
        "<a href=\"https://colab.research.google.com/github/njaincode/python_for_data_science/blob/main/SelectionChallenge.ipynb\" target=\"_parent\"><img src=\"https://colab.research.google.com/assets/colab-badge.svg\" alt=\"Open In Colab\"/></a>"
      ]
    },
    {
      "cell_type": "markdown",
      "metadata": {
        "id": "-QxAKPD8DZfj"
      },
      "source": [
        "# Three selection challenges\n",
        "\n",
        "---\n"
      ]
    },
    {
      "cell_type": "markdown",
      "metadata": {
        "id": "2KYUALILDcM9"
      },
      "source": [
        "### Challenge 1 - password format  \n",
        "\n",
        "Write a function called **check_password_valid()** which will check the validity of a **password** input by a user.\n",
        "\n",
        "Rules for a valid password are:  \n",
        "\n",
        "*  At least 1 letter between [a-z] and 1 letter between [A-Z].\n",
        "*  At least 1 number between [0-9].\n",
        "*  At least 1 character from [$#@].\n",
        "*  Minimum length 6 characters.\n",
        "*  Maximum length 16 characters.  \n",
        "\n",
        "Let the user know if the `password` they have typed is valid and, if not, where was the first error.\n",
        "\n",
        "*Hint:  to test if a set of characters is present in a password String, you can use re.search([character set], `password`)*  \n",
        "\n",
        "Example:   \n",
        "*if re.search([a-z],`password`):*    \n",
        "this will be True if there is at least 1 character a-z in the password.\n",
        "\n",
        "**re** is a pre-written Python function for pattern searching in Strings.  It has been imported for you in the code cell below.  "
      ]
    },
    {
      "cell_type": "code",
      "metadata": {
        "id": "8wBK9IA4BO2e",
        "colab": {
          "base_uri": "https://localhost:8080/"
        },
        "outputId": "ff99d882-6b03-41f8-8076-6d56ad440b47"
      },
      "source": [
        "import re\n",
        "\n",
        "# add your check_PasswordValid() function and call below here\n",
        "def  check_password_valid():\n",
        "\n",
        " # cond1 = True\n",
        " # cond2 = True\n",
        " # cond3 = True\n",
        " # cond4 = True\n",
        " # cond5 = True\n",
        " # cond6 = True\n",
        "\n",
        "  password = input('Please enter the password ')\n",
        "  print(password)\n",
        "\n",
        "  cond1 = re.search(r\"[a-z]\",password)\n",
        "  cond2 = re.search(r\"[A-Z]\",password)\n",
        "  cond3 = re.search(r\"[0-9]\",password)\n",
        "  cond4 = re.search(r\"[$#@]\",password) # How to search for multiple char?\n",
        "  cond5 = (len(password) >=6 and len(password) <=16)\n",
        "\n",
        "  if (cond1 == None):\n",
        "    print(f'Invalid password, should contain atleast 1 letter b/w [a-z]')\n",
        "  elif (cond2 == None):\n",
        "    print(f'Invalid password, should contain atleast 1 letter b/w [A-Z]')\n",
        "  elif (cond3 == None):\n",
        "    print(f'Invalid password, should contain atleast 1 num b/w [0-9]')\n",
        "  elif (cond4 == None):\n",
        "    print(f'Invalid password, should contain atleast 1 char from $#@')\n",
        "  elif (cond5 == None):\n",
        "    print(f'Invalid password, len should be b/w 6-16 char')\n",
        "  else:\n",
        "    print(f'Valid password')\n",
        " \n",
        "#check_password_valid(abcdfg)\n",
        "#check_password_valid(Abc123)\n",
        "#check_password_valid(a0Bcyopdfsqweqdefdafwefssafa)\n",
        "#check_password_valid(QWas#90)\n",
        "\n",
        "check_password_valid()\n",
        "\n"
      ],
      "execution_count": 13,
      "outputs": [
        {
          "output_type": "stream",
          "text": [
            "Please enter the password 00itrTmno\n",
            "00itrTmno\n",
            "Invalid password, should contain atleast 1 char from $#@\n"
          ],
          "name": "stdout"
        }
      ]
    },
    {
      "cell_type": "markdown",
      "metadata": {
        "id": "f0R4GYTEFQS-"
      },
      "source": [
        "---\n",
        "### Challenge 2 - triangle shape  \n",
        "\n",
        "Write a function called **evaluate_triangle_shape()** which will check if a triangle is equilateral, isosceles or scalene, based on the three side lengths entered by a user (**x**, **y** and **z**.\n",
        "\n",
        "An equilateral triangle is a triangle in which all three sides are equal.\n",
        "A scalene triangle is a triangle that has three unequal sides.\n",
        "An isosceles triangle is a triangle with (at least) two equal sides.\n",
        "\n",
        "For example:  \n",
        "A triange with side lengths                                 \n",
        "x: 6                                                                    \n",
        "y: 8                                                                    \n",
        "z: 12                                                                   \n",
        "is a *Scalene triangle*\n",
        "\n",
        "A triangle with side lengths\n",
        "x:5  \n",
        "y:3   \n",
        "z:5  \n",
        "is an *Isosceles triangle*"
      ]
    },
    {
      "cell_type": "code",
      "metadata": {
        "id": "oBgl4ro1DVL0",
        "colab": {
          "base_uri": "https://localhost:8080/"
        },
        "outputId": "550655cd-c70b-4640-f200-620aad79ec3a"
      },
      "source": [
        "def evaluate_triangle_shape():\n",
        "\n",
        "  x, y, z = input('Please enter three sides of a triangle').split()\n",
        "  print(x, y, z)\n",
        "\n",
        "  if (int(x) != int(y) != int(z)):\n",
        "    print(\"Scalene triangle\")\n",
        "  elif (int(x) == int(y) or int(x) == int(z) or int(y) == int(z)):\n",
        "    print('Isosceles triangle')\n",
        "  elif (int(x) == int(y) == int(z)):\n",
        "    print('Equilateral triangle')\n",
        "  else:\n",
        "    print('Unknown type of triangle?')\n",
        "\n",
        "evaluate_triangle_shape()"
      ],
      "execution_count": 18,
      "outputs": [
        {
          "output_type": "stream",
          "text": [
            "Please enter three sides of a triangle2 5 5\n",
            "2 5 5\n",
            "Isosceles triangle\n"
          ],
          "name": "stdout"
        }
      ]
    },
    {
      "cell_type": "markdown",
      "metadata": {
        "id": "hr2EotkqG33l"
      },
      "source": [
        "---\n",
        "### Challenge 3 - which season\n",
        "\n",
        "Write a function called **determine_season()** which will ask the user to enter two integers representing a **month** and **day** and prints the season for that month and day.\n",
        "\n",
        "Note:  for this exercise the season dates are:\n",
        "*  Winter December 21 to March 20    \n",
        "*  Spring March 21 to June 20  \n",
        "*  Summer June 21 to September 20  \n",
        "*  Autumn September 21 to December 20\n",
        "\n",
        "Test input:  \n",
        "Input the month (e.g. January, February etc.): 7                     \n",
        "Input the day: 31                                                       \n",
        "\n",
        "Expected output:  \n",
        "Season is summer \n",
        "\n",
        "*Note: this will require multiple and or or operators and you should use brackets to help Python know which operations to do first*  \n",
        "\n",
        "*For an extra challenge you can check that the day is valid for the month*"
      ]
    },
    {
      "cell_type": "code",
      "metadata": {
        "id": "cvbfz8nzG4IL",
        "colab": {
          "base_uri": "https://localhost:8080/"
        },
        "outputId": "fe7f6a8a-8a56-4e73-918d-7c0ac45b8de4"
      },
      "source": [
        "def  determine_season():\n",
        "\n",
        "  month = int(input('Please enter month '))\n",
        "  day = int(input('Please enter day '))\n",
        "\n",
        "  print(month, day)\n",
        "\n",
        "  # 1 - Jan 31\n",
        "  # 2- Feb 28/29\n",
        "  # 3- March 31\n",
        "  # 4- April 30\n",
        "  # 5- May 31\n",
        "  # 6- June 30\n",
        "  # 7- July 31\n",
        "  # 8- Aug 31\n",
        "  # 9- Sept 30\n",
        "  # 10 - Oct 31\n",
        "  # 11 - Nov 30\n",
        "  # 12 - Dec 31\n",
        "  \n",
        "  r_31 = [1,3,5,7,8,10,12] # list\n",
        "  r_30 = [4,6,9,11]\n",
        "  r_feb = [2]\n",
        "\n",
        "  if month in r_31:\n",
        "    if day > 31:\n",
        "      print(f'Invalid day {day} entered for month {month}')\n",
        "\n",
        "  if month in r_30:\n",
        "    if day > 30:\n",
        "      print(f'Invalid day {day} entered for month {month}')\n",
        "\n",
        "  if month in r_feb:\n",
        "    if day >29:\n",
        "      print(f'Invalid day {day} entered for month {month}')\n",
        "\n",
        "  if month == 9 and day >=21 or month ==12 and day <=20 or month>9:\n",
        "    print('Autumn')\n",
        "  elif month == 6 and day >=21 or month==9 and day <=20 or month>6:\n",
        "    print('Summer')\n",
        "  elif month == 3 and day >=21 or month==6 and day <=20 or month>3:\n",
        "    print('Spring')\n",
        "  else:\n",
        "    print('Winter')\n",
        "\n",
        "determine_season()\n"
      ],
      "execution_count": 36,
      "outputs": [
        {
          "output_type": "stream",
          "text": [
            "Please enter month 7\n",
            "Please enter day 32\n",
            "7 32\n",
            "Invalid day 32 entered for month 7\n",
            "Summer\n"
          ],
          "name": "stdout"
        }
      ]
    },
    {
      "cell_type": "markdown",
      "metadata": {
        "id": "bv-CXiSf4rSf"
      },
      "source": [
        "# New Section"
      ]
    },
    {
      "cell_type": "code",
      "metadata": {
        "colab": {
          "base_uri": "https://localhost:8080/"
        },
        "id": "q8ZivDt-4wcc",
        "outputId": "9ace3287-a0b8-4ab1-9c1f-c8bd6e9ce12e"
      },
      "source": [
        "import re\n",
        "def regex_experiment():\n",
        "\n",
        "  # From Corey youtube\n",
        "  text_to_search='''\n",
        "  abcdefghijklmnopqrst\n",
        "  ABCDEFGHIJKLMNOPQRST\n",
        "  1234567890\n",
        "  MetaCharacters (need to be escaped):\n",
        "  . ^ $ * + ? {} [] \\ | ()\n",
        "\n",
        "  321-555-4321\n",
        "  123.555.1234\n",
        "  800-555-123\n",
        "  900-678-908\n",
        "\n",
        "  Mr. Schafer\n",
        "  Mr Smith\n",
        "  Ms Davis\n",
        "  Mrs. Robinson\n",
        "  Mr. T\n",
        "  '''\n",
        "  # raw string - prefix with r, tells python don't handle \\ in any special way\n",
        "  # To see the difference, uncomment two prints below.\n",
        "  #print('\\t Tab') # \\t -> tab\n",
        "  #print(r'\\t Tab') # \\t -> \\t\n",
        "\n",
        "  # Search patterns\n",
        "  #pattern = re.compile(r'abc')\n",
        "  #matches = pattern.finditer(text_to_search) # gives span\n",
        "  #for i in matches:\n",
        "  #  print(i)\n",
        "\n",
        "  # To match special characters\n",
        "\n",
        "  # To match digits\n",
        "  # pattern = re.compile(r'\\d')\n",
        "\n",
        "  # To match beginning and end of a string\n",
        "  #string_1 = 'Start a sentence start and then end bring it to End'\n",
        "  #pattern = re.compile(r'^Start')\n",
        "  #matches = pattern.finditer(string_1)\n",
        "  #for i in matches:\n",
        "  #  print(i)\n",
        "\n",
        "  # If ^ is inside char set, it negates the char set.\n",
        "  # e.g. the below pattern will match any char which is not equal to\n",
        "  # a-z A-Z i.e. any digit, braces \\n etc.\n",
        "  #pattern = re.compile(r'[^a-zA-Z]')\n",
        "  #matches = pattern.finditer(text_to_search)\n",
        "  #for i in matches:\n",
        "  #  print(i)\n",
        "\n",
        "  #pattern = re.compile(r'End$') # end\n",
        "  #matches = pattern.finditer(string_1)\n",
        "  #for i in matches:\n",
        "  #  print(i)\n",
        "  \n",
        "  #pattern = re.compile(r'f$') # Is there a f character at the end\n",
        "  #matches = pattern.finditer(string_1)\n",
        "  #for i in matches:\n",
        "  # print(i)\n",
        "\n",
        "  # Use of character set (e.g. match phone num starting with 800 or 900)\n",
        "  #[89] matches single char either 8 or 9\n",
        "  # [89]00- matches 800- or 900-\n",
        "  # \\d{3} - match 3 digits\n",
        "  #pattern = re.compile(r'[89]00-\\d{3}-\\d{3}')\n",
        "  #matches = pattern.finditer(text_to_search)\n",
        "  #for i in matches:\n",
        "  #  print(i)\n",
        "\n",
        "  # Range match\n",
        "  # e.g. [a-z]\n",
        "  # or [a-zA-Z] back to back range\n",
        "  #pattern = re.compile(r'[1-5]')\n",
        "  #matches = pattern.finditer(text_to_search)\n",
        "  #for i in matches:\n",
        "  #  print(i)\n",
        "\n",
        "  # pattern followed by quantifier\n",
        "  # \\s - match space\n",
        "  # \\s[A-Z]\\w* -> \\w word boundary 0 or more match\n",
        "  #\n",
        "  #pattern = re.compile(r'Mr\\.?\\s[A-Z]\\w*')\n",
        "\n",
        "  # Group\n",
        "  # r'M(r|s|rs) ->Mr, Ms, Mrs\n",
        "  #pattern = re.compile(r'M(r|s|rs)\\.?\\s[A-Z]\\w*')\n",
        "  #matches = pattern.finditer(text_to_search)\n",
        "  #for i in matches:\n",
        "  #  print(i)\n",
        "\n",
        "  # More complex regex\n",
        "  emails = '''\n",
        "  Coreys@gmail.com\n",
        "  core.sh@univ.edu\n",
        "  cor-321-sch@my-work.net\n",
        "  '''\n",
        "\n",
        "  #pattern = re.compile(r'[a-zA-Z0-9_.-]+@[a-zA-Z0-9-]+\\.[a-zA-Z]+')\n",
        "  #matches = pattern.finditer(emails)\n",
        "  #for i in matches:\n",
        "  #  print(i)\n",
        "\n",
        "  # Find domain name and top level domain\n",
        "  # Understand group\n",
        "  # Use group index to do substitution\n",
        "  urls = '''\n",
        "  https://www.google.com\n",
        "  http://coreyms.com\n",
        "  https://youtube.co.uk\n",
        "  http://www.nasa.gov\n",
        "  '''\n",
        "\n",
        "  # https? -> https or http\n",
        "  # Anything in () is a group\n",
        "  # group(0) -> whole match, urls in this case\n",
        "  # group(1) -> (www\\.)\n",
        "  # group(2) -> (\\w+)\n",
        "  # group(3) -> (\\.\\w+\\.?\\w+)\n",
        "  #pattern = re.compile(r'https?://(www\\.)?(\\w+)(\\.\\w+\\.?\\w+)')\n",
        "  #matches = pattern.finditer(urls)\n",
        " # for i in matches:\n",
        " #   print(i.group(3))\n",
        "\n",
        "  # Return only group 2&3 match\n",
        "  #subbed_urls = pattern.sub(r'\\2\\3', urls)\n",
        "  #print(subbed_urls)\n",
        "\n",
        "  # Other methods\n",
        "  # findall - returns group if there is any else return whole matched pattern.\n",
        "  #pattern = re.compile(r'M(r|s|rs)\\.?\\s[A-Z]\\w*')\n",
        "  #matches = pattern.finditer(text_to_search)\n",
        "  #matches = pattern.findall(text_to_search)\n",
        "  #for i in matches:\n",
        "  #  print(i)\n",
        "\n",
        "  # match - returns first match only and only at the beginning of string\n",
        "  #string_1 = 'Start a sentence start and then end bring it to End'\n",
        "  #pattern = re.compile(r'sentence') # replace with Start and it will match\n",
        "  #matches = pattern.match(string_1) # doesnt return iterable\n",
        "  # Not iterable\n",
        "  #for i in matches:\n",
        "  #  print(i)\n",
        "  #print(matches)\n",
        "\n",
        "  # search - search anywhere in strin unlike match\n",
        "\n",
        "  # Match any case\n",
        "  #string_1 = 'Start a sentence start and then end bring it to End'\n",
        "  #pattern = re.compile(r'start', re.IGNORECASE) # matches start and Start\n",
        "  #matches = pattern.finditer(string_1)\n",
        "  #for i in matches:\n",
        "  #  print(i)\n",
        "  \n",
        "  # Split at very space\n",
        "  txt = \"The rain in Spain\"\n",
        "  x = re.split(\"\\s\", txt)\n",
        "  print(x)\n",
        "\n",
        "  # replace every space with 9\n",
        "  txt = \"The rain in Spain\"\n",
        "  x = re.sub(\"\\s\", \"9\", txt)\n",
        "  print(x)\n",
        "\n",
        "regex_experiment()\n"
      ],
      "execution_count": 44,
      "outputs": [
        {
          "output_type": "stream",
          "text": [
            "['The', 'rain', 'in', 'Spain']\n",
            "The9rain9in9Spain\n"
          ],
          "name": "stdout"
        }
      ]
    }
  ]
}