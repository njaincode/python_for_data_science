{
  "nbformat": 4,
  "nbformat_minor": 0,
  "metadata": {
    "colab": {
      "name": "misc_code.ipynb",
      "provenance": [],
      "collapsed_sections": [],
      "toc_visible": true,
      "authorship_tag": "ABX9TyOzd4cYEBfAdGYlZOTRQ6sf",
      "include_colab_link": true
    },
    "kernelspec": {
      "name": "python3",
      "display_name": "Python 3"
    },
    "language_info": {
      "name": "python"
    }
  },
  "cells": [
    {
      "cell_type": "markdown",
      "metadata": {
        "id": "view-in-github",
        "colab_type": "text"
      },
      "source": [
        "<a href=\"https://colab.research.google.com/github/njaincode/python_for_data_science/blob/main/misc_code.ipynb\" target=\"_parent\"><img src=\"https://colab.research.google.com/assets/colab-badge.svg\" alt=\"Open In Colab\"/></a>"
      ]
    },
    {
      "cell_type": "code",
      "metadata": {
        "colab": {
          "base_uri": "https://localhost:8080/"
        },
        "id": "BBUKabIflc1P",
        "outputId": "c989e122-a3fa-4a68-da73-08c5e4356801"
      },
      "source": [
        "# How to check if a number is not in range\n",
        "def check_not_in_range(num):\n",
        "  if num not in range (1,5):\n",
        "    print(f'Outside range')\n",
        "  else:\n",
        "    print(f'Within range')\n",
        "\n",
        "#check_not_in_range(6)\n",
        "\n",
        "# Variable number of args (as tuple)\n",
        "def f_take_var_args(*args):\n",
        "  print(args)\n",
        "  print(type(args))\n",
        "\n",
        "def f_unpack_args(x,y):\n",
        "  print(f'x={x} y={y}')\n",
        "  print(type(x))\n",
        "\n",
        "var_args = 1,2,2,3\n",
        "unpack_args = {5,6}\n",
        "\n",
        "#f_take_var_args(var_args)\n",
        "#f_unpack_args(*unpack_args)\n",
        "\n",
        "# kwars\n",
        "# The arguments are passed as a dictionary and these arguments make a dictionary \n",
        "#inside function with name same as the parameter excluding double asterisk.\n",
        "# Keys should be strings\n",
        "\n",
        "\n",
        "def f_kwargs(**ckwargs):\n",
        "  print(ckwargs)\n",
        "  print(type(ckwargs))\n",
        "\n",
        "def f_kargs_unpack(a,b,c):\n",
        "  print(a, b, c)\n",
        "\n",
        "#f_kwargs(a='2', b='3', c='4')\n",
        "kargs_pack = {'a':'Hello', 'b':'how', 'c':'are'}\n",
        "f_kargs_unpack(**kargs_pack)\n",
        "\n"
      ],
      "execution_count": 20,
      "outputs": [
        {
          "output_type": "stream",
          "text": [
            "Hello how are\n"
          ],
          "name": "stdout"
        }
      ]
    },
    {
      "cell_type": "markdown",
      "metadata": {
        "id": "Bdur46jhAZQI"
      },
      "source": [
        "# datetime()\n",
        "\n"
      ]
    },
    {
      "cell_type": "code",
      "metadata": {
        "id": "gDaVKOBBCnaE"
      },
      "source": [
        "from datetime import date\n",
        "\n",
        "def calculate_age():\n",
        "  today = date.today()\n",
        "  current_year = today.year\n",
        "  "
      ],
      "execution_count": null,
      "outputs": []
    },
    {
      "cell_type": "markdown",
      "metadata": {
        "id": "xcFTVOELlpLj"
      },
      "source": [
        "# regex practice\n"
      ]
    },
    {
      "cell_type": "code",
      "metadata": {
        "id": "YYt0G3Y3C_iH"
      },
      "source": [
        "def reg_pract():\n",
        "  abc\n",
        "  "
      ],
      "execution_count": null,
      "outputs": []
    },
    {
      "cell_type": "markdown",
      "metadata": {
        "id": "i8tVVtzM9Trp"
      },
      "source": [
        "# Array slicing"
      ]
    },
    {
      "cell_type": "code",
      "metadata": {
        "colab": {
          "base_uri": "https://localhost:8080/"
        },
        "id": "zZlAVtKv9q5I",
        "outputId": "f83f3635-d5dd-414f-f77b-6d17ff362abb"
      },
      "source": [
        "import numpy as np\n",
        "\n",
        "def array_slicing():\n",
        "  a = np.arange(0,10,1)\n",
        "  print(a)\n",
        "  # Negative index slicing - start -> -3+10, 7-1, 7-2, 7-3, 7-4\n",
        "  print(a[-3:3:-1])\n",
        "\n",
        "array_slicing()"
      ],
      "execution_count": 6,
      "outputs": [
        {
          "output_type": "stream",
          "text": [
            "[0 1 2 3 4 5 6 7 8 9]\n",
            "[7 6 5 4]\n"
          ],
          "name": "stdout"
        }
      ]
    }
  ]
}