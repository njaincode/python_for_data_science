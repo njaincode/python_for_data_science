{
  "nbformat": 4,
  "nbformat_minor": 0,
  "metadata": {
    "colab": {
      "name": "Wrangle-the-data.ipynb",
      "provenance": [],
      "collapsed_sections": [],
      "toc_visible": true,
      "include_colab_link": true
    },
    "kernelspec": {
      "name": "python3",
      "display_name": "Python 3"
    },
    "language_info": {
      "name": "python"
    }
  },
  "cells": [
    {
      "cell_type": "markdown",
      "metadata": {
        "id": "view-in-github",
        "colab_type": "text"
      },
      "source": [
        "<a href=\"https://colab.research.google.com/github/njaincode/python_for_data_science/blob/main/Wrangle_the_data.ipynb\" target=\"_parent\"><img src=\"https://colab.research.google.com/assets/colab-badge.svg\" alt=\"Open In Colab\"/></a>"
      ]
    },
    {
      "cell_type": "markdown",
      "metadata": {
        "id": "BKBQIxC4YPKX"
      },
      "source": [
        "# Merging dataframes, creating new columns, replacing with default or correctly formatted values\n",
        "---\n",
        "\n",
        "## Merging dataframes\n",
        "\n",
        "We often want to use data from a set of different data files, or a set of dataframes we have prepared, to combine into one dataframe.\n",
        "\n",
        "### To merge two dataframes together when both dataframes have column headings in common\n",
        "\n",
        "If `df1` and `df2` have some column headings in common, to combine the two into one dataframe we use:  \n",
        "\n",
        "`pd.concat([dataframes to combine])`\n",
        "\n",
        "This will create a new dataframe with all columns from the original two dataframes, which we can store in a new variable for later use.  Missing values are filled with null values. \n",
        "\n",
        "If we want only the column headings that appear in both tables, we can use join='inner':\n",
        "\n",
        "`pd.concat([dataframes to combine], join='inner')` \n",
        "\n",
        "We may also need to refactor the indexing, where two tables are indexed from 0 upwards, adding the two tables together will result in multiple occurences of the same index.  This can be overcome by using ignore_index=True:\n",
        "\n",
        "`pd.concat([dataframes to combine], join='inner', ignore_index=True)`\n",
        "\n",
        "\n"
      ]
    },
    {
      "cell_type": "markdown",
      "metadata": {
        "id": "g0mUEA5ugGyJ"
      },
      "source": [
        "### Exercise 1 - look at the data\n",
        "\n",
        "The Excel file at this URL https://github.com/futureCodersSE/working-with-data/blob/main/Data%20sets/Income-Data.xlsx?raw=true contains TWO data sheets named county-level and state-level.  \n",
        "\n",
        "In the code cell below, read the county-level sheet into a dataframe called county_level_df and display the contents to see what it looks like.\n",
        "\n",
        "Then, add more code to read the state-level sheet into a dataframe called state_level_df and display the contents to see what this one looks like."
      ]
    },
    {
      "cell_type": "code",
      "metadata": {
        "id": "s6qHNDn-YN0i",
        "colab": {
          "base_uri": "https://localhost:8080/"
        },
        "outputId": "4b682933-2303-4c31-c8d8-4cdfdc65ae60"
      },
      "source": [
        "import pandas as pd\n",
        "\n",
        "def read_dataframes():\n",
        "  excel_url = 'https://github.com/futureCodersSE/working-with-data/blob/main/Data%20sets/Income-Data.xlsx?raw=true'\n",
        "  \n",
        "  county_level_df = pd.read_excel(excel_url, sheet_name='county-level')\n",
        "  print(county_level_df.info())\n",
        "\n",
        "  state_level_df = pd.read_excel(excel_url, sheet_name='state-level')\n",
        "  print(state_level_df.info())\n",
        "  \n",
        "read_dataframes()\n",
        "      "
      ],
      "execution_count": 2,
      "outputs": [
        {
          "output_type": "stream",
          "text": [
            "<class 'pandas.core.frame.DataFrame'>\n",
            "RangeIndex: 18 entries, 0 to 17\n",
            "Data columns (total 5 columns):\n",
            " #   Column      Non-Null Count  Dtype \n",
            "---  ------      --------------  ----- \n",
            " 0   State       18 non-null     object\n",
            " 1   County      18 non-null     int64 \n",
            " 2   Population  18 non-null     int64 \n",
            " 3   Age         18 non-null     int64 \n",
            " 4   Income      18 non-null     int64 \n",
            "dtypes: int64(4), object(1)\n",
            "memory usage: 848.0+ bytes\n",
            "None\n",
            "<class 'pandas.core.frame.DataFrame'>\n",
            "RangeIndex: 5 entries, 0 to 4\n",
            "Data columns (total 5 columns):\n",
            " #   Column     Non-Null Count  Dtype  \n",
            "---  ------     --------------  -----  \n",
            " 0   State      5 non-null      object \n",
            " 1   Pop        5 non-null      int64  \n",
            " 2   Age        5 non-null      int64  \n",
            " 3   Income     5 non-null      int64  \n",
            " 4   Education  5 non-null      float64\n",
            "dtypes: float64(1), int64(3), object(1)\n",
            "memory usage: 328.0+ bytes\n",
            "None\n"
          ],
          "name": "stdout"
        }
      ]
    },
    {
      "cell_type": "markdown",
      "metadata": {
        "id": "Ai3WPgDgg0Z-"
      },
      "source": [
        "### Exercise 2 - combine the two data sets\n",
        "\n",
        "Use `pd.concat([list of dataframes])` to combine the two dataframes into a new dataframe called **income_df**, filling missing values with null values.  \n",
        "\n",
        "**Test output**:  \n",
        "income_df.shape will be (23, 7)  \n",
        "The Pop and Education columns will contain NaN for the first 18 rows  \n",
        "The County and Population columns will contain NaN for the last 5 rows"
      ]
    },
    {
      "cell_type": "code",
      "metadata": {
        "id": "cNRmOB4Yhzdf",
        "colab": {
          "base_uri": "https://localhost:8080/"
        },
        "outputId": "a75c2e06-c110-4df0-f20a-acaad1c82ed0"
      },
      "source": [
        "import pandas as pd\n",
        "\n",
        "def combine_dataframes():\n",
        "  excel_url = 'https://github.com/futureCodersSE/working-with-data/blob/main/Data%20sets/Income-Data.xlsx?raw=true'\n",
        "  \n",
        "  county_level_df = pd.read_excel(excel_url, sheet_name='county-level')\n",
        "  state_level_df = pd.read_excel(excel_url, sheet_name='state-level')\n",
        "\n",
        "  #combine the two dataframes into a new dataframe\n",
        "  df_to_concat = [county_level_df, state_level_df]\n",
        "  income_df = pd.concat(df_to_concat, ignore_index=False)\n",
        "  # county_level_df has 5 col, 18 rows. \n",
        "  # state_level_df has 5 col, 5 rows\n",
        "  # Same cols - State, Age and Income, diff cols - County, Population, Pop, Education\n",
        "  print(income_df.info())\n",
        "\n",
        "  # Check Pop and Education\n",
        "  print(f'Pop,Education = \\n {income_df[[\"Pop\",\"Education\"]].head(19)}')\n",
        "  \n",
        "  # Check County and Population \n",
        "  print(f'County,Population = \\n {income_df[[\"County\",\"Population\"]].tail(6)}')\n",
        "  \n",
        "combine_dataframes()"
      ],
      "execution_count": 9,
      "outputs": [
        {
          "output_type": "stream",
          "text": [
            "<class 'pandas.core.frame.DataFrame'>\n",
            "Int64Index: 23 entries, 0 to 4\n",
            "Data columns (total 7 columns):\n",
            " #   Column      Non-Null Count  Dtype  \n",
            "---  ------      --------------  -----  \n",
            " 0   State       23 non-null     object \n",
            " 1   County      18 non-null     float64\n",
            " 2   Population  18 non-null     float64\n",
            " 3   Age         23 non-null     int64  \n",
            " 4   Income      23 non-null     int64  \n",
            " 5   Pop         5 non-null      float64\n",
            " 6   Education   5 non-null      float64\n",
            "dtypes: float64(4), int64(2), object(1)\n",
            "memory usage: 1.4+ KB\n",
            "None\n",
            "Pop,Education = \n",
            "         Pop  Education\n",
            "0       NaN        NaN\n",
            "1       NaN        NaN\n",
            "2       NaN        NaN\n",
            "3       NaN        NaN\n",
            "4       NaN        NaN\n",
            "5       NaN        NaN\n",
            "6       NaN        NaN\n",
            "7       NaN        NaN\n",
            "8       NaN        NaN\n",
            "9       NaN        NaN\n",
            "10      NaN        NaN\n",
            "11      NaN        NaN\n",
            "12      NaN        NaN\n",
            "13      NaN        NaN\n",
            "14      NaN        NaN\n",
            "15      NaN        NaN\n",
            "16      NaN        NaN\n",
            "17      NaN        NaN\n",
            "0   23543.0       10.2\n",
            "County,Population = \n",
            "     County  Population\n",
            "17     7.0        21.0\n",
            "0      NaN         NaN\n",
            "1      NaN         NaN\n",
            "2      NaN         NaN\n",
            "3      NaN         NaN\n",
            "4      NaN         NaN\n"
          ],
          "name": "stdout"
        }
      ]
    },
    {
      "cell_type": "markdown",
      "metadata": {
        "id": "aekH_ewx7FM3"
      },
      "source": [
        "### Exercise 3 - ignoring index to get a new indexing system\n",
        "---\n",
        "\n",
        "All rows in each dataframe are indexed from 0 to one less than the number of rows.  You will have noticed that the concatenation in the previous exercise has kept the indexing from the individual tables.  \n",
        "\n",
        "If we are making a new table it may make sense to create a new set of indices, from 0 to one less than the length of the new table.   Do this by adding an extra paramater ignore_index=True.  ignore_index is False by default and all original indices are kept.\n",
        "\n",
        "Combine the dataframes `county_level_df` and `state_level_df` into a new dataframe called `income_df`, adding the parameter `ignore_index=True`. "
      ]
    },
    {
      "cell_type": "code",
      "metadata": {
        "id": "Z5ABjwed8Rpo",
        "colab": {
          "base_uri": "https://localhost:8080/"
        },
        "outputId": "3a5b9b2d-8ad6-41cd-de0b-9b44412e1e16"
      },
      "source": [
        "import pandas as pd\n",
        "\n",
        "def combine_dataframes_cts_idx():\n",
        "  excel_url = 'https://github.com/futureCodersSE/working-with-data/blob/main/Data%20sets/Income-Data.xlsx?raw=true'\n",
        "  \n",
        "  county_level_df = pd.read_excel(excel_url, sheet_name='county-level')\n",
        "  state_level_df = pd.read_excel(excel_url, sheet_name='state-level')\n",
        "\n",
        "  #combine the two dataframes into a new dataframe\n",
        "  df_to_concat = [county_level_df, state_level_df]\n",
        "  income_df = pd.concat(df_to_concat, ignore_index=True)\n",
        "  \n",
        "  print(income_df.info())\n",
        "\n",
        "  # Index[18] should appear\n",
        "  print(f'Pop,Education = \\n {income_df[[\"Pop\",\"Education\"]].head(19)}')\n",
        "     \n",
        "combine_dataframes_cts_idx()"
      ],
      "execution_count": 10,
      "outputs": [
        {
          "output_type": "stream",
          "text": [
            "<class 'pandas.core.frame.DataFrame'>\n",
            "RangeIndex: 23 entries, 0 to 22\n",
            "Data columns (total 7 columns):\n",
            " #   Column      Non-Null Count  Dtype  \n",
            "---  ------      --------------  -----  \n",
            " 0   State       23 non-null     object \n",
            " 1   County      18 non-null     float64\n",
            " 2   Population  18 non-null     float64\n",
            " 3   Age         23 non-null     int64  \n",
            " 4   Income      23 non-null     int64  \n",
            " 5   Pop         5 non-null      float64\n",
            " 6   Education   5 non-null      float64\n",
            "dtypes: float64(4), int64(2), object(1)\n",
            "memory usage: 1.4+ KB\n",
            "None\n",
            "Pop,Education = \n",
            "         Pop  Education\n",
            "0       NaN        NaN\n",
            "1       NaN        NaN\n",
            "2       NaN        NaN\n",
            "3       NaN        NaN\n",
            "4       NaN        NaN\n",
            "5       NaN        NaN\n",
            "6       NaN        NaN\n",
            "7       NaN        NaN\n",
            "8       NaN        NaN\n",
            "9       NaN        NaN\n",
            "10      NaN        NaN\n",
            "11      NaN        NaN\n",
            "12      NaN        NaN\n",
            "13      NaN        NaN\n",
            "14      NaN        NaN\n",
            "15      NaN        NaN\n",
            "16      NaN        NaN\n",
            "17      NaN        NaN\n",
            "18  23543.0       10.2\n"
          ],
          "name": "stdout"
        }
      ]
    },
    {
      "cell_type": "markdown",
      "metadata": {
        "id": "QOEffcMkhR_c"
      },
      "source": [
        "### Exercise 4 - combine just the columns which are common to both\n",
        "\n",
        "Add an extra parameter, `join='inner'` and combine the dataframes `county_level_df` and `state_level_df` into a new dataframe called `income_df`  \n",
        "\n",
        "**Test output**:  \n",
        "income_df.shape will be (23, 3)   \n",
        "Column headings will be State, Age, Income  \n",
        "There will be 23 rows indexed 0 to 22  \n"
      ]
    },
    {
      "cell_type": "code",
      "metadata": {
        "id": "hd1Ca5lAjERH",
        "colab": {
          "base_uri": "https://localhost:8080/"
        },
        "outputId": "d23fc9b0-2aa0-487c-bb2f-6f96549c51ca"
      },
      "source": [
        "import pandas as pd\n",
        "\n",
        "def combine_cols():\n",
        "  excel_url = 'https://github.com/futureCodersSE/working-with-data/blob/main/Data%20sets/Income-Data.xlsx?raw=true'\n",
        "  \n",
        "  county_level_df = pd.read_excel(excel_url, sheet_name='county-level')\n",
        "  state_level_df = pd.read_excel(excel_url, sheet_name='state-level')\n",
        "\n",
        "  #combine the two dataframes into a new dataframe\n",
        "  df_to_concat = [county_level_df, state_level_df]\n",
        "  income_df = pd.concat(df_to_concat, ignore_index=True, join='inner')\n",
        "  \n",
        "  print(income_df.info())\n",
        "  total_rows = len(income_df.axes[0])\n",
        "  total_col = len(income_df.axes[1])\n",
        "  print(len(income_df))\n",
        "  print(total_rows, total_col )\n",
        "      \n",
        "combine_cols()"
      ],
      "execution_count": 13,
      "outputs": [
        {
          "output_type": "stream",
          "text": [
            "<class 'pandas.core.frame.DataFrame'>\n",
            "RangeIndex: 23 entries, 0 to 22\n",
            "Data columns (total 3 columns):\n",
            " #   Column  Non-Null Count  Dtype \n",
            "---  ------  --------------  ----- \n",
            " 0   State   23 non-null     object\n",
            " 1   Age     23 non-null     int64 \n",
            " 2   Income  23 non-null     int64 \n",
            "dtypes: int64(2), object(1)\n",
            "memory usage: 680.0+ bytes\n",
            "None\n",
            "23\n",
            "23 3\n"
          ],
          "name": "stdout"
        }
      ]
    },
    {
      "cell_type": "markdown",
      "metadata": {
        "id": "4QAJS3TJCz_p"
      },
      "source": [
        "# Appending rows to a dataframe\n",
        "\n",
        "Where two dataframes have matching columns, we can append one to the other to add the records from one onto the end of the other.\n",
        "\n",
        "We do this using dataframe.append()\n",
        "\n",
        "income_2 = income.append()"
      ]
    },
    {
      "cell_type": "markdown",
      "metadata": {
        "id": "Cwarv13blWyg"
      },
      "source": [
        "### Exercise 5 - add new rows to the end of the income dataframe\n",
        "\n",
        "The sheet `income` in the Excel data file has 10 further records showing State, Age and Income only, so this table matches the income dataframe exactly.\n",
        "\n",
        "Read the data from sheet_name `income` in the same Excel data file into a new dataframe called income_new.  \n",
        "\n",
        "Display the data so that you can inspect it.  \n",
        "\n",
        "Now append this dataframe to the `income` dataframe to form a new dataframe called **income_df_v2**.  Use the ignore_index=True parameter to reindex.  \n",
        "\n",
        "**Test output**:  \n",
        "income_df_v2.shape = (33, 4)  \n",
        "Rows are indexed from 0 to 32  "
      ]
    },
    {
      "cell_type": "code",
      "metadata": {
        "id": "Exik-fYQ_ORy",
        "colab": {
          "base_uri": "https://localhost:8080/"
        },
        "outputId": "365d6b77-0bfc-4bb2-8ba7-ce28f48e03ad"
      },
      "source": [
        "import pandas as pd\n",
        "\n",
        "def append_data():\n",
        "  excel_url = 'https://github.com/futureCodersSE/working-with-data/blob/main/Data%20sets/Income-Data.xlsx?raw=true'\n",
        "  \n",
        "  county_level_df = pd.read_excel(excel_url, sheet_name='county-level')\n",
        "  state_level_df = pd.read_excel(excel_url, sheet_name='state-level')\n",
        "  \n",
        "  #combine the two dataframes into a new dataframe with same column names\n",
        "  df_to_concat = [county_level_df, state_level_df]\n",
        "  income_df = pd.concat(df_to_concat, ignore_index=True, join='inner')\n",
        "  print(income_df.info())\n",
        "\n",
        "  # Read income data\n",
        "  income_new_df = pd.read_excel(excel_url, sheet_name='income')\n",
        "  # The col names should match income_df, it has extra col Pop\n",
        "  print(income_new_df.info())\n",
        "\n",
        "  #Concat gives the flexibility to join based on the axis( all rows or all columns)\n",
        "  #Append is the specific case(axis=0, join='outer') of concat. Does not modify the original df\n",
        "  #To try - Join is based on the indexes (set by set_index) on how variable =['left','right','inner','couter']\n",
        "  #To try - Merge is based on any particular column each of the two dataframes, this columns are variables on like 'left_on', 'right_on', 'on'\n",
        "\n",
        "  income_df_v2 = income_df.append(income_new_df, ignore_index=True)\n",
        "  print(income_df_v2.info())\n",
        " \n",
        "       \n",
        "append_data()"
      ],
      "execution_count": 15,
      "outputs": [
        {
          "output_type": "stream",
          "text": [
            "<class 'pandas.core.frame.DataFrame'>\n",
            "RangeIndex: 23 entries, 0 to 22\n",
            "Data columns (total 3 columns):\n",
            " #   Column  Non-Null Count  Dtype \n",
            "---  ------  --------------  ----- \n",
            " 0   State   23 non-null     object\n",
            " 1   Age     23 non-null     int64 \n",
            " 2   Income  23 non-null     int64 \n",
            "dtypes: int64(2), object(1)\n",
            "memory usage: 680.0+ bytes\n",
            "None\n",
            "<class 'pandas.core.frame.DataFrame'>\n",
            "RangeIndex: 10 entries, 0 to 9\n",
            "Data columns (total 4 columns):\n",
            " #   Column  Non-Null Count  Dtype \n",
            "---  ------  --------------  ----- \n",
            " 0   State   10 non-null     object\n",
            " 1   Age     10 non-null     int64 \n",
            " 2   Income  10 non-null     int64 \n",
            " 3   Pop     10 non-null     int64 \n",
            "dtypes: int64(3), object(1)\n",
            "memory usage: 448.0+ bytes\n",
            "None\n",
            "<class 'pandas.core.frame.DataFrame'>\n",
            "RangeIndex: 33 entries, 0 to 32\n",
            "Data columns (total 4 columns):\n",
            " #   Column  Non-Null Count  Dtype  \n",
            "---  ------  --------------  -----  \n",
            " 0   State   33 non-null     object \n",
            " 1   Age     33 non-null     int64  \n",
            " 2   Income  33 non-null     int64  \n",
            " 3   Pop     10 non-null     float64\n",
            "dtypes: float64(1), int64(2), object(1)\n",
            "memory usage: 1.2+ KB\n",
            "None\n"
          ],
          "name": "stdout"
        }
      ]
    },
    {
      "cell_type": "markdown",
      "metadata": {
        "id": "X6W6V8P9Eo2A"
      },
      "source": [
        "### Exercise 6 - Create a new Pop column in county_level_df\n",
        "\n",
        "Looking at the tables country_level_df and state_level_df, each has a column containing data on population.  One column is headed *Population* and the other is headed *Pop*.  Ideally these would be merged into one column and this would minimise the number of NaN entries.  \n",
        "\n",
        "*  Add a new column called '`Pop`' to the `county_level_df` dataframe which contains a copy of all the values in the '`Population`' column  (`df['new_name'] = df['existing_name']`)  \n",
        "*  Drop the 'Population' column (`df.drop(column name), axis=1`) from `county_level_df` and store the result in a new dataframe called **county_level_df_v2**\n",
        "*  display the new dataframe"
      ]
    },
    {
      "cell_type": "code",
      "metadata": {
        "id": "Yb_FWSLbG_zo",
        "colab": {
          "base_uri": "https://localhost:8080/"
        },
        "outputId": "d66e8b72-1d49-4e94-ddfc-4ae2e112fca8"
      },
      "source": [
        "import pandas as pd\n",
        "\n",
        "def merge_diff_col():\n",
        "  excel_url = 'https://github.com/futureCodersSE/working-with-data/blob/main/Data%20sets/Income-Data.xlsx?raw=true'\n",
        "  \n",
        "  county_level_df = pd.read_excel(excel_url, sheet_name='county-level')\n",
        "  \n",
        "  # Add a new column called 'Pop' to the county_level_df dataframe which contains a copy of all the values in the 'Population' column\n",
        "  county_level_df['Pop'] = county_level_df['Population']\n",
        "  # Should have 6 col\n",
        "  print(county_level_df.info())\n",
        "\n",
        "  # Drop the 'Population' column (df.drop(column name), axis=1) from county_level_df\n",
        "  #county_level_df_v2 = county_level_df.drop('Population', axis=1)\n",
        "  # Checking if inplace works as well\n",
        "  county_level_df.drop('Population', axis=1, inplace=True)\n",
        "  # Should have 5 col\n",
        "  #print(county_level_df_v2.info())\n",
        "  print(county_level_df.info())\n",
        "  print(county_level_df['Pop'].head(5))\n",
        "\n",
        "merge_diff_col()\n"
      ],
      "execution_count": 19,
      "outputs": [
        {
          "output_type": "stream",
          "text": [
            "<class 'pandas.core.frame.DataFrame'>\n",
            "RangeIndex: 18 entries, 0 to 17\n",
            "Data columns (total 6 columns):\n",
            " #   Column      Non-Null Count  Dtype \n",
            "---  ------      --------------  ----- \n",
            " 0   State       18 non-null     object\n",
            " 1   County      18 non-null     int64 \n",
            " 2   Population  18 non-null     int64 \n",
            " 3   Age         18 non-null     int64 \n",
            " 4   Income      18 non-null     int64 \n",
            " 5   Pop         18 non-null     int64 \n",
            "dtypes: int64(5), object(1)\n",
            "memory usage: 992.0+ bytes\n",
            "None\n",
            "<class 'pandas.core.frame.DataFrame'>\n",
            "RangeIndex: 18 entries, 0 to 17\n",
            "Data columns (total 5 columns):\n",
            " #   Column  Non-Null Count  Dtype \n",
            "---  ------  --------------  ----- \n",
            " 0   State   18 non-null     object\n",
            " 1   County  18 non-null     int64 \n",
            " 2   Age     18 non-null     int64 \n",
            " 3   Income  18 non-null     int64 \n",
            " 4   Pop     18 non-null     int64 \n",
            "dtypes: int64(4), object(1)\n",
            "memory usage: 848.0+ bytes\n",
            "None\n",
            "0    72\n",
            "1    33\n",
            "2    25\n",
            "3    54\n",
            "4    11\n",
            "Name: Pop, dtype: int64\n"
          ],
          "name": "stdout"
        }
      ]
    },
    {
      "cell_type": "markdown",
      "metadata": {
        "id": "d9ku407dEU_3"
      },
      "source": [
        "## Exercise 7 - clean up the format of the Pop column in state_level_df\n",
        "\n",
        "Now that both dataframes hava a Pop column, we should make the data consisent in format for both dataframes.\n",
        "\n",
        "In `county_level_df_v2` the values in the `Pop` column are in 1000s.  In `state_level_df` the values in the `Pop` column are actual numbers.  Let's convert the `state_level_df` values to 1000s for consistency.  We can do this by performing an operation on a column ( `df[column name] = df[column name] / 1000 `) \n",
        "\n",
        "*  make a copy of `state_level_df` called **state_level_df_v2** (use df.copy())\n",
        "*  convert the values in the `Pop` column of the `state_level_df_v2` dataframe to numbers of 1000s from actual numbers, rounding to whole numbers\n",
        "*  convert the values in the 'Pop' column to int64 (df[column name].astype(int))\n",
        "\n",
        "\n",
        "**Test output**:\n",
        "24, 10, 5, 30, 18, dtype: int64\n",
        "\n",
        "\n",
        "\n",
        "\n"
      ]
    },
    {
      "cell_type": "code",
      "metadata": {
        "id": "k5xM8g68N-wY",
        "colab": {
          "base_uri": "https://localhost:8080/"
        },
        "outputId": "205fa074-376d-4eeb-9030-0a1627c0f732"
      },
      "source": [
        "import pandas as pd\n",
        "import numpy as np\n",
        "\n",
        "def clean_format():\n",
        "  excel_url = 'https://github.com/futureCodersSE/working-with-data/blob/main/Data%20sets/Income-Data.xlsx?raw=true'\n",
        "  \n",
        "  county_level_df = pd.read_excel(excel_url, sheet_name='county-level')\n",
        "  state_level_df = pd.read_excel(excel_url, sheet_name='state-level')\n",
        "\n",
        "  # Add a new column called 'Pop' to the county_level_df dataframe which contains a copy of all the values in the 'Population' column\n",
        "  county_level_df['Pop'] = county_level_df['Population']\n",
        "  \n",
        "  # Drop the 'Population' column \n",
        "  county_level_df.drop('Population', axis=1, inplace=True)\n",
        "  # Just to see the data\n",
        "  print(county_level_df['Pop'].head(10))\n",
        "\n",
        "  # make a copy of state_level_df\n",
        "  state_level_df_v2 = state_level_df.copy()\n",
        "  # Just to see the data\n",
        "  print(state_level_df_v2['Pop'].head(10))\n",
        "\n",
        "  # convert the values in the Pop column to numbers of 1000s from actual numbers (rounded)\n",
        "  # You need to assign the pd.Series back to Series, there is no such thing as inplace here\n",
        "  state_level_df_v2['Pop'] = (state_level_df_v2['Pop']/1000).round()\n",
        "  \n",
        "  # convert the values in the 'Pop' column to int64 \n",
        "  state_level_df_v2['Pop'] = state_level_df_v2['Pop'].astype(int)\n",
        "  print(state_level_df_v2['Pop'].head(10))\n",
        "\n",
        "   \n",
        "clean_format()"
      ],
      "execution_count": 30,
      "outputs": [
        {
          "output_type": "stream",
          "text": [
            "0    72\n",
            "1    33\n",
            "2    25\n",
            "3    54\n",
            "4    11\n",
            "5    28\n",
            "6    82\n",
            "7     5\n",
            "8    61\n",
            "9     5\n",
            "Name: Pop, dtype: int64\n",
            "0    23543\n",
            "1    10343\n",
            "2     5231\n",
            "3    29587\n",
            "4    18142\n",
            "Name: Pop, dtype: int64\n",
            "0    24.0\n",
            "1    10.0\n",
            "2     5.0\n",
            "3    30.0\n",
            "4    18.0\n",
            "Name: Pop, dtype: float64\n",
            "0    24\n",
            "1    10\n",
            "2     5\n",
            "3    30\n",
            "4    18\n",
            "Name: Pop, dtype: int64\n"
          ],
          "name": "stdout"
        }
      ]
    },
    {
      "cell_type": "markdown",
      "metadata": {
        "id": "rRoghwoOilff"
      },
      "source": [
        "### Exercise 8 - combine the two v2 dataframes\n",
        "\n",
        "Combine `county_level_df_v2` and `state_level_df_v2` to create a new dataframe called **income_df_v3**.  The join type should be 'inner' and ignore_index should be True"
      ]
    },
    {
      "cell_type": "code",
      "metadata": {
        "id": "Ppy_ZLUgq0cv",
        "colab": {
          "base_uri": "https://localhost:8080/"
        },
        "outputId": "18dfba6f-c56b-485e-a12f-ab7b38b82576"
      },
      "source": [
        "import pandas as pd\n",
        "import numpy as np\n",
        "\n",
        "def clean_state(df):\n",
        "  # convert the values in the Pop column to numbers of 1000s from actual numbers (rounded)\n",
        "  df['Pop'] = (df['Pop']/1000).round()\n",
        "  # convert the values in the 'Pop' column to int64\n",
        "  df['Pop'] = df['Pop'].astype(int)\n",
        "  return df\n",
        "\n",
        "def clean_county(df):\n",
        "  # Add a new column called 'Pop' to the county_level_df dataframe\n",
        "  df['Pop'] = df['Population']\n",
        "  # Drop the 'Population' column \n",
        "  df.drop('Population', axis=1, inplace=True)\n",
        "  return df\n",
        "\n",
        "def combine_cleaned_df():\n",
        "  excel_url = 'https://github.com/futureCodersSE/working-with-data/blob/main/Data%20sets/Income-Data.xlsx?raw=true'\n",
        "  \n",
        "  county_level_df = pd.read_excel(excel_url, sheet_name='county-level')\n",
        "  state_level_df = pd.read_excel(excel_url, sheet_name='state-level')\n",
        "\n",
        "  # Clean county_level_df\n",
        "  clean_county(county_level_df)\n",
        "  \n",
        "  # Cleanup state_level_df, just checking if df is gonna work\n",
        "  clean_state(state_level_df)\n",
        "\n",
        "  # Combine two df\n",
        "  df_to_concat = [county_level_df, state_level_df]\n",
        "  income_df_v3 = pd.concat(df_to_concat, ignore_index=True, join='inner')\n",
        "  # Just checking if Pop NaN disappeared or not\n",
        "  print(income_df_v3.info())\n",
        "  print(income_df_v3['Pop'])\n",
        " \n",
        "combine_cleaned_df()"
      ],
      "execution_count": 37,
      "outputs": [
        {
          "output_type": "stream",
          "text": [
            "<class 'pandas.core.frame.DataFrame'>\n",
            "RangeIndex: 23 entries, 0 to 22\n",
            "Data columns (total 4 columns):\n",
            " #   Column  Non-Null Count  Dtype \n",
            "---  ------  --------------  ----- \n",
            " 0   State   23 non-null     object\n",
            " 1   Age     23 non-null     int64 \n",
            " 2   Income  23 non-null     int64 \n",
            " 3   Pop     23 non-null     int64 \n",
            "dtypes: int64(3), object(1)\n",
            "memory usage: 864.0+ bytes\n",
            "None\n",
            "0     72\n",
            "1     33\n",
            "2     25\n",
            "3     54\n",
            "4     11\n",
            "5     28\n",
            "6     82\n",
            "7      5\n",
            "8     61\n",
            "9      5\n",
            "10    98\n",
            "11    64\n",
            "12    36\n",
            "13    24\n",
            "14    34\n",
            "15    89\n",
            "16    21\n",
            "17    21\n",
            "18    24\n",
            "19    10\n",
            "20     5\n",
            "21    30\n",
            "22    18\n",
            "Name: Pop, dtype: int64\n"
          ],
          "name": "stdout"
        }
      ]
    },
    {
      "cell_type": "markdown",
      "metadata": {
        "id": "y63N_gr2sHI2"
      },
      "source": [
        "###  Exercise 9 - create a function that does all the wrangling\n",
        "\n",
        "Create a function called **get_income_df()** which reads the three data sheets, creates the new versions of `county_level_df` and `state_level_df` and combines the new versions.\n",
        "\n",
        "This function should:\n",
        "\n",
        "*  read the three sheets into the dataframes `county_level_df`, `state_level_df` and `income_new_df`\n",
        "*  clean up the Population column of `county_level_df` so that it has the name Pop\n",
        "*  clean up the Pop column of `state_level_df` so that it contains values that are whole numbers of 1000s\n",
        "*  combine `county_level_df` and `state_level_df` with join='inner', ignoring index\n",
        "*  append income_new_df to the combined dataframe  \n",
        "*  SORT the final dataframe on Income in descending order\n",
        "*  return the final dataframe\n",
        "\n",
        "**Test output**:  \n",
        "dataframe shape = (33, 4)   \n",
        "first row = 10\tMD\t25\t73\t98     \n",
        "last row = 7\tTX\t40\t75\t5\n",
        "\n"
      ]
    },
    {
      "cell_type": "code",
      "metadata": {
        "id": "hIE8uGK1t50_",
        "colab": {
          "base_uri": "https://localhost:8080/"
        },
        "outputId": "cc2063da-e6c1-422c-f9df-a4c9ac5aa941"
      },
      "source": [
        "import pandas as pd\n",
        "\n",
        "def clean_state(df):\n",
        "  # convert the values in the Pop column to numbers of 1000s from actual numbers (rounded)\n",
        "  df['Pop'] = (df['Pop']/1000).round()\n",
        "  # convert the values in the 'Pop' column to int64\n",
        "  df['Pop'] = df['Pop'].astype(int)\n",
        "  return df\n",
        "\n",
        "def clean_county(df):\n",
        "  # Add a new column called 'Pop' to the county_level_df dataframe\n",
        "  df['Pop'] = df['Population']\n",
        "  # Drop the 'Population' column \n",
        "  df.drop('Population', axis=1, inplace=True)\n",
        "  return df\n",
        "\n",
        "def get_income_df():\n",
        "  excel_url = 'https://github.com/futureCodersSE/working-with-data/blob/main/Data%20sets/Income-Data.xlsx?raw=true'\n",
        "  \n",
        "  # 1. Read the three sheets into the dataframes\n",
        "  county_level_df = pd.read_excel(excel_url, sheet_name='county-level')\n",
        "  state_level_df = pd.read_excel(excel_url, sheet_name='state-level')\n",
        "  income_new_df = pd.read_excel(excel_url, sheet_name='income')\n",
        "\n",
        "  # 2. Cleanup Population column\n",
        "  clean_county(county_level_df)\n",
        "  \n",
        "  # 3. Cleanup Pop column\n",
        "  clean_state(state_level_df)\n",
        "\n",
        "  # 4. Combine two df\n",
        "  df_to_concat = [county_level_df, state_level_df]\n",
        "  county_state_combined_df = pd.concat(df_to_concat, ignore_index=True, join='inner')\n",
        "  \n",
        "  # 5. Append income_new_df to the combined dataframe\n",
        "  county_state_income_combined_df = county_state_combined_df.append(income_new_df, ignore_index=True)\n",
        "  # FIXME To check Test Output data as it does not match my answer\n",
        "  print(f'Printing index 10 and 7')\n",
        "  print(county_state_income_combined_df.iloc[[10,7]])\n",
        "\n",
        "  # Data from my function\n",
        "  print(f'Printing index 15 and 8')\n",
        "  print(county_state_income_combined_df.iloc[[15,8]])\n",
        "\n",
        "  # 6. Sort the final dataframe on Income in descending order\n",
        "  county_state_income_combined_df.sort_values(by='Income', ascending=False, inplace=True)\n",
        "  \n",
        "  #return the final dataframe\n",
        "  print(county_state_income_combined_df.shape)\n",
        "  # FIXME Test Output does not seem correct?\n",
        "  print(county_state_income_combined_df.head(1))\n",
        "  print(county_state_income_combined_df.tail(1))\n",
        " \n",
        "get_income_df()"
      ],
      "execution_count": 49,
      "outputs": [
        {
          "output_type": "stream",
          "text": [
            "Printing index 10 and 7\n",
            "   State  Age  Income  Pop\n",
            "10    MD   25      73   98\n",
            "7     TX   40      75    5\n",
            "Printing index 15 and 8\n",
            "   State  Age  Income  Pop\n",
            "15    MD   22      81   89\n",
            "8     MD   27      22   61\n",
            "(33, 4)\n",
            "   State  Age  Income  Pop\n",
            "15    MD   22      81   89\n",
            "  State  Age  Income  Pop\n",
            "8    MD   27      22   61\n"
          ],
          "name": "stdout"
        }
      ]
    },
    {
      "cell_type": "markdown",
      "metadata": {
        "id": "giXsXFPq14Lm"
      },
      "source": [
        "### Exercise 10 - group by state and calculate statistics\n",
        "\n",
        "Run the function get_income_df() and store the result in a new dataframe called **income_df**.\n",
        "\n",
        "Group income_df by State and calculate some statistics on the groups.\n",
        "\n",
        "Add a description, in the cell below, of what the statistics show and why in the text box."
      ]
    },
    {
      "cell_type": "markdown",
      "metadata": {
        "id": "PBt8j7CQ558j"
      },
      "source": [
        ""
      ]
    },
    {
      "cell_type": "code",
      "metadata": {
        "id": "Ou9dt0MR56S3",
        "colab": {
          "base_uri": "https://localhost:8080/"
        },
        "outputId": "9482024f-42e2-4753-f530-fc6bfa28d76b"
      },
      "source": [
        "import pandas as pd\n",
        "\n",
        "def clean_state(df):\n",
        "  # convert the values in the Pop column to numbers of 1000s from actual numbers (rounded)\n",
        "  df['Pop'] = (df['Pop']/1000).round()\n",
        "  # convert the values in the 'Pop' column to int64\n",
        "  df['Pop'] = df['Pop'].astype(int)\n",
        "  return df\n",
        "\n",
        "def clean_county(df):\n",
        "  # Add a new column called 'Pop' to the county_level_df dataframe\n",
        "  df['Pop'] = df['Population']\n",
        "  # Drop the 'Population' column \n",
        "  df.drop('Population', axis=1, inplace=True)\n",
        "  return df\n",
        "\n",
        "def get_income_df():\n",
        "  excel_url = 'https://github.com/futureCodersSE/working-with-data/blob/main/Data%20sets/Income-Data.xlsx?raw=true'\n",
        "  \n",
        "  # 1. Read the three sheets into the dataframes\n",
        "  county_level_df = pd.read_excel(excel_url, sheet_name='county-level')\n",
        "  state_level_df = pd.read_excel(excel_url, sheet_name='state-level')\n",
        "  income_new_df = pd.read_excel(excel_url, sheet_name='income')\n",
        "\n",
        "  # 2. Cleanup Population column\n",
        "  clean_county(county_level_df)\n",
        "  \n",
        "  # 3. Cleanup Pop column\n",
        "  clean_state(state_level_df)\n",
        "\n",
        "  # 4. Combine two df\n",
        "  df_to_concat = [county_level_df, state_level_df]\n",
        "  county_state_combined_df = pd.concat(df_to_concat, ignore_index=True, join='inner')\n",
        "  \n",
        "  # 5. Append income_df to the combined dataframe\n",
        "  income_df = county_state_combined_df.append(income_new_df, ignore_index=True)\n",
        "  return income_df\n",
        "\n",
        "def calculate_stat():\n",
        "  # 1. Run the function get_income_df() and store the result in a new dataframe called income_df.\n",
        "  income_df = get_income_df()\n",
        "\n",
        "  # 2. Group income_df by State and calculate some statistics on the groups.\n",
        "  # Just to see what kinda data is in State?\n",
        "  #for i in income_df['State'].unique():\n",
        "  #  print(i)\n",
        "    \n",
        "  #print(income_df['State'].value_counts())\n",
        "\n",
        "  # This prints all cells belonging to each State\n",
        "  #for name, group in income_df.groupby('State'):\n",
        "  #  print(name, group)\n",
        "  \n",
        "  df_groupby_state = income_df.groupby('State')\n",
        "  #for state, frame in df_groupby_state:\n",
        "  #  print(f\"First 2 entries for {state!r}\")\n",
        "  #  print(\"------------------------\")\n",
        "   # print(frame.head(2), end=\"\\n\\n\")\n",
        "\n",
        "  # To get a particular group\n",
        "  #print(df_groupby_state.get_group('TX'))\n",
        "\n",
        "  #for state, frame in df_groupby_state:\n",
        "  #  print(f\"Average age for {state!r}\")\n",
        "  #  print(\"------------------------\")\n",
        "  #  print(frame['Age'].mean(), end=\"\\n\\n\")\n",
        "\n",
        "  #print(df_groupby_state.describe())\n",
        "\n",
        "  # To get an overview of stats per state\n",
        "  #for state, frame in df_groupby_state:\n",
        "  #  print(f\"Average age for {state!r}\")\n",
        "  #  print(\"------------------------\")\n",
        "  #  print(frame.describe(), end=\"\\n\\n\")\n",
        "\n",
        "  state_corr = df_groupby_state.corr()\n",
        "  print(state_corr)\n",
        "  print(state_corr.describe())\n",
        "\n",
        "\n",
        "  # 3. Add a description, in the cell below, of what the statistics show and why in the text box.\n",
        "  \n",
        "\n",
        "\n",
        "calculate_stat()\n"
      ],
      "execution_count": 65,
      "outputs": [
        {
          "output_type": "stream",
          "text": [
            "                   Age    Income       Pop\n",
            "State                                     \n",
            "CA    Age     1.000000 -0.840996  0.838628\n",
            "      Income -0.840996  1.000000 -0.999990\n",
            "      Pop     0.838628 -0.999990  1.000000\n",
            "IN    Age     1.000000 -1.000000 -0.458957\n",
            "      Income -1.000000  1.000000  0.458957\n",
            "      Pop    -0.458957  0.458957  1.000000\n",
            "MD    Age     1.000000 -0.429623 -0.054196\n",
            "      Income -0.429623  1.000000  0.075288\n",
            "      Pop    -0.054196  0.075288  1.000000\n",
            "NY    Age     1.000000 -0.500000  0.155543\n",
            "      Income -0.500000  1.000000  0.777714\n",
            "      Pop     0.155543  0.777714  1.000000\n",
            "TX    Age     1.000000  0.092481 -0.121098\n",
            "      Income  0.092481  1.000000  0.353424\n",
            "      Pop    -0.121098  0.353424  1.000000\n",
            "             Age     Income        Pop\n",
            "count  15.000000  15.000000  15.000000\n",
            "mean    0.178785   0.199150   0.401687\n",
            "std     0.738080   0.779264   0.625727\n",
            "min    -1.000000  -1.000000  -0.999990\n",
            "25%    -0.444290  -0.464812   0.010546\n",
            "50%     0.092481   0.353424   0.458957\n",
            "75%     1.000000   1.000000   1.000000\n",
            "max     1.000000   1.000000   1.000000\n"
          ],
          "name": "stdout"
        }
      ]
    }
  ]
}