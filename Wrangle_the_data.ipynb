{
  "nbformat": 4,
  "nbformat_minor": 0,
  "metadata": {
    "colab": {
      "name": "Wrangle-the-data.ipynb",
      "provenance": [],
      "collapsed_sections": [],
      "toc_visible": true,
      "include_colab_link": true
    },
    "kernelspec": {
      "name": "python3",
      "display_name": "Python 3"
    },
    "language_info": {
      "name": "python"
    }
  },
  "cells": [
    {
      "cell_type": "markdown",
      "metadata": {
        "id": "view-in-github",
        "colab_type": "text"
      },
      "source": [
        "<a href=\"https://colab.research.google.com/github/njaincode/python_for_data_science/blob/main/Wrangle_the_data.ipynb\" target=\"_parent\"><img src=\"https://colab.research.google.com/assets/colab-badge.svg\" alt=\"Open In Colab\"/></a>"
      ]
    },
    {
      "cell_type": "markdown",
      "metadata": {
        "id": "BKBQIxC4YPKX"
      },
      "source": [
        "# Merging dataframes, creating new columns, replacing with default or correctly formatted values\n",
        "---\n",
        "\n",
        "## Merging dataframes\n",
        "\n",
        "We often want to use data from a set of different data files, or a set of dataframes we have prepared, to combine into one dataframe.\n",
        "\n",
        "### To merge two dataframes together when both dataframes have column headings in common\n",
        "\n",
        "If `df1` and `df2` have some column headings in common, to combine the two into one dataframe we use:  \n",
        "\n",
        "`pd.concat([dataframes to combine])`\n",
        "\n",
        "This will create a new dataframe with all columns from the original two dataframes, which we can store in a new variable for later use.  Missing values are filled with null values. \n",
        "\n",
        "If we want only the column headings that appear in both tables, we can use join='inner':\n",
        "\n",
        "`pd.concat([dataframes to combine], join='inner')` \n",
        "\n",
        "We may also need to refactor the indexing, where two tables are indexed from 0 upwards, adding the two tables together will result in multiple occurences of the same index.  This can be overcome by using ignore_index=True:\n",
        "\n",
        "`pd.concat([dataframes to combine], join='inner', ignore_index=True)`\n",
        "\n",
        "\n"
      ]
    },
    {
      "cell_type": "markdown",
      "metadata": {
        "id": "g0mUEA5ugGyJ"
      },
      "source": [
        "### Exercise 1 - look at the data\n",
        "\n",
        "The Excel file at this URL https://github.com/futureCodersSE/working-with-data/blob/main/Data%20sets/Income-Data.xlsx?raw=true contains TWO data sheets named county-level and state-level.  \n",
        "\n",
        "In the code cell below, read the county-level sheet into a dataframe called county_level_df and display the contents to see what it looks like.\n",
        "\n",
        "Then, add more code to read the state-level sheet into a dataframe called state_level_df and display the contents to see what this one looks like."
      ]
    },
    {
      "cell_type": "code",
      "metadata": {
        "id": "s6qHNDn-YN0i",
        "colab": {
          "base_uri": "https://localhost:8080/"
        },
        "outputId": "4b682933-2303-4c31-c8d8-4cdfdc65ae60"
      },
      "source": [
        "import pandas as pd\n",
        "\n",
        "def read_dataframes():\n",
        "  excel_url = 'https://github.com/futureCodersSE/working-with-data/blob/main/Data%20sets/Income-Data.xlsx?raw=true'\n",
        "  \n",
        "  county_level_df = pd.read_excel(excel_url, sheet_name='county-level')\n",
        "  print(county_level_df.info())\n",
        "\n",
        "  state_level_df = pd.read_excel(excel_url, sheet_name='state-level')\n",
        "  print(state_level_df.info())\n",
        "  \n",
        "read_dataframes()\n",
        "      "
      ],
      "execution_count": 2,
      "outputs": [
        {
          "output_type": "stream",
          "text": [
            "<class 'pandas.core.frame.DataFrame'>\n",
            "RangeIndex: 18 entries, 0 to 17\n",
            "Data columns (total 5 columns):\n",
            " #   Column      Non-Null Count  Dtype \n",
            "---  ------      --------------  ----- \n",
            " 0   State       18 non-null     object\n",
            " 1   County      18 non-null     int64 \n",
            " 2   Population  18 non-null     int64 \n",
            " 3   Age         18 non-null     int64 \n",
            " 4   Income      18 non-null     int64 \n",
            "dtypes: int64(4), object(1)\n",
            "memory usage: 848.0+ bytes\n",
            "None\n",
            "<class 'pandas.core.frame.DataFrame'>\n",
            "RangeIndex: 5 entries, 0 to 4\n",
            "Data columns (total 5 columns):\n",
            " #   Column     Non-Null Count  Dtype  \n",
            "---  ------     --------------  -----  \n",
            " 0   State      5 non-null      object \n",
            " 1   Pop        5 non-null      int64  \n",
            " 2   Age        5 non-null      int64  \n",
            " 3   Income     5 non-null      int64  \n",
            " 4   Education  5 non-null      float64\n",
            "dtypes: float64(1), int64(3), object(1)\n",
            "memory usage: 328.0+ bytes\n",
            "None\n"
          ],
          "name": "stdout"
        }
      ]
    },
    {
      "cell_type": "markdown",
      "metadata": {
        "id": "Ai3WPgDgg0Z-"
      },
      "source": [
        "### Exercise 2 - combine the two data sets\n",
        "\n",
        "Use `pd.concat([list of dataframes])` to combine the two dataframes into a new dataframe called **income_df**, filling missing values with null values.  \n",
        "\n",
        "**Test output**:  \n",
        "income_df.shape will be (23, 7)  \n",
        "The Pop and Education columns will contain NaN for the first 18 rows  \n",
        "The County and Population columns will contain NaN for the last 5 rows"
      ]
    },
    {
      "cell_type": "code",
      "metadata": {
        "id": "cNRmOB4Yhzdf",
        "colab": {
          "base_uri": "https://localhost:8080/"
        },
        "outputId": "a75c2e06-c110-4df0-f20a-acaad1c82ed0"
      },
      "source": [
        "import pandas as pd\n",
        "\n",
        "def combine_dataframes():\n",
        "  excel_url = 'https://github.com/futureCodersSE/working-with-data/blob/main/Data%20sets/Income-Data.xlsx?raw=true'\n",
        "  \n",
        "  county_level_df = pd.read_excel(excel_url, sheet_name='county-level')\n",
        "  state_level_df = pd.read_excel(excel_url, sheet_name='state-level')\n",
        "\n",
        "  #combine the two dataframes into a new dataframe\n",
        "  df_to_concat = [county_level_df, state_level_df]\n",
        "  income_df = pd.concat(df_to_concat, ignore_index=False)\n",
        "  # county_level_df has 5 col, 18 rows. \n",
        "  # state_level_df has 5 col, 5 rows\n",
        "  # Same cols - State, Age and Income, diff cols - County, Population, Pop, Education\n",
        "  print(income_df.info())\n",
        "\n",
        "  # Check Pop and Education\n",
        "  print(f'Pop,Education = \\n {income_df[[\"Pop\",\"Education\"]].head(19)}')\n",
        "  \n",
        "  # Check County and Population \n",
        "  print(f'County,Population = \\n {income_df[[\"County\",\"Population\"]].tail(6)}')\n",
        "  \n",
        "combine_dataframes()"
      ],
      "execution_count": 9,
      "outputs": [
        {
          "output_type": "stream",
          "text": [
            "<class 'pandas.core.frame.DataFrame'>\n",
            "Int64Index: 23 entries, 0 to 4\n",
            "Data columns (total 7 columns):\n",
            " #   Column      Non-Null Count  Dtype  \n",
            "---  ------      --------------  -----  \n",
            " 0   State       23 non-null     object \n",
            " 1   County      18 non-null     float64\n",
            " 2   Population  18 non-null     float64\n",
            " 3   Age         23 non-null     int64  \n",
            " 4   Income      23 non-null     int64  \n",
            " 5   Pop         5 non-null      float64\n",
            " 6   Education   5 non-null      float64\n",
            "dtypes: float64(4), int64(2), object(1)\n",
            "memory usage: 1.4+ KB\n",
            "None\n",
            "Pop,Education = \n",
            "         Pop  Education\n",
            "0       NaN        NaN\n",
            "1       NaN        NaN\n",
            "2       NaN        NaN\n",
            "3       NaN        NaN\n",
            "4       NaN        NaN\n",
            "5       NaN        NaN\n",
            "6       NaN        NaN\n",
            "7       NaN        NaN\n",
            "8       NaN        NaN\n",
            "9       NaN        NaN\n",
            "10      NaN        NaN\n",
            "11      NaN        NaN\n",
            "12      NaN        NaN\n",
            "13      NaN        NaN\n",
            "14      NaN        NaN\n",
            "15      NaN        NaN\n",
            "16      NaN        NaN\n",
            "17      NaN        NaN\n",
            "0   23543.0       10.2\n",
            "County,Population = \n",
            "     County  Population\n",
            "17     7.0        21.0\n",
            "0      NaN         NaN\n",
            "1      NaN         NaN\n",
            "2      NaN         NaN\n",
            "3      NaN         NaN\n",
            "4      NaN         NaN\n"
          ],
          "name": "stdout"
        }
      ]
    },
    {
      "cell_type": "markdown",
      "metadata": {
        "id": "aekH_ewx7FM3"
      },
      "source": [
        "### Exercise 3 - ignoring index to get a new indexing system\n",
        "---\n",
        "\n",
        "All rows in each dataframe are indexed from 0 to one less than the number of rows.  You will have noticed that the concatenation in the previous exercise has kept the indexing from the individual tables.  \n",
        "\n",
        "If we are making a new table it may make sense to create a new set of indices, from 0 to one less than the length of the new table.   Do this by adding an extra paramater ignore_index=True.  ignore_index is False by default and all original indices are kept.\n",
        "\n",
        "Combine the dataframes `county_level_df` and `state_level_df` into a new dataframe called `income_df`, adding the parameter `ignore_index=True`. "
      ]
    },
    {
      "cell_type": "code",
      "metadata": {
        "id": "Z5ABjwed8Rpo",
        "colab": {
          "base_uri": "https://localhost:8080/"
        },
        "outputId": "3a5b9b2d-8ad6-41cd-de0b-9b44412e1e16"
      },
      "source": [
        "import pandas as pd\n",
        "\n",
        "def combine_dataframes_cts_idx():\n",
        "  excel_url = 'https://github.com/futureCodersSE/working-with-data/blob/main/Data%20sets/Income-Data.xlsx?raw=true'\n",
        "  \n",
        "  county_level_df = pd.read_excel(excel_url, sheet_name='county-level')\n",
        "  state_level_df = pd.read_excel(excel_url, sheet_name='state-level')\n",
        "\n",
        "  #combine the two dataframes into a new dataframe\n",
        "  df_to_concat = [county_level_df, state_level_df]\n",
        "  income_df = pd.concat(df_to_concat, ignore_index=True)\n",
        "  \n",
        "  print(income_df.info())\n",
        "\n",
        "  # Index[18] should appear\n",
        "  print(f'Pop,Education = \\n {income_df[[\"Pop\",\"Education\"]].head(19)}')\n",
        "     \n",
        "combine_dataframes_cts_idx()"
      ],
      "execution_count": 10,
      "outputs": [
        {
          "output_type": "stream",
          "text": [
            "<class 'pandas.core.frame.DataFrame'>\n",
            "RangeIndex: 23 entries, 0 to 22\n",
            "Data columns (total 7 columns):\n",
            " #   Column      Non-Null Count  Dtype  \n",
            "---  ------      --------------  -----  \n",
            " 0   State       23 non-null     object \n",
            " 1   County      18 non-null     float64\n",
            " 2   Population  18 non-null     float64\n",
            " 3   Age         23 non-null     int64  \n",
            " 4   Income      23 non-null     int64  \n",
            " 5   Pop         5 non-null      float64\n",
            " 6   Education   5 non-null      float64\n",
            "dtypes: float64(4), int64(2), object(1)\n",
            "memory usage: 1.4+ KB\n",
            "None\n",
            "Pop,Education = \n",
            "         Pop  Education\n",
            "0       NaN        NaN\n",
            "1       NaN        NaN\n",
            "2       NaN        NaN\n",
            "3       NaN        NaN\n",
            "4       NaN        NaN\n",
            "5       NaN        NaN\n",
            "6       NaN        NaN\n",
            "7       NaN        NaN\n",
            "8       NaN        NaN\n",
            "9       NaN        NaN\n",
            "10      NaN        NaN\n",
            "11      NaN        NaN\n",
            "12      NaN        NaN\n",
            "13      NaN        NaN\n",
            "14      NaN        NaN\n",
            "15      NaN        NaN\n",
            "16      NaN        NaN\n",
            "17      NaN        NaN\n",
            "18  23543.0       10.2\n"
          ],
          "name": "stdout"
        }
      ]
    },
    {
      "cell_type": "markdown",
      "metadata": {
        "id": "QOEffcMkhR_c"
      },
      "source": [
        "### Exercise 4 - combine just the columns which are common to both\n",
        "\n",
        "Add an extra parameter, `join='inner'` and combine the dataframes `county_level_df` and `state_level_df` into a new dataframe called `income_df`  \n",
        "\n",
        "**Test output**:  \n",
        "income_df.shape will be (23, 3)   \n",
        "Column headings will be State, Age, Income  \n",
        "There will be 23 rows indexed 0 to 22  \n"
      ]
    },
    {
      "cell_type": "code",
      "metadata": {
        "id": "hd1Ca5lAjERH",
        "colab": {
          "base_uri": "https://localhost:8080/"
        },
        "outputId": "d23fc9b0-2aa0-487c-bb2f-6f96549c51ca"
      },
      "source": [
        "import pandas as pd\n",
        "\n",
        "def combine_cols():\n",
        "  excel_url = 'https://github.com/futureCodersSE/working-with-data/blob/main/Data%20sets/Income-Data.xlsx?raw=true'\n",
        "  \n",
        "  county_level_df = pd.read_excel(excel_url, sheet_name='county-level')\n",
        "  state_level_df = pd.read_excel(excel_url, sheet_name='state-level')\n",
        "\n",
        "  #combine the two dataframes into a new dataframe\n",
        "  df_to_concat = [county_level_df, state_level_df]\n",
        "  income_df = pd.concat(df_to_concat, ignore_index=True, join='inner')\n",
        "  \n",
        "  print(income_df.info())\n",
        "  total_rows = len(income_df.axes[0])\n",
        "  total_col = len(income_df.axes[1])\n",
        "  print(len(income_df))\n",
        "  print(total_rows, total_col )\n",
        "      \n",
        "combine_cols()"
      ],
      "execution_count": 13,
      "outputs": [
        {
          "output_type": "stream",
          "text": [
            "<class 'pandas.core.frame.DataFrame'>\n",
            "RangeIndex: 23 entries, 0 to 22\n",
            "Data columns (total 3 columns):\n",
            " #   Column  Non-Null Count  Dtype \n",
            "---  ------  --------------  ----- \n",
            " 0   State   23 non-null     object\n",
            " 1   Age     23 non-null     int64 \n",
            " 2   Income  23 non-null     int64 \n",
            "dtypes: int64(2), object(1)\n",
            "memory usage: 680.0+ bytes\n",
            "None\n",
            "23\n",
            "23 3\n"
          ],
          "name": "stdout"
        }
      ]
    },
    {
      "cell_type": "markdown",
      "metadata": {
        "id": "4QAJS3TJCz_p"
      },
      "source": [
        "# Appending rows to a dataframe\n",
        "\n",
        "Where two dataframes have matching columns, we can append one to the other to add the records from one onto the end of the other.\n",
        "\n",
        "We do this using dataframe.append()\n",
        "\n",
        "income_2 = income.append()"
      ]
    },
    {
      "cell_type": "markdown",
      "metadata": {
        "id": "Cwarv13blWyg"
      },
      "source": [
        "### Exercise 5 - add new rows to the end of the income dataframe\n",
        "\n",
        "The sheet `income` in the Excel data file has 10 further records showing State, Age and Income only, so this table matches the income dataframe exactly.\n",
        "\n",
        "Read the data from sheet_name `income` in the same Excel data file into a new dataframe called income_new.  \n",
        "\n",
        "Display the data so that you can inspect it.  \n",
        "\n",
        "Now append this dataframe to the `income` dataframe to form a new dataframe called **income_df_v2**.  Use the ignore_index=True parameter to reindex.  \n",
        "\n",
        "**Test output**:  \n",
        "income_df_v2.shape = (33, 4)  \n",
        "Rows are indexed from 0 to 32  "
      ]
    },
    {
      "cell_type": "code",
      "metadata": {
        "id": "Exik-fYQ_ORy",
        "colab": {
          "base_uri": "https://localhost:8080/"
        },
        "outputId": "365d6b77-0bfc-4bb2-8ba7-ce28f48e03ad"
      },
      "source": [
        "import pandas as pd\n",
        "\n",
        "def append_data():\n",
        "  excel_url = 'https://github.com/futureCodersSE/working-with-data/blob/main/Data%20sets/Income-Data.xlsx?raw=true'\n",
        "  \n",
        "  county_level_df = pd.read_excel(excel_url, sheet_name='county-level')\n",
        "  state_level_df = pd.read_excel(excel_url, sheet_name='state-level')\n",
        "  \n",
        "  #combine the two dataframes into a new dataframe with same column names\n",
        "  df_to_concat = [county_level_df, state_level_df]\n",
        "  income_df = pd.concat(df_to_concat, ignore_index=True, join='inner')\n",
        "  print(income_df.info())\n",
        "\n",
        "  # Read income data\n",
        "  income_new_df = pd.read_excel(excel_url, sheet_name='income')\n",
        "  # The col names should match income_df, it has extra col Pop\n",
        "  print(income_new_df.info())\n",
        "\n",
        "  #Concat gives the flexibility to join based on the axis( all rows or all columns)\n",
        "  #Append is the specific case(axis=0, join='outer') of concat. Does not modify the original df\n",
        "  #To try - Join is based on the indexes (set by set_index) on how variable =['left','right','inner','couter']\n",
        "  #To try - Merge is based on any particular column each of the two dataframes, this columns are variables on like 'left_on', 'right_on', 'on'\n",
        "\n",
        "  income_df_v2 = income_df.append(income_new_df, ignore_index=True)\n",
        "  print(income_df_v2.info())\n",
        " \n",
        "       \n",
        "append_data()"
      ],
      "execution_count": 15,
      "outputs": [
        {
          "output_type": "stream",
          "text": [
            "<class 'pandas.core.frame.DataFrame'>\n",
            "RangeIndex: 23 entries, 0 to 22\n",
            "Data columns (total 3 columns):\n",
            " #   Column  Non-Null Count  Dtype \n",
            "---  ------  --------------  ----- \n",
            " 0   State   23 non-null     object\n",
            " 1   Age     23 non-null     int64 \n",
            " 2   Income  23 non-null     int64 \n",
            "dtypes: int64(2), object(1)\n",
            "memory usage: 680.0+ bytes\n",
            "None\n",
            "<class 'pandas.core.frame.DataFrame'>\n",
            "RangeIndex: 10 entries, 0 to 9\n",
            "Data columns (total 4 columns):\n",
            " #   Column  Non-Null Count  Dtype \n",
            "---  ------  --------------  ----- \n",
            " 0   State   10 non-null     object\n",
            " 1   Age     10 non-null     int64 \n",
            " 2   Income  10 non-null     int64 \n",
            " 3   Pop     10 non-null     int64 \n",
            "dtypes: int64(3), object(1)\n",
            "memory usage: 448.0+ bytes\n",
            "None\n",
            "<class 'pandas.core.frame.DataFrame'>\n",
            "RangeIndex: 33 entries, 0 to 32\n",
            "Data columns (total 4 columns):\n",
            " #   Column  Non-Null Count  Dtype  \n",
            "---  ------  --------------  -----  \n",
            " 0   State   33 non-null     object \n",
            " 1   Age     33 non-null     int64  \n",
            " 2   Income  33 non-null     int64  \n",
            " 3   Pop     10 non-null     float64\n",
            "dtypes: float64(1), int64(2), object(1)\n",
            "memory usage: 1.2+ KB\n",
            "None\n"
          ],
          "name": "stdout"
        }
      ]
    },
    {
      "cell_type": "markdown",
      "metadata": {
        "id": "X6W6V8P9Eo2A"
      },
      "source": [
        "### Exercise 6 - Create a new Pop column in county_level_df\n",
        "\n",
        "Looking at the tables country_level_df and state_level_df, each has a column containing data on population.  One column is headed *Population* and the other is headed *Pop*.  Ideally these would be merged into one column and this would minimise the number of NaN entries.  \n",
        "\n",
        "*  Add a new column called '`Pop`' to the `county_level_df` dataframe which contains a copy of all the values in the '`Population`' column  (`df['new_name'] = df['existing_name']`)  \n",
        "*  Drop the 'Population' column (`df.drop(column name), axis=1`) from `county_level_df` and store the result in a new dataframe called **county_level_df_v2**\n",
        "*  display the new dataframe"
      ]
    },
    {
      "cell_type": "code",
      "metadata": {
        "id": "Yb_FWSLbG_zo",
        "colab": {
          "base_uri": "https://localhost:8080/"
        },
        "outputId": "d66e8b72-1d49-4e94-ddfc-4ae2e112fca8"
      },
      "source": [
        "import pandas as pd\n",
        "\n",
        "def merge_diff_col():\n",
        "  excel_url = 'https://github.com/futureCodersSE/working-with-data/blob/main/Data%20sets/Income-Data.xlsx?raw=true'\n",
        "  \n",
        "  county_level_df = pd.read_excel(excel_url, sheet_name='county-level')\n",
        "  \n",
        "  # Add a new column called 'Pop' to the county_level_df dataframe which contains a copy of all the values in the 'Population' column\n",
        "  county_level_df['Pop'] = county_level_df['Population']\n",
        "  # Should have 6 col\n",
        "  print(county_level_df.info())\n",
        "\n",
        "  # Drop the 'Population' column (df.drop(column name), axis=1) from county_level_df\n",
        "  #county_level_df_v2 = county_level_df.drop('Population', axis=1)\n",
        "  # Checking if inplace works as well\n",
        "  county_level_df.drop('Population', axis=1, inplace=True)\n",
        "  # Should have 5 col\n",
        "  #print(county_level_df_v2.info())\n",
        "  print(county_level_df.info())\n",
        "  print(county_level_df['Pop'].head(5))\n",
        "\n",
        "merge_diff_col()\n"
      ],
      "execution_count": 19,
      "outputs": [
        {
          "output_type": "stream",
          "text": [
            "<class 'pandas.core.frame.DataFrame'>\n",
            "RangeIndex: 18 entries, 0 to 17\n",
            "Data columns (total 6 columns):\n",
            " #   Column      Non-Null Count  Dtype \n",
            "---  ------      --------------  ----- \n",
            " 0   State       18 non-null     object\n",
            " 1   County      18 non-null     int64 \n",
            " 2   Population  18 non-null     int64 \n",
            " 3   Age         18 non-null     int64 \n",
            " 4   Income      18 non-null     int64 \n",
            " 5   Pop         18 non-null     int64 \n",
            "dtypes: int64(5), object(1)\n",
            "memory usage: 992.0+ bytes\n",
            "None\n",
            "<class 'pandas.core.frame.DataFrame'>\n",
            "RangeIndex: 18 entries, 0 to 17\n",
            "Data columns (total 5 columns):\n",
            " #   Column  Non-Null Count  Dtype \n",
            "---  ------  --------------  ----- \n",
            " 0   State   18 non-null     object\n",
            " 1   County  18 non-null     int64 \n",
            " 2   Age     18 non-null     int64 \n",
            " 3   Income  18 non-null     int64 \n",
            " 4   Pop     18 non-null     int64 \n",
            "dtypes: int64(4), object(1)\n",
            "memory usage: 848.0+ bytes\n",
            "None\n",
            "0    72\n",
            "1    33\n",
            "2    25\n",
            "3    54\n",
            "4    11\n",
            "Name: Pop, dtype: int64\n"
          ],
          "name": "stdout"
        }
      ]
    },
    {
      "cell_type": "markdown",
      "metadata": {
        "id": "d9ku407dEU_3"
      },
      "source": [
        "## Exercise 7 - clean up the format of the Pop column in state_level_df\n",
        "\n",
        "Now that both dataframes hava a Pop column, we should make the data consisent in format for both dataframes.\n",
        "\n",
        "In `county_level_df_v2` the values in the `Pop` column are in 1000s.  In `state_level_df` the values in the `Pop` column are actual numbers.  Let's convert the `state_level_df` values to 1000s for consistency.  We can do this by performing an operation on a column ( `df[column name] = df[column name] / 1000 `) \n",
        "\n",
        "*  make a copy of `state_level_df` called **state_level_df_v2** (use df.copy())\n",
        "*  convert the values in the `Pop` column of the `state_level_df_v2` dataframe to numbers of 1000s from actual numbers, rounding to whole numbers\n",
        "*  convert the values in the 'Pop' column to int64 (df[column name].astype(int))\n",
        "\n",
        "\n",
        "**Test output**:\n",
        "24, 10, 5, 30, 18, dtype: int64\n",
        "\n",
        "\n",
        "\n",
        "\n"
      ]
    },
    {
      "cell_type": "code",
      "metadata": {
        "id": "k5xM8g68N-wY",
        "colab": {
          "base_uri": "https://localhost:8080/"
        },
        "outputId": "205fa074-376d-4eeb-9030-0a1627c0f732"
      },
      "source": [
        "import pandas as pd\n",
        "import numpy as np\n",
        "\n",
        "def clean_format():\n",
        "  excel_url = 'https://github.com/futureCodersSE/working-with-data/blob/main/Data%20sets/Income-Data.xlsx?raw=true'\n",
        "  \n",
        "  county_level_df = pd.read_excel(excel_url, sheet_name='county-level')\n",
        "  state_level_df = pd.read_excel(excel_url, sheet_name='state-level')\n",
        "\n",
        "  # Add a new column called 'Pop' to the county_level_df dataframe which contains a copy of all the values in the 'Population' column\n",
        "  county_level_df['Pop'] = county_level_df['Population']\n",
        "  \n",
        "  # Drop the 'Population' column \n",
        "  county_level_df.drop('Population', axis=1, inplace=True)\n",
        "  # Just to see the data\n",
        "  print(county_level_df['Pop'].head(10))\n",
        "\n",
        "  # make a copy of state_level_df\n",
        "  state_level_df_v2 = state_level_df.copy()\n",
        "  # Just to see the data\n",
        "  print(state_level_df_v2['Pop'].head(10))\n",
        "\n",
        "  # convert the values in the Pop column to numbers of 1000s from actual numbers (rounded)\n",
        "  # You need to assign the pd.Series back to Series, there is no such thing as inplace here\n",
        "  state_level_df_v2['Pop'] = (state_level_df_v2['Pop']/1000).round()\n",
        "  \n",
        "  # convert the values in the 'Pop' column to int64 \n",
        "  state_level_df_v2['Pop'] = state_level_df_v2['Pop'].astype(int)\n",
        "  print(state_level_df_v2['Pop'].head(10))\n",
        "\n",
        "   \n",
        "clean_format()"
      ],
      "execution_count": 30,
      "outputs": [
        {
          "output_type": "stream",
          "text": [
            "0    72\n",
            "1    33\n",
            "2    25\n",
            "3    54\n",
            "4    11\n",
            "5    28\n",
            "6    82\n",
            "7     5\n",
            "8    61\n",
            "9     5\n",
            "Name: Pop, dtype: int64\n",
            "0    23543\n",
            "1    10343\n",
            "2     5231\n",
            "3    29587\n",
            "4    18142\n",
            "Name: Pop, dtype: int64\n",
            "0    24.0\n",
            "1    10.0\n",
            "2     5.0\n",
            "3    30.0\n",
            "4    18.0\n",
            "Name: Pop, dtype: float64\n",
            "0    24\n",
            "1    10\n",
            "2     5\n",
            "3    30\n",
            "4    18\n",
            "Name: Pop, dtype: int64\n"
          ],
          "name": "stdout"
        }
      ]
    },
    {
      "cell_type": "markdown",
      "metadata": {
        "id": "rRoghwoOilff"
      },
      "source": [
        "### Exercise 8 - combine the two v2 dataframes\n",
        "\n",
        "Combine `county_level_df_v2` and `state_level_df_v2` to create a new dataframe called **income_df_v3**.  The join type should be 'inner' and ignore_index should be True"
      ]
    },
    {
      "cell_type": "code",
      "metadata": {
        "id": "Ppy_ZLUgq0cv",
        "colab": {
          "base_uri": "https://localhost:8080/"
        },
        "outputId": "18dfba6f-c56b-485e-a12f-ab7b38b82576"
      },
      "source": [
        "import pandas as pd\n",
        "import numpy as np\n",
        "\n",
        "def clean_state(df):\n",
        "  # convert the values in the Pop column to numbers of 1000s from actual numbers (rounded)\n",
        "  df['Pop'] = (df['Pop']/1000).round()\n",
        "  # convert the values in the 'Pop' column to int64\n",
        "  df['Pop'] = df['Pop'].astype(int)\n",
        "  return df\n",
        "\n",
        "def clean_county(df):\n",
        "  # Add a new column called 'Pop' to the county_level_df dataframe\n",
        "  df['Pop'] = df['Population']\n",
        "  # Drop the 'Population' column \n",
        "  df.drop('Population', axis=1, inplace=True)\n",
        "  return df\n",
        "\n",
        "def combine_cleaned_df():\n",
        "  excel_url = 'https://github.com/futureCodersSE/working-with-data/blob/main/Data%20sets/Income-Data.xlsx?raw=true'\n",
        "  \n",
        "  county_level_df = pd.read_excel(excel_url, sheet_name='county-level')\n",
        "  state_level_df = pd.read_excel(excel_url, sheet_name='state-level')\n",
        "\n",
        "  # Clean county_level_df\n",
        "  clean_county(county_level_df)\n",
        "  \n",
        "  # Cleanup state_level_df, just checking if df is gonna work\n",
        "  clean_state(state_level_df)\n",
        "\n",
        "  # Combine two df\n",
        "  df_to_concat = [county_level_df, state_level_df]\n",
        "  income_df_v3 = pd.concat(df_to_concat, ignore_index=True, join='inner')\n",
        "  # Just checking if Pop NaN disappeared or not\n",
        "  print(income_df_v3.info())\n",
        "  print(income_df_v3['Pop'])\n",
        " \n",
        "combine_cleaned_df()"
      ],
      "execution_count": 37,
      "outputs": [
        {
          "output_type": "stream",
          "text": [
            "<class 'pandas.core.frame.DataFrame'>\n",
            "RangeIndex: 23 entries, 0 to 22\n",
            "Data columns (total 4 columns):\n",
            " #   Column  Non-Null Count  Dtype \n",
            "---  ------  --------------  ----- \n",
            " 0   State   23 non-null     object\n",
            " 1   Age     23 non-null     int64 \n",
            " 2   Income  23 non-null     int64 \n",
            " 3   Pop     23 non-null     int64 \n",
            "dtypes: int64(3), object(1)\n",
            "memory usage: 864.0+ bytes\n",
            "None\n",
            "0     72\n",
            "1     33\n",
            "2     25\n",
            "3     54\n",
            "4     11\n",
            "5     28\n",
            "6     82\n",
            "7      5\n",
            "8     61\n",
            "9      5\n",
            "10    98\n",
            "11    64\n",
            "12    36\n",
            "13    24\n",
            "14    34\n",
            "15    89\n",
            "16    21\n",
            "17    21\n",
            "18    24\n",
            "19    10\n",
            "20     5\n",
            "21    30\n",
            "22    18\n",
            "Name: Pop, dtype: int64\n"
          ],
          "name": "stdout"
        }
      ]
    },
    {
      "cell_type": "markdown",
      "metadata": {
        "id": "y63N_gr2sHI2"
      },
      "source": [
        "###  Exercise 9 - create a function that does all the wrangling\n",
        "\n",
        "Create a function called **get_income_df()** which reads the three data sheets, creates the new versions of `county_level_df` and `state_level_df` and combines the new versions.\n",
        "\n",
        "This function should:\n",
        "\n",
        "*  read the three sheets into the dataframes `county_level_df`, `state_level_df` and `income_new_df`\n",
        "*  clean up the Population column of `county_level_df` so that it has the name Pop\n",
        "*  clean up the Pop column of `state_level_df` so that it contains values that are whole numbers of 1000s\n",
        "*  combine `county_level_df` and `state_level_df` with join='inner', ignoring index\n",
        "*  append income_new_df to the combined dataframe  \n",
        "*  SORT the final dataframe on Income in descending order\n",
        "*  return the final dataframe\n",
        "\n",
        "**Test output**:  \n",
        "dataframe shape = (33, 4)   \n",
        "first row = 10\tMD\t25\t73\t98     \n",
        "last row = 7\tTX\t40\t75\t5\n",
        "\n"
      ]
    },
    {
      "cell_type": "code",
      "metadata": {
        "id": "hIE8uGK1t50_",
        "colab": {
          "base_uri": "https://localhost:8080/"
        },
        "outputId": "cc2063da-e6c1-422c-f9df-a4c9ac5aa941"
      },
      "source": [
        "import pandas as pd\n",
        "\n",
        "def clean_state(df):\n",
        "  # convert the values in the Pop column to numbers of 1000s from actual numbers (rounded)\n",
        "  df['Pop'] = (df['Pop']/1000).round()\n",
        "  # convert the values in the 'Pop' column to int64\n",
        "  df['Pop'] = df['Pop'].astype(int)\n",
        "  return df\n",
        "\n",
        "def clean_county(df):\n",
        "  # Add a new column called 'Pop' to the county_level_df dataframe\n",
        "  df['Pop'] = df['Population']\n",
        "  # Drop the 'Population' column \n",
        "  df.drop('Population', axis=1, inplace=True)\n",
        "  return df\n",
        "\n",
        "def get_income_df():\n",
        "  excel_url = 'https://github.com/futureCodersSE/working-with-data/blob/main/Data%20sets/Income-Data.xlsx?raw=true'\n",
        "  \n",
        "  # 1. Read the three sheets into the dataframes\n",
        "  county_level_df = pd.read_excel(excel_url, sheet_name='county-level')\n",
        "  state_level_df = pd.read_excel(excel_url, sheet_name='state-level')\n",
        "  income_new_df = pd.read_excel(excel_url, sheet_name='income')\n",
        "\n",
        "  # 2. Cleanup Population column\n",
        "  clean_county(county_level_df)\n",
        "  \n",
        "  # 3. Cleanup Pop column\n",
        "  clean_state(state_level_df)\n",
        "\n",
        "  # 4. Combine two df\n",
        "  df_to_concat = [county_level_df, state_level_df]\n",
        "  county_state_combined_df = pd.concat(df_to_concat, ignore_index=True, join='inner')\n",
        "  \n",
        "  # 5. Append income_new_df to the combined dataframe\n",
        "  county_state_income_combined_df = county_state_combined_df.append(income_new_df, ignore_index=True)\n",
        "  # FIXME To check Test Output data as it does not match my answer\n",
        "  print(f'Printing index 10 and 7')\n",
        "  print(county_state_income_combined_df.iloc[[10,7]])\n",
        "\n",
        "  # Data from my function\n",
        "  print(f'Printing index 15 and 8')\n",
        "  print(county_state_income_combined_df.iloc[[15,8]])\n",
        "\n",
        "  # 6. Sort the final dataframe on Income in descending order\n",
        "  county_state_income_combined_df.sort_values(by='Income', ascending=False, inplace=True)\n",
        "  \n",
        "  #return the final dataframe\n",
        "  print(county_state_income_combined_df.shape)\n",
        "  # FIXME Test Output does not seem correct?\n",
        "  print(county_state_income_combined_df.head(1))\n",
        "  print(county_state_income_combined_df.tail(1))\n",
        " \n",
        "get_income_df()"
      ],
      "execution_count": 49,
      "outputs": [
        {
          "output_type": "stream",
          "text": [
            "Printing index 10 and 7\n",
            "   State  Age  Income  Pop\n",
            "10    MD   25      73   98\n",
            "7     TX   40      75    5\n",
            "Printing index 15 and 8\n",
            "   State  Age  Income  Pop\n",
            "15    MD   22      81   89\n",
            "8     MD   27      22   61\n",
            "(33, 4)\n",
            "   State  Age  Income  Pop\n",
            "15    MD   22      81   89\n",
            "  State  Age  Income  Pop\n",
            "8    MD   27      22   61\n"
          ],
          "name": "stdout"
        }
      ]
    },
    {
      "cell_type": "markdown",
      "metadata": {
        "id": "giXsXFPq14Lm"
      },
      "source": [
        "### Exercise 10 - group by state and calculate statistics\n",
        "\n",
        "Run the function get_income_df() and store the result in a new dataframe called **income_df**.\n",
        "\n",
        "Group income_df by State and calculate some statistics on the groups.\n",
        "\n",
        "Add a description, in the cell below, of what the statistics show and why in the text box."
      ]
    },
    {
      "cell_type": "markdown",
      "metadata": {
        "id": "PBt8j7CQ558j"
      },
      "source": [
        "#Inference from data\n",
        "\n",
        "![image.png](data:image/png;base64,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)\n",
        "\n",
        "\n",
        "\n",
        "1.   Income per person seems to be highest in NY followed by CA\n",
        "2.   MD seems to quite populated and younger state\n",
        "3.   CA has most of its population in 30's\n",
        "4.   Income polarity seems to be higher in NY\n",
        "\n",
        "\n",
        "\n",
        "\n",
        "\n",
        "\n",
        "\n",
        " \n",
        "\n",
        "\n",
        "\n"
      ]
    },
    {
      "cell_type": "code",
      "metadata": {
        "id": "Ou9dt0MR56S3",
        "colab": {
          "base_uri": "https://localhost:8080/",
          "height": 1000
        },
        "outputId": "6412116f-b6ad-4843-aaeb-0960f247fcfb"
      },
      "source": [
        "import pandas as pd\n",
        "import matplotlib.pyplot as plt\n",
        "\n",
        "def clean_state(df):\n",
        "  # convert the values in the Pop column to numbers of 1000s from actual numbers (rounded)\n",
        "  df['Pop'] = (df['Pop']/1000).round()\n",
        "  # convert the values in the 'Pop' column to int64\n",
        "  df['Pop'] = df['Pop'].astype(int)\n",
        "  return df\n",
        "\n",
        "def clean_county(df):\n",
        "  # Add a new column called 'Pop' to the county_level_df dataframe\n",
        "  df['Pop'] = df['Population']\n",
        "  # Drop the 'Population' column \n",
        "  df.drop('Population', axis=1, inplace=True)\n",
        "  return df\n",
        "\n",
        "def get_income_df():\n",
        "  excel_url = 'https://github.com/futureCodersSE/working-with-data/blob/main/Data%20sets/Income-Data.xlsx?raw=true'\n",
        "  \n",
        "  # 1. Read the three sheets into the dataframes\n",
        "  county_level_df = pd.read_excel(excel_url, sheet_name='county-level')\n",
        "  state_level_df = pd.read_excel(excel_url, sheet_name='state-level')\n",
        "  income_new_df = pd.read_excel(excel_url, sheet_name='income')\n",
        "\n",
        "  # 2. Cleanup Population column\n",
        "  clean_county(county_level_df)\n",
        "  \n",
        "  # 3. Cleanup Pop column\n",
        "  clean_state(state_level_df)\n",
        "\n",
        "  # 4. Combine two df\n",
        "  df_to_concat = [county_level_df, state_level_df]\n",
        "  county_state_combined_df = pd.concat(df_to_concat, ignore_index=True, join='inner')\n",
        "  \n",
        "  # 5. Append income_df to the combined dataframe\n",
        "  income_df = county_state_combined_df.append(income_new_df, ignore_index=True)\n",
        "  return income_df\n",
        "\n",
        "def calculate_stat():\n",
        "  # 1. Run the function get_income_df() and store the result in a new dataframe called income_df.\n",
        "  income_df = get_income_df()\n",
        "\n",
        "  # 2. Group income_df by State and calculate some statistics on the groups.\n",
        "  # Now the index will be state names\n",
        "  df_groupby_state = income_df.groupby('State')\n",
        "\n",
        "  # To get an overview of stats per state\n",
        "  for state, frame in df_groupby_state:\n",
        "    print(f\"Average age for {state!r}\")\n",
        "    print(\"------------------------\")\n",
        "    print(frame.describe(), end=\"\\n\\n\")\n",
        "\n",
        "  df_groupby_state[['Income', 'Age', 'Pop']].mean().plot(kind='bar', title='State Comparison', ylabel='Mean values', xlabel='State', figsize=(6, 5))\n",
        "  plt.show()\n",
        "\n",
        "  # 3. Add a description, in the cell below, of what the statistics show and why in the text box.\n",
        "  # Income per person seems to be highest in NY followed by CA.\n",
        "  # MD seems to quite populated and younger state\n",
        "  # CA has most of its population in 30's. \n",
        "  # Income polarity seems to be higher in NY\n",
        "  \n",
        "\n",
        "# Please ignore this function (mainly for my learning)\n",
        "def calculate_stat1():\n",
        "  # 1. Run the function get_income_df() and store the result in a new dataframe called income_df.\n",
        "  income_df = get_income_df()\n",
        "\n",
        "  # 2. Group income_df by State and calculate some statistics on the groups.\n",
        "  # Just to see what kinda data is in State?\n",
        "  #for i in income_df['State'].unique():\n",
        "  #  print(i)\n",
        "    \n",
        "  #print(income_df['State'].value_counts())\n",
        "\n",
        "  # This prints all cells belonging to each State\n",
        "  #for name, group in income_df.groupby('State'):\n",
        "  #  print(name, group)\n",
        "  \n",
        "  # Now the index will be state names\n",
        "  df_groupby_state = income_df.groupby('State')\n",
        "\n",
        "  #for state, frame in df_groupby_state:\n",
        "  #  print(f\"First 2 entries for {state!r}\")\n",
        "  #  print(\"------------------------\")\n",
        "   # print(frame.head(2), end=\"\\n\\n\")\n",
        "\n",
        "  # To get a particular group\n",
        "  #print(df_groupby_state.get_group('TX'))\n",
        "\n",
        "  #for state, frame in df_groupby_state:\n",
        "  #  print(f\"Average age for {state!r}\")\n",
        "  #  print(\"------------------------\")\n",
        "  #  print(frame['Age'].mean(), end=\"\\n\\n\")\n",
        "\n",
        "  #print(df_groupby_state.describe())\n",
        "  \n",
        "  # To get an overview of stats per state\n",
        "  #for state, frame in df_groupby_state:\n",
        "  #  print(f\"Average age for {state!r}\")\n",
        "  #  print(\"------------------------\")\n",
        "  #  print(frame.describe(), end=\"\\n\\n\")\n",
        "\n",
        "  # Plot one state data\n",
        "  #df_groupby_state.get_group('MD').plot()\n",
        "\n",
        "  # This plots each key for each state together\n",
        "  #df_groupby_state.plot(kind='bar')\n",
        "  #plt.show()\n",
        "\n",
        "  # Have a look at index, its not by State name but as 0,1,2...\n",
        "  df_groupby_state_no_idx = income_df.groupby('State', as_index=False) #.apply(display)\n",
        "  #print(df_groupby_state_no_idx.info)\n",
        "  #for state, frame in df_groupby_state_no_idx:\n",
        "   # print(f\"First 2 entries for {state!r}\")\n",
        "   # print(\"------------------------\")\n",
        "   # print(frame.head(2), end=\"\\n\\n\")\n",
        "\n",
        "  #Does not work plt.bar(df_groupby_state_no_idx['Age'], df_groupby_state_no_idx['Income'])\n",
        "\n",
        "  # FIXME Learn how to plot all keys using some sort of iteration?\n",
        "  # This works\n",
        "  #df_groupby_state['Age'].mean().plot(kind='bar', title='Age Comparison', ylabel='Mean Age', xlabel='State', figsize=(6, 5), color=\"green\")\n",
        "  # .plot is only plotting the plot, its not gonna show (except for the last plot)\n",
        "  # If .show() is not called, only last plot will be shown. \n",
        "  #plt.show()\n",
        "  #df_groupby_state['Pop'].mean().plot(kind='bar', title='Population Comparison', ylabel='Mean pop', xlabel='State', figsize=(6, 5), color=\"indigo\")\n",
        "  #plt.show()\n",
        "  #df_groupby_state['Income'].mean().plot(kind='bar', title='Income Comparison', ylabel='Mean income', xlabel='State', figsize=(6, 5), color=\"orange\")\n",
        "  #plt.show()\n",
        "\n",
        "  df_groupby_state[['Income', 'Age', 'Pop']].mean().plot(kind='bar', title='Income Comparison', ylabel='Mean income', xlabel='State', figsize=(6, 5))\n",
        "  plt.show()\n",
        "\n",
        "  # Correlation FIXME Understand how to extract info from it\n",
        "  #state_corr = df_groupby_state.corr()\n",
        "  #print(state_corr)\n",
        "  #print(state_corr.describe())\n",
        "\n",
        "\n",
        "  # 3. Add a description, in the cell below, of what the statistics show and why in the text box.\n",
        "  \n",
        "  \n",
        "\n",
        "\n",
        "calculate_stat()\n"
      ],
      "execution_count": 35,
      "outputs": [
        {
          "output_type": "display_data",
          "data": {
            "image/png": "[encoded data removed]",
            "text/plain": [
              "<Figure size 432x360 with 1 Axes>"
            ]
          },
          "metadata": {
            "tags": [],
            "needs_background": "light"
          }
        },
        {
          "output_type": "stream",
          "text": [
            "Average age for 'CA'\n",
            "------------------------\n",
            "             Age     Income        Pop\n",
            "count   3.000000   3.000000   3.000000\n",
            "mean   33.000000  66.333333  31.333333\n",
            "std     3.464102  12.013881  22.030282\n",
            "min    29.000000  54.000000  10.000000\n",
            "25%    32.000000  60.500000  20.000000\n",
            "50%    35.000000  67.000000  30.000000\n",
            "75%    35.000000  72.500000  42.000000\n",
            "max    35.000000  78.000000  54.000000\n",
            "\n",
            "Average age for 'IN'\n",
            "------------------------\n",
            "             Age     Income        Pop\n",
            "count   3.000000   3.000000   3.000000\n",
            "mean   38.000000  46.333333  17.333333\n",
            "std     5.196152  19.629909  10.692677\n",
            "min    32.000000  35.000000   5.000000\n",
            "25%    36.500000  35.000000  14.000000\n",
            "50%    41.000000  35.000000  23.000000\n",
            "75%    41.000000  52.000000  23.500000\n",
            "max    41.000000  69.000000  24.000000\n",
            "\n",
            "Average age for 'MD'\n",
            "------------------------\n",
            "             Age     Income        Pop\n",
            "count  13.000000  13.000000  13.000000\n",
            "mean   28.076923  64.230769  44.384615\n",
            "std     5.203549  16.931991  30.845147\n",
            "min    22.000000  22.000000   5.000000\n",
            "25%    25.000000  65.000000  21.000000\n",
            "50%    27.000000  69.000000  34.000000\n",
            "75%    30.000000  73.000000  64.000000\n",
            "max    41.000000  81.000000  98.000000\n",
            "\n",
            "Average age for 'NY'\n",
            "------------------------\n",
            "             Age     Income        Pop\n",
            "count   3.000000   3.000000   3.000000\n",
            "mean   32.333333  74.333333  12.000000\n",
            "std     2.886751   6.350853   5.567764\n",
            "min    29.000000  67.000000   7.000000\n",
            "25%    31.500000  72.500000   9.000000\n",
            "50%    34.000000  78.000000  11.000000\n",
            "75%    34.000000  78.000000  14.500000\n",
            "max    34.000000  78.000000  18.000000\n",
            "\n",
            "Average age for 'TX'\n",
            "------------------------\n",
            "             Age     Income        Pop\n",
            "count  11.000000  11.000000  11.000000\n",
            "mean   34.181818  59.454545  39.181818\n",
            "std     6.161464   9.668129  26.049254\n",
            "min    23.000000  45.000000   5.000000\n",
            "25%    32.000000  53.500000  24.500000\n",
            "50%    35.000000  62.000000  28.000000\n",
            "75%    38.000000  65.500000  62.000000\n",
            "max    42.000000  75.000000  82.000000\n",
            "\n"
          ],
          "name": "stdout"
        }
      ]
    }
  ]
}